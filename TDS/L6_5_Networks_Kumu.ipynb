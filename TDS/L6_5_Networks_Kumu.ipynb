{
  "cells": [
    {
      "cell_type": "markdown",
      "metadata": {
        "id": "view-in-github",
        "colab_type": "text"
      },
      "source": [
        "<a href=\"https://colab.research.google.com/github/dineshkumarsarangapani/Machine_learning_IITM/blob/main/TDS/L6_5_Networks_Kumu.ipynb\" target=\"_parent\"><img src=\"https://colab.research.google.com/assets/colab-badge.svg\" alt=\"Open In Colab\"/></a>"
      ]
    },
    {
      "cell_type": "code",
      "execution_count": null,
      "metadata": {
        "id": "oRhCBO947Foz"
      },
      "outputs": [],
      "source": [
        "import numpy as np\n",
        "import pandas as pd"
      ]
    },
    {
      "cell_type": "code",
      "execution_count": null,
      "metadata": {
        "id": "KZUpdNzZrRwe"
      },
      "outputs": [],
      "source": [
        "!pip install scikit-network==0.24.0\n"
      ]
    },
    {
      "cell_type": "code",
      "execution_count": null,
      "metadata": {
        "id": "ddh680Po7Kuy"
      },
      "outputs": [],
      "source": [
        "# Download the data\n",
        "!rm *.tsv.gz\n",
        "# !wget -q https://datasets.imdbws.com/name.basics.tsv.gz\n",
        "# !wget -q https://datasets.imdbws.com/title.akas.tsv.gz\n",
        "# !wget -q https://datasets.imdbws.com/title.basics.tsv.gz\n",
        "# !wget -q https://datasets.imdbws.com/title.akas.tsv.gz\n",
        "# !ls -la\n",
        "\n",
        "!wget -q https://datasets.imdbws.com/name.basics.tsv.gz\n",
        "!wget -q https://datasets.imdbws.com/title.akas.tsv.gz\n",
        "!wget -q https://datasets.imdbws.com/title.basics.tsv.gz\n",
        "!wget -q https://datasets.imdbws.com/title.crew.tsv.gz\n",
        "!wget -q https://datasets.imdbws.com/title.episode.tsv.gz\n",
        "!wget -q https://datasets.imdbws.com/title.principals.tsv.gz\n",
        "!wget -q https://datasets.imdbws.com/title.ratings.tsv.gz\n",
        "!ls -la"
      ]
    },
    {
      "cell_type": "code",
      "execution_count": null,
      "metadata": {
        "id": "aMMtJGk-7Zn8"
      },
      "outputs": [],
      "source": [
        "# Load the titles\n",
        "title = pd.read_csv('title.basics.tsv.gz', sep='\\t', low_memory=False).set_index('tconst')[['titleType', 'primaryTitle', 'startYear']]\n",
        "title.head()"
      ]
    },
    {
      "cell_type": "code",
      "execution_count": null,
      "metadata": {
        "id": "1EAe1CjZr56M"
      },
      "outputs": [],
      "source": [
        "title = title[title['startYear'].str.find('\\\\N')==-1]"
      ]
    },
    {
      "cell_type": "code",
      "execution_count": null,
      "metadata": {
        "id": "TfMvEAymtDwL"
      },
      "outputs": [],
      "source": [
        "title['startYear'] = title.startYear.values.astype('int')"
      ]
    },
    {
      "cell_type": "code",
      "execution_count": null,
      "metadata": {
        "id": "US7dRNQ9tRoA"
      },
      "outputs": [],
      "source": [
        "title = title[title['startYear']>=2005]"
      ]
    },
    {
      "cell_type": "code",
      "execution_count": null,
      "metadata": {
        "id": "_8zOWKiIqRlj"
      },
      "outputs": [],
      "source": [
        "# !rm *.tsv.gz\n",
        "# !wget -q https://datasets.imdbws.com/name.basics.tsv.gz\n",
        "# !wget -q https://datasets.imdbws.com/title.principals.tsv.gz  \n",
        "# !wget -q https://datasets.imdbws.com/title.basics.tsv.gz\n",
        "# !wget -q https://datasets.imdbws.com/title.akas.tsv.gz\n",
        "# !ls -la"
      ]
    },
    {
      "cell_type": "code",
      "execution_count": null,
      "metadata": {
        "id": "YNGuyRhu7nF4"
      },
      "outputs": [],
      "source": [
        "# Download the data\n",
        "# !rm *.tsv.gz\n",
        "# !wget -q https://datasets.imdbws.com/name.basics.tsv.gz\n",
        "# !wget -q https://datasets.imdbws.com/title.principals.tsv.gz\n",
        "# !wget -q https://datasets.imdbws.com/title.basics.tsv.gz\n",
        "# !wget -q https://datasets.imdbws.com/title.principals.akas.gz\n",
        "# !wget -q https://datasets.imdbws.com/title.akas.tsv.gz\n",
        "!ls -la\n",
        "#Load the titles\n",
        "title = pd.read_csv('title.basics.tsv.gz', sep='\\t', low_memory=False).set_index('tconst')[['titleType', 'primaryTitle', 'startYear','genres']]\n",
        "title.head()\n",
        "\n"
      ]
    },
    {
      "cell_type": "code",
      "source": [
        "genere = title['genres'].unique()\n",
        "title.shape"
      ],
      "metadata": {
        "id": "OkeDvJXVE1cp"
      },
      "execution_count": null,
      "outputs": []
    },
    {
      "cell_type": "code",
      "source": [
        "# for g in genere:\n",
        "  # print(g)"
      ],
      "metadata": {
        "id": "7Ye0pgmtGRUq"
      },
      "execution_count": null,
      "outputs": []
    },
    {
      "cell_type": "code",
      "execution_count": null,
      "metadata": {
        "id": "QN7l2HlJv6rm"
      },
      "outputs": [],
      "source": [
        "title = title[title['titleType'] == 'movie']\n",
        "title = title[title['startYear'].str.find('\\\\N')==-1]\n",
        "title['startYear'] = title.startYear.values.astype('int')\n",
        "title = title[title['startYear']>=2005]\n",
        "title = title[title['genres'].str.contains('Comedy')]"
      ]
    },
    {
      "cell_type": "code",
      "source": [
        "len(title)"
      ],
      "metadata": {
        "id": "IW49ouzbfm--"
      },
      "execution_count": null,
      "outputs": []
    },
    {
      "cell_type": "code",
      "source": [
        "\n",
        "title.index"
      ],
      "metadata": {
        "id": "FrFdk_agg1dL"
      },
      "execution_count": null,
      "outputs": []
    },
    {
      "cell_type": "code",
      "source": [
        "title.columns"
      ],
      "metadata": {
        "id": "zAE_Jsj6gQNU"
      },
      "execution_count": null,
      "outputs": []
    },
    {
      "cell_type": "code",
      "source": [
        "# from google.colab import files\n",
        "# title.to_csv('file1.csv')\n",
        "# files.download('file1.csv') "
      ],
      "metadata": {
        "id": "4KKvCYxjiarz"
      },
      "execution_count": null,
      "outputs": []
    },
    {
      "cell_type": "code",
      "execution_count": null,
      "metadata": {
        "id": "-I-018iqusF8"
      },
      "outputs": [],
      "source": [
        "# Load the cast of each film\n",
        "cast = pd.read_csv('title.principals.tsv.gz', sep='\\t', low_memory=False)[['tconst', 'nconst', 'category']]\n",
        "# Only consider actors, not directors, composers, etc. Shrinks data to about 40%\n",
        "cast = cast[cast.category.isin({'actor', 'actress'})]\n",
        "# movies = title[title['titleType'] == 'movie']\n",
        "# cast = cast[cast['tconst'].isin(movies.index)]\n",
        "cast.head()"
      ]
    },
    {
      "cell_type": "code",
      "source": [
        "# Load the cast of each film\n",
        "cast = pd.read_csv('title.principals.tsv.gz', sep='\\t', usecols=['tconst', 'nconst', 'category'], dtype={'tconst':'str', 'nconst':'str', 'category': 'str'}, na_values='\\\\N').set_index('tconst')\n",
        "# Only consider actors, not directors, composers, etc. Shrinks data to about 40%\n",
        "cast = cast[cast.category.isin({'actor', 'actress'})]\n",
        "# movies = title[title['titleType'] == 'movie']\n",
        "# cast = cast[cast['tconst'].isin(movies.index)]\n",
        "cast.head()"
      ],
      "metadata": {
        "id": "Tlg7Zq9vai2A"
      },
      "execution_count": null,
      "outputs": []
    },
    {
      "cell_type": "code",
      "execution_count": null,
      "metadata": {
        "id": "tziMlzUX7paI"
      },
      "outputs": [],
      "source": [
        "# Only consider movies, not TV series, etc. Shrinks data to ~5%\n",
        "movies = title[title['titleType'] == 'movie']\n",
        "# cast = cast[cast['tconst'].isin(movies.index)]\n",
        "# # This is what the network looks like\n",
        "# cast.head()"
      ]
    },
    {
      "cell_type": "code",
      "execution_count": null,
      "metadata": {
        "id": "O1Zr38DY7pxI"
      },
      "outputs": [],
      "source": [
        "# Restrict data to just a single region (e.g. IN, US, etc)\n",
        "# This loads the region for each title\n",
        "\n",
        "\n",
        "region = pd.read_csv('title.akas.tsv.gz', sep='\\t', low_memory=True).set_index('titleId')['region']\n",
        "region.head(10)\n",
        "# new_region = region[region['language'] == 'hi']"
      ]
    },
    {
      "cell_type": "code",
      "source": [
        "new_region=pd.DataFrame(region)"
      ],
      "metadata": {
        "id": "hNLLfhD6bKTo"
      },
      "execution_count": null,
      "outputs": []
    },
    {
      "cell_type": "code",
      "source": [
        "new_region.head()"
      ],
      "metadata": {
        "id": "PFZ4Yfx8bOh1"
      },
      "execution_count": null,
      "outputs": []
    },
    {
      "cell_type": "code",
      "source": [
        "new_region['region'].unique()"
      ],
      "metadata": {
        "id": "hoKCSezMbmmO"
      },
      "execution_count": null,
      "outputs": []
    },
    {
      "cell_type": "code",
      "source": [
        "\n",
        "new_region2 = new_region[new_region['region'] == 'US']"
      ],
      "metadata": {
        "id": "vIH65Qz-aFVG"
      },
      "execution_count": null,
      "outputs": []
    },
    {
      "cell_type": "code",
      "source": [
        "new_region2"
      ],
      "metadata": {
        "id": "6IhR8DupaYVV"
      },
      "execution_count": null,
      "outputs": []
    },
    {
      "cell_type": "code",
      "source": [
        "# from google.colab import files\n",
        "# new_region2.to_csv('file2.csv')\n",
        "# files.download('file2.csv') "
      ],
      "metadata": {
        "id": "SnJ8ZNQacL7t"
      },
      "execution_count": null,
      "outputs": []
    },
    {
      "cell_type": "code",
      "execution_count": null,
      "metadata": {
        "id": "w-Zws6xl7rvY"
      },
      "outputs": [],
      "source": [
        "# Load the name data along with birth year\n",
        "name = pd.read_csv('name.basics.tsv.gz', sep='\\t', na_values='\\\\N', dtype={'birthYear': float}).set_index('nconst')[['primaryName', 'birthYear']]"
      ]
    },
    {
      "cell_type": "code",
      "execution_count": null,
      "metadata": {
        "id": "3MGar2VJe5Jp"
      },
      "outputs": [],
      "source": [
        "name.head()"
      ]
    },
    {
      "cell_type": "code",
      "source": [
        "# from google.colab import files\n",
        "# name.to_csv('file3.csv')\n",
        "# files.download('file3.csv') "
      ],
      "metadata": {
        "id": "YdF-Oqk1dKp3"
      },
      "execution_count": null,
      "outputs": []
    },
    {
      "cell_type": "code",
      "source": [
        "len(name)"
      ],
      "metadata": {
        "id": "2_H-QPUhe5n9"
      },
      "execution_count": null,
      "outputs": []
    },
    {
      "cell_type": "code",
      "execution_count": null,
      "metadata": {
        "id": "TKeHT5snD2i3"
      },
      "outputs": [],
      "source": [
        "from scipy.sparse import csr_matrix"
      ]
    },
    {
      "cell_type": "code",
      "execution_count": null,
      "metadata": {
        "id": "PNIpXvWU7t-0"
      },
      "outputs": [],
      "source": [
        "def get_pairs(lang='IN', min_acted=1, min_pairings=1):\n",
        "     '''\n",
        "#     Returns an adjacency matrix and actor mapping of actor pairs where:\n",
        "#     - Each actor has acted in at least min_acted films\n",
        "#     - The two actors have acted together in at least min_pairings films\n",
        "#     - And (optionally), belong to a region `lang` (IN, UN, etc)\n",
        "#     '''\n",
        "     graph = cast\n",
        "     if lang is 'IN':\n",
        "        graph = graph[graph['tconst'].isin(region[region == lang].index)]\n",
        "        pairs = pairs.drop(columns=['row', 'col'])\n",
        "        pairs.columns = ['count', 'name1', 'year1', 'name2', 'year2']\n",
        "     return pairs.sort_values('count', ascending=False)\n",
        "\n",
        "pairs, cat = get_pairs('IN', 1, 1)\n"
      ]
    },
    {
      "cell_type": "code",
      "execution_count": null,
      "metadata": {
        "id": "SR0kaaSL9JW0"
      },
      "outputs": [],
      "source": [
        "cat"
      ]
    },
    {
      "cell_type": "code",
      "execution_count": null,
      "metadata": {
        "id": "rH1cOFTc8g2B"
      },
      "outputs": [],
      "source": [
        "pairs"
      ]
    },
    {
      "cell_type": "code",
      "execution_count": null,
      "metadata": {
        "id": "AFYDSe7h8oGS"
      },
      "outputs": [],
      "source": [
        "ForKumu = lookup(pairs, cat)\n",
        "ForKumu"
      ]
    },
    {
      "cell_type": "code",
      "execution_count": null,
      "metadata": {
        "id": "Cw_jXWQJ8rXp"
      },
      "outputs": [],
      "source": [
        "ForKumu = ForKumu[['name1', 'name2', 'count']]\n",
        "ForKumu = ForKumu.rename(columns={'name1':'From',\n",
        "                                  'name2':'To',\n",
        "                                  'count':'Strength'})\n",
        "ForKumu"
      ]
    },
    {
      "cell_type": "code",
      "execution_count": null,
      "metadata": {
        "id": "IUMfIBPN9zHw"
      },
      "outputs": [],
      "source": [
        "ForKumu.to_excel(\"pairs.xlsx\", index = False)"
      ]
    },
    {
      "cell_type": "code",
      "execution_count": null,
      "metadata": {
        "id": "8u_Gkf-Lb3Ct"
      },
      "outputs": [],
      "source": []
    }
  ],
  "metadata": {
    "accelerator": "GPU",
    "colab": {
      "provenance": [],
      "private_outputs": true,
      "include_colab_link": true
    },
    "gpuClass": "standard",
    "kernelspec": {
      "display_name": "Python 3",
      "name": "python3"
    },
    "language_info": {
      "name": "python"
    }
  },
  "nbformat": 4,
  "nbformat_minor": 0
}