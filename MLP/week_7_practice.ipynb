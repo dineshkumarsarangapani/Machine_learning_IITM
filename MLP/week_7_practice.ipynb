{
  "nbformat": 4,
  "nbformat_minor": 0,
  "metadata": {
    "colab": {
      "provenance": [],
      "authorship_tag": "ABX9TyOC9ynAa/HHZvO+yI7KffFm",
      "include_colab_link": true
    },
    "kernelspec": {
      "name": "python3",
      "display_name": "Python 3"
    },
    "language_info": {
      "name": "python"
    }
  },
  "cells": [
    {
      "cell_type": "markdown",
      "metadata": {
        "id": "view-in-github",
        "colab_type": "text"
      },
      "source": [
        "<a href=\"https://colab.research.google.com/github/dineshkumarsarangapani/Machine_learning_IITM/blob/main/MLP/week_7_practice.ipynb\" target=\"_parent\"><img src=\"https://colab.research.google.com/assets/colab-badge.svg\" alt=\"Open In Colab\"/></a>"
      ]
    },
    {
      "cell_type": "code",
      "execution_count": 1,
      "metadata": {
        "id": "vhjw7khJbPqu"
      },
      "outputs": [],
      "source": [
        "import numpy as np\n",
        "\n",
        "x=np.array([[1000, 0.5], [2000, 0.6], [1500,0.3], [990,1.0], [5400,0.7]])"
      ]
    },
    {
      "cell_type": "code",
      "source": [
        "y = np.array([11,20,42,16,25])"
      ],
      "metadata": {
        "id": "W5zGicVZGiAo"
      },
      "execution_count": 2,
      "outputs": []
    },
    {
      "cell_type": "code",
      "source": [
        "from sklearn.pipeline import Pipeline\n",
        "from sklearn.preprocessing import MinMaxScaler\n",
        "from sklearn.neighbors import KNeighborsRegressor\n",
        "\n",
        "knn = KNeighborsRegressor(metric='euclidean', n_neighbors=3)\n",
        "\n",
        "pp = Pipeline([(\"minmz\", MinMaxScaler()), ('knn', knn )])"
      ],
      "metadata": {
        "id": "fj4hNu5DHvAK"
      },
      "execution_count": 3,
      "outputs": []
    },
    {
      "cell_type": "code",
      "source": [],
      "metadata": {
        "id": "jUyoLPLqGx6c"
      },
      "execution_count": 3,
      "outputs": []
    },
    {
      "cell_type": "code",
      "source": [
        "pp.fit(x, y)"
      ],
      "metadata": {
        "colab": {
          "base_uri": "https://localhost:8080/",
          "height": 126
        },
        "id": "unXbJW_xHlVZ",
        "outputId": "5fa51efa-85df-482f-d5cc-ce8c41663c07"
      },
      "execution_count": 4,
      "outputs": [
        {
          "output_type": "execute_result",
          "data": {
            "text/plain": [
              "Pipeline(steps=[('minmz', MinMaxScaler()),\n",
              "                ('knn',\n",
              "                 KNeighborsRegressor(metric='euclidean', n_neighbors=3))])"
            ],
            "text/html": [
              "<style>#sk-container-id-1 {color: black;background-color: white;}#sk-container-id-1 pre{padding: 0;}#sk-container-id-1 div.sk-toggleable {background-color: white;}#sk-container-id-1 label.sk-toggleable__label {cursor: pointer;display: block;width: 100%;margin-bottom: 0;padding: 0.3em;box-sizing: border-box;text-align: center;}#sk-container-id-1 label.sk-toggleable__label-arrow:before {content: \"▸\";float: left;margin-right: 0.25em;color: #696969;}#sk-container-id-1 label.sk-toggleable__label-arrow:hover:before {color: black;}#sk-container-id-1 div.sk-estimator:hover label.sk-toggleable__label-arrow:before {color: black;}#sk-container-id-1 div.sk-toggleable__content {max-height: 0;max-width: 0;overflow: hidden;text-align: left;background-color: #f0f8ff;}#sk-container-id-1 div.sk-toggleable__content pre {margin: 0.2em;color: black;border-radius: 0.25em;background-color: #f0f8ff;}#sk-container-id-1 input.sk-toggleable__control:checked~div.sk-toggleable__content {max-height: 200px;max-width: 100%;overflow: auto;}#sk-container-id-1 input.sk-toggleable__control:checked~label.sk-toggleable__label-arrow:before {content: \"▾\";}#sk-container-id-1 div.sk-estimator input.sk-toggleable__control:checked~label.sk-toggleable__label {background-color: #d4ebff;}#sk-container-id-1 div.sk-label input.sk-toggleable__control:checked~label.sk-toggleable__label {background-color: #d4ebff;}#sk-container-id-1 input.sk-hidden--visually {border: 0;clip: rect(1px 1px 1px 1px);clip: rect(1px, 1px, 1px, 1px);height: 1px;margin: -1px;overflow: hidden;padding: 0;position: absolute;width: 1px;}#sk-container-id-1 div.sk-estimator {font-family: monospace;background-color: #f0f8ff;border: 1px dotted black;border-radius: 0.25em;box-sizing: border-box;margin-bottom: 0.5em;}#sk-container-id-1 div.sk-estimator:hover {background-color: #d4ebff;}#sk-container-id-1 div.sk-parallel-item::after {content: \"\";width: 100%;border-bottom: 1px solid gray;flex-grow: 1;}#sk-container-id-1 div.sk-label:hover label.sk-toggleable__label {background-color: #d4ebff;}#sk-container-id-1 div.sk-serial::before {content: \"\";position: absolute;border-left: 1px solid gray;box-sizing: border-box;top: 0;bottom: 0;left: 50%;z-index: 0;}#sk-container-id-1 div.sk-serial {display: flex;flex-direction: column;align-items: center;background-color: white;padding-right: 0.2em;padding-left: 0.2em;position: relative;}#sk-container-id-1 div.sk-item {position: relative;z-index: 1;}#sk-container-id-1 div.sk-parallel {display: flex;align-items: stretch;justify-content: center;background-color: white;position: relative;}#sk-container-id-1 div.sk-item::before, #sk-container-id-1 div.sk-parallel-item::before {content: \"\";position: absolute;border-left: 1px solid gray;box-sizing: border-box;top: 0;bottom: 0;left: 50%;z-index: -1;}#sk-container-id-1 div.sk-parallel-item {display: flex;flex-direction: column;z-index: 1;position: relative;background-color: white;}#sk-container-id-1 div.sk-parallel-item:first-child::after {align-self: flex-end;width: 50%;}#sk-container-id-1 div.sk-parallel-item:last-child::after {align-self: flex-start;width: 50%;}#sk-container-id-1 div.sk-parallel-item:only-child::after {width: 0;}#sk-container-id-1 div.sk-dashed-wrapped {border: 1px dashed gray;margin: 0 0.4em 0.5em 0.4em;box-sizing: border-box;padding-bottom: 0.4em;background-color: white;}#sk-container-id-1 div.sk-label label {font-family: monospace;font-weight: bold;display: inline-block;line-height: 1.2em;}#sk-container-id-1 div.sk-label-container {text-align: center;}#sk-container-id-1 div.sk-container {/* jupyter's `normalize.less` sets `[hidden] { display: none; }` but bootstrap.min.css set `[hidden] { display: none !important; }` so we also need the `!important` here to be able to override the default hidden behavior on the sphinx rendered scikit-learn.org. See: https://github.com/scikit-learn/scikit-learn/issues/21755 */display: inline-block !important;position: relative;}#sk-container-id-1 div.sk-text-repr-fallback {display: none;}</style><div id=\"sk-container-id-1\" class=\"sk-top-container\"><div class=\"sk-text-repr-fallback\"><pre>Pipeline(steps=[(&#x27;minmz&#x27;, MinMaxScaler()),\n",
              "                (&#x27;knn&#x27;,\n",
              "                 KNeighborsRegressor(metric=&#x27;euclidean&#x27;, n_neighbors=3))])</pre><b>In a Jupyter environment, please rerun this cell to show the HTML representation or trust the notebook. <br />On GitHub, the HTML representation is unable to render, please try loading this page with nbviewer.org.</b></div><div class=\"sk-container\" hidden><div class=\"sk-item sk-dashed-wrapped\"><div class=\"sk-label-container\"><div class=\"sk-label sk-toggleable\"><input class=\"sk-toggleable__control sk-hidden--visually\" id=\"sk-estimator-id-1\" type=\"checkbox\" ><label for=\"sk-estimator-id-1\" class=\"sk-toggleable__label sk-toggleable__label-arrow\">Pipeline</label><div class=\"sk-toggleable__content\"><pre>Pipeline(steps=[(&#x27;minmz&#x27;, MinMaxScaler()),\n",
              "                (&#x27;knn&#x27;,\n",
              "                 KNeighborsRegressor(metric=&#x27;euclidean&#x27;, n_neighbors=3))])</pre></div></div></div><div class=\"sk-serial\"><div class=\"sk-item\"><div class=\"sk-estimator sk-toggleable\"><input class=\"sk-toggleable__control sk-hidden--visually\" id=\"sk-estimator-id-2\" type=\"checkbox\" ><label for=\"sk-estimator-id-2\" class=\"sk-toggleable__label sk-toggleable__label-arrow\">MinMaxScaler</label><div class=\"sk-toggleable__content\"><pre>MinMaxScaler()</pre></div></div></div><div class=\"sk-item\"><div class=\"sk-estimator sk-toggleable\"><input class=\"sk-toggleable__control sk-hidden--visually\" id=\"sk-estimator-id-3\" type=\"checkbox\" ><label for=\"sk-estimator-id-3\" class=\"sk-toggleable__label sk-toggleable__label-arrow\">KNeighborsRegressor</label><div class=\"sk-toggleable__content\"><pre>KNeighborsRegressor(metric=&#x27;euclidean&#x27;, n_neighbors=3)</pre></div></div></div></div></div></div></div>"
            ]
          },
          "metadata": {},
          "execution_count": 4
        }
      ]
    },
    {
      "cell_type": "code",
      "source": [
        "pp.predict(np.array([[1700, 0.2]]))"
      ],
      "metadata": {
        "colab": {
          "base_uri": "https://localhost:8080/"
        },
        "id": "YollrJVAHnEy",
        "outputId": "d128d2e1-c803-4865-db51-fa91ae3c008a"
      },
      "execution_count": 5,
      "outputs": [
        {
          "output_type": "execute_result",
          "data": {
            "text/plain": [
              "array([24.33333333])"
            ]
          },
          "metadata": {},
          "execution_count": 5
        }
      ]
    },
    {
      "cell_type": "markdown",
      "source": [
        "# Text Feature extraction"
      ],
      "metadata": {
        "id": "AAs8OTHON6Hx"
      }
    },
    {
      "cell_type": "code",
      "source": [
        "text_data=['A metaverse is a network of 3D virtual worlds focused on social connection.',\n",
        "           'In futurism and science fiction, the term is often described as a hypothetical iteration of the Internet as a single', \n",
        "           'universal virtual world that is facilitated by the use of virtual and augmented reality headsets.',\n",
        "           'The term \"metaverse\" has its origins  the 1992 science fiction novel Snow Crash as a portmanteau of \"meta\" and \"universe.\"',\n",
        "           'Various metaverses have been developed for popular use such as virtual world platforms like Second Life.',\n",
        "           'Some metaverse iterations involve integration between virtual and physical spaces and virtual economies',\n",
        "           'often including a significant interest in advancing virtual reality technology.', \n",
        "           'The term has seen considerable use as a buzzword for public relations purposes to exaggerate development progress for various related technologies and projects.[10] Information privacy and user addiction are concerns within metaverses',\n",
        "           'stemming from challenges facing the social media and video game industries as a whole.']"
      ],
      "metadata": {
        "id": "97q4aXTOHtTn"
      },
      "execution_count": 6,
      "outputs": []
    },
    {
      "cell_type": "markdown",
      "source": [
        "Vectorize the given text data using countvectorizer() object. What is the shape of text_data after vectorization?"
      ],
      "metadata": {
        "id": "yQVOwLue9B3e"
      }
    },
    {
      "cell_type": "code",
      "source": [
        "from sklearn.feature_extraction.text import CountVectorizer\n",
        "\n",
        "cc = CountVectorizer(min_df=2)"
      ],
      "metadata": {
        "id": "fsBAgERN9CZv"
      },
      "execution_count": 34,
      "outputs": []
    },
    {
      "cell_type": "code",
      "source": [
        "# CountVectorizer?\n"
      ],
      "metadata": {
        "id": "-ISqga1X9UCm"
      },
      "execution_count": 35,
      "outputs": []
    },
    {
      "cell_type": "code",
      "source": [
        "tran = cc.fit_transform(text_data)"
      ],
      "metadata": {
        "id": "S7XopViP9I4W"
      },
      "execution_count": 36,
      "outputs": []
    },
    {
      "cell_type": "code",
      "source": [
        "tran.shape"
      ],
      "metadata": {
        "colab": {
          "base_uri": "https://localhost:8080/"
        },
        "id": "uWOD-wJr9Kkw",
        "outputId": "4ea3ecd3-194d-4199-ca67-7cc72e2115f0"
      },
      "execution_count": 37,
      "outputs": [
        {
          "output_type": "execute_result",
          "data": {
            "text/plain": [
              "(9, 20)"
            ]
          },
          "metadata": {},
          "execution_count": 37
        }
      ]
    },
    {
      "cell_type": "code",
      "source": [
        "tokens = cc.get_feature_names_out()"
      ],
      "metadata": {
        "id": "c1ZFQBe99QZj"
      },
      "execution_count": 38,
      "outputs": []
    },
    {
      "cell_type": "code",
      "source": [
        "i = 1\n",
        "for t in tokens:\n",
        "  print(i, t)\n",
        "  i = i +1"
      ],
      "metadata": {
        "colab": {
          "base_uri": "https://localhost:8080/"
        },
        "id": "XKumnhFH9qIT",
        "outputId": "8eec471a-5dc3-4583-d369-d4c9af45657f"
      },
      "execution_count": 30,
      "outputs": [
        {
          "output_type": "stream",
          "name": "stdout",
          "text": [
            "1 10\n",
            "2 1992\n",
            "3 3d\n",
            "4 addiction\n",
            "5 advancing\n",
            "6 and\n",
            "7 are\n",
            "8 as\n",
            "9 augmented\n",
            "10 been\n",
            "11 between\n",
            "12 buzzword\n",
            "13 by\n",
            "14 challenges\n",
            "15 concerns\n",
            "16 connection\n",
            "17 considerable\n",
            "18 crash\n",
            "19 described\n",
            "20 developed\n",
            "21 development\n",
            "22 economies\n",
            "23 exaggerate\n",
            "24 facilitated\n",
            "25 facing\n",
            "26 fiction\n",
            "27 focused\n",
            "28 for\n",
            "29 from\n",
            "30 futurism\n",
            "31 game\n",
            "32 has\n",
            "33 have\n",
            "34 headsets\n",
            "35 hypothetical\n",
            "36 in\n",
            "37 including\n",
            "38 industries\n",
            "39 information\n",
            "40 integration\n",
            "41 interest\n",
            "42 internet\n",
            "43 involve\n",
            "44 is\n",
            "45 iteration\n",
            "46 iterations\n",
            "47 its\n",
            "48 life\n",
            "49 like\n",
            "50 media\n",
            "51 meta\n",
            "52 metaverse\n",
            "53 metaverses\n",
            "54 network\n",
            "55 novel\n",
            "56 of\n",
            "57 often\n",
            "58 on\n",
            "59 origins\n",
            "60 physical\n",
            "61 platforms\n",
            "62 popular\n",
            "63 portmanteau\n",
            "64 privacy\n",
            "65 progress\n",
            "66 projects\n",
            "67 public\n",
            "68 purposes\n",
            "69 reality\n",
            "70 related\n",
            "71 relations\n",
            "72 science\n",
            "73 second\n",
            "74 seen\n",
            "75 significant\n",
            "76 single\n",
            "77 snow\n",
            "78 social\n",
            "79 some\n",
            "80 spaces\n",
            "81 stemming\n",
            "82 such\n",
            "83 technologies\n",
            "84 technology\n",
            "85 term\n",
            "86 that\n",
            "87 the\n",
            "88 to\n",
            "89 universal\n",
            "90 universe\n",
            "91 use\n",
            "92 user\n",
            "93 various\n",
            "94 video\n",
            "95 virtual\n",
            "96 whole\n",
            "97 within\n",
            "98 world\n",
            "99 worlds\n"
          ]
        }
      ]
    },
    {
      "cell_type": "code",
      "source": [
        "Docs = ['This is the first question.', 'This document is the second document.', 'And this is the third one' ]"
      ],
      "metadata": {
        "id": "hMYuOT-I_4lB"
      },
      "execution_count": 39,
      "outputs": []
    },
    {
      "cell_type": "code",
      "source": [
        "doc_count = CountVectorizer(max_features = 10)"
      ],
      "metadata": {
        "id": "fiUlRwMXCRPc"
      },
      "execution_count": 40,
      "outputs": []
    },
    {
      "cell_type": "code",
      "source": [
        "doc_tokens = doc_count.fit_transform(Docs)"
      ],
      "metadata": {
        "id": "jq-6S4saCaPc"
      },
      "execution_count": 41,
      "outputs": []
    },
    {
      "cell_type": "code",
      "source": [
        "doc_tokens.toarray()"
      ],
      "metadata": {
        "colab": {
          "base_uri": "https://localhost:8080/"
        },
        "id": "T8Djl5LBCeNy",
        "outputId": "36f9a9ed-b511-463d-8a70-c3d5156dc676"
      },
      "execution_count": 42,
      "outputs": [
        {
          "output_type": "execute_result",
          "data": {
            "text/plain": [
              "array([[0, 0, 1, 1, 0, 1, 0, 1, 0, 1],\n",
              "       [0, 2, 0, 1, 0, 0, 1, 1, 0, 1],\n",
              "       [1, 0, 0, 1, 1, 0, 0, 1, 1, 1]])"
            ]
          },
          "metadata": {},
          "execution_count": 42
        }
      ]
    },
    {
      "cell_type": "code",
      "source": [
        "X = np.asarray([[72, 69 ,82],\n",
        " [ 9 ,79, 99],\n",
        " [20 ,47, 88],\n",
        " [80 ,64, 49]])\n",
        "p= np.asarray([[0,0,0]])\n",
        "k=1 "
      ],
      "metadata": {
        "id": "C1JLip3LCfsS"
      },
      "execution_count": 56,
      "outputs": []
    },
    {
      "cell_type": "code",
      "source": [
        "from sklearn.neighbors import NearestNeighbors\n"
      ],
      "metadata": {
        "id": "3hmlxQ9WDizV"
      },
      "execution_count": 44,
      "outputs": []
    },
    {
      "cell_type": "code",
      "source": [
        "# NearestNeighbors?"
      ],
      "metadata": {
        "id": "s94LrZmOD4zs"
      },
      "execution_count": 48,
      "outputs": []
    },
    {
      "cell_type": "code",
      "source": [
        "nn = NearestNeighbors()"
      ],
      "metadata": {
        "id": "TMzFXB6HDuO4"
      },
      "execution_count": 58,
      "outputs": []
    },
    {
      "cell_type": "code",
      "source": [
        "nn.fit(X)"
      ],
      "metadata": {
        "colab": {
          "base_uri": "https://localhost:8080/",
          "height": 75
        },
        "id": "7Hv-YoTRDv0a",
        "outputId": "47d40e2c-c191-4e8f-fa36-e99536989e44"
      },
      "execution_count": 59,
      "outputs": [
        {
          "output_type": "execute_result",
          "data": {
            "text/plain": [
              "NearestNeighbors()"
            ],
            "text/html": [
              "<style>#sk-container-id-6 {color: black;background-color: white;}#sk-container-id-6 pre{padding: 0;}#sk-container-id-6 div.sk-toggleable {background-color: white;}#sk-container-id-6 label.sk-toggleable__label {cursor: pointer;display: block;width: 100%;margin-bottom: 0;padding: 0.3em;box-sizing: border-box;text-align: center;}#sk-container-id-6 label.sk-toggleable__label-arrow:before {content: \"▸\";float: left;margin-right: 0.25em;color: #696969;}#sk-container-id-6 label.sk-toggleable__label-arrow:hover:before {color: black;}#sk-container-id-6 div.sk-estimator:hover label.sk-toggleable__label-arrow:before {color: black;}#sk-container-id-6 div.sk-toggleable__content {max-height: 0;max-width: 0;overflow: hidden;text-align: left;background-color: #f0f8ff;}#sk-container-id-6 div.sk-toggleable__content pre {margin: 0.2em;color: black;border-radius: 0.25em;background-color: #f0f8ff;}#sk-container-id-6 input.sk-toggleable__control:checked~div.sk-toggleable__content {max-height: 200px;max-width: 100%;overflow: auto;}#sk-container-id-6 input.sk-toggleable__control:checked~label.sk-toggleable__label-arrow:before {content: \"▾\";}#sk-container-id-6 div.sk-estimator input.sk-toggleable__control:checked~label.sk-toggleable__label {background-color: #d4ebff;}#sk-container-id-6 div.sk-label input.sk-toggleable__control:checked~label.sk-toggleable__label {background-color: #d4ebff;}#sk-container-id-6 input.sk-hidden--visually {border: 0;clip: rect(1px 1px 1px 1px);clip: rect(1px, 1px, 1px, 1px);height: 1px;margin: -1px;overflow: hidden;padding: 0;position: absolute;width: 1px;}#sk-container-id-6 div.sk-estimator {font-family: monospace;background-color: #f0f8ff;border: 1px dotted black;border-radius: 0.25em;box-sizing: border-box;margin-bottom: 0.5em;}#sk-container-id-6 div.sk-estimator:hover {background-color: #d4ebff;}#sk-container-id-6 div.sk-parallel-item::after {content: \"\";width: 100%;border-bottom: 1px solid gray;flex-grow: 1;}#sk-container-id-6 div.sk-label:hover label.sk-toggleable__label {background-color: #d4ebff;}#sk-container-id-6 div.sk-serial::before {content: \"\";position: absolute;border-left: 1px solid gray;box-sizing: border-box;top: 0;bottom: 0;left: 50%;z-index: 0;}#sk-container-id-6 div.sk-serial {display: flex;flex-direction: column;align-items: center;background-color: white;padding-right: 0.2em;padding-left: 0.2em;position: relative;}#sk-container-id-6 div.sk-item {position: relative;z-index: 1;}#sk-container-id-6 div.sk-parallel {display: flex;align-items: stretch;justify-content: center;background-color: white;position: relative;}#sk-container-id-6 div.sk-item::before, #sk-container-id-6 div.sk-parallel-item::before {content: \"\";position: absolute;border-left: 1px solid gray;box-sizing: border-box;top: 0;bottom: 0;left: 50%;z-index: -1;}#sk-container-id-6 div.sk-parallel-item {display: flex;flex-direction: column;z-index: 1;position: relative;background-color: white;}#sk-container-id-6 div.sk-parallel-item:first-child::after {align-self: flex-end;width: 50%;}#sk-container-id-6 div.sk-parallel-item:last-child::after {align-self: flex-start;width: 50%;}#sk-container-id-6 div.sk-parallel-item:only-child::after {width: 0;}#sk-container-id-6 div.sk-dashed-wrapped {border: 1px dashed gray;margin: 0 0.4em 0.5em 0.4em;box-sizing: border-box;padding-bottom: 0.4em;background-color: white;}#sk-container-id-6 div.sk-label label {font-family: monospace;font-weight: bold;display: inline-block;line-height: 1.2em;}#sk-container-id-6 div.sk-label-container {text-align: center;}#sk-container-id-6 div.sk-container {/* jupyter's `normalize.less` sets `[hidden] { display: none; }` but bootstrap.min.css set `[hidden] { display: none !important; }` so we also need the `!important` here to be able to override the default hidden behavior on the sphinx rendered scikit-learn.org. See: https://github.com/scikit-learn/scikit-learn/issues/21755 */display: inline-block !important;position: relative;}#sk-container-id-6 div.sk-text-repr-fallback {display: none;}</style><div id=\"sk-container-id-6\" class=\"sk-top-container\"><div class=\"sk-text-repr-fallback\"><pre>NearestNeighbors()</pre><b>In a Jupyter environment, please rerun this cell to show the HTML representation or trust the notebook. <br />On GitHub, the HTML representation is unable to render, please try loading this page with nbviewer.org.</b></div><div class=\"sk-container\" hidden><div class=\"sk-item\"><div class=\"sk-estimator sk-toggleable\"><input class=\"sk-toggleable__control sk-hidden--visually\" id=\"sk-estimator-id-8\" type=\"checkbox\" checked><label for=\"sk-estimator-id-8\" class=\"sk-toggleable__label sk-toggleable__label-arrow\">NearestNeighbors</label><div class=\"sk-toggleable__content\"><pre>NearestNeighbors()</pre></div></div></div></div></div>"
            ]
          },
          "metadata": {},
          "execution_count": 59
        }
      ]
    },
    {
      "cell_type": "code",
      "source": [
        "y = nn.kneighbors(p, k, return_distance=False)\n",
        "y"
      ],
      "metadata": {
        "colab": {
          "base_uri": "https://localhost:8080/"
        },
        "id": "mec8KQU4DxDx",
        "outputId": "ab12adb8-7b98-48bd-e039-fd867708b733"
      },
      "execution_count": 63,
      "outputs": [
        {
          "output_type": "execute_result",
          "data": {
            "text/plain": [
              "array([[2]])"
            ]
          },
          "metadata": {},
          "execution_count": 63
        }
      ]
    },
    {
      "cell_type": "code",
      "source": [
        "X[y[0]]"
      ],
      "metadata": {
        "colab": {
          "base_uri": "https://localhost:8080/"
        },
        "id": "2FDCyYnqECWk",
        "outputId": "9639e6b4-857f-4244-a0ac-731ad3c24877"
      },
      "execution_count": 64,
      "outputs": [
        {
          "output_type": "execute_result",
          "data": {
            "text/plain": [
              "array([[20, 47, 88]])"
            ]
          },
          "metadata": {},
          "execution_count": 64
        }
      ]
    },
    {
      "cell_type": "markdown",
      "source": [
        "Load digit dataset on Colab (datasets.load_digits()) and use softmax regression to build the model Using following steps.\n",
        " Step 1: Load the dataset and split it using train_test_split by keeping: test_size= 0.2 random_state=10\n",
        "\n",
        " Step 2: Use standard scaler as a scaling function to scale the training as well as test data.\n",
        "\n",
        " Step 3: Use Logisticregression() as an estimator and set parameter (multi_class='multinomial', solver='sag') to predict the output."
      ],
      "metadata": {
        "id": "-2KGEnstFC2Y"
      }
    },
    {
      "cell_type": "code",
      "source": [
        "from sklearn.datasets import load_digits\n",
        "\n",
        "dd = load_digits(as_frame=True)"
      ],
      "metadata": {
        "id": "SBBqjJ0IEx_8"
      },
      "execution_count": 69,
      "outputs": []
    },
    {
      "cell_type": "code",
      "source": [
        "from sklearn.preprocessing import StandardScaler\n",
        "from sklearn.model_selection import train_test_split\n",
        "\n",
        "X_train, X_test, y_train, y_test = train_test_split(dd.data, dd.target, test_size=0.2, random_state=10)"
      ],
      "metadata": {
        "id": "qbnZYxhlK2Hz"
      },
      "execution_count": 75,
      "outputs": []
    },
    {
      "cell_type": "code",
      "source": [
        "from sklearn.linear_model import LogisticRegression\n",
        "\n",
        "pipeSoftmax = Pipeline([(\"Scale\", StandardScaler()), ('reg', LogisticRegression(multi_class='multinomial', solver='sag'))])"
      ],
      "metadata": {
        "id": "UKipPmpULTta"
      },
      "execution_count": 76,
      "outputs": []
    },
    {
      "cell_type": "code",
      "source": [
        "pipeSoftmax.fit(X_train, y_train)"
      ],
      "metadata": {
        "colab": {
          "base_uri": "https://localhost:8080/",
          "height": 182
        },
        "id": "aVTqe-M5LnD_",
        "outputId": "01684cca-0599-4957-ece2-cac07aaa0a4e"
      },
      "execution_count": 77,
      "outputs": [
        {
          "output_type": "stream",
          "name": "stderr",
          "text": [
            "/usr/local/lib/python3.9/dist-packages/sklearn/linear_model/_sag.py:350: ConvergenceWarning: The max_iter was reached which means the coef_ did not converge\n",
            "  warnings.warn(\n"
          ]
        },
        {
          "output_type": "execute_result",
          "data": {
            "text/plain": [
              "Pipeline(steps=[('Scale', StandardScaler()),\n",
              "                ('reg',\n",
              "                 LogisticRegression(multi_class='multinomial', solver='sag'))])"
            ],
            "text/html": [
              "<style>#sk-container-id-7 {color: black;background-color: white;}#sk-container-id-7 pre{padding: 0;}#sk-container-id-7 div.sk-toggleable {background-color: white;}#sk-container-id-7 label.sk-toggleable__label {cursor: pointer;display: block;width: 100%;margin-bottom: 0;padding: 0.3em;box-sizing: border-box;text-align: center;}#sk-container-id-7 label.sk-toggleable__label-arrow:before {content: \"▸\";float: left;margin-right: 0.25em;color: #696969;}#sk-container-id-7 label.sk-toggleable__label-arrow:hover:before {color: black;}#sk-container-id-7 div.sk-estimator:hover label.sk-toggleable__label-arrow:before {color: black;}#sk-container-id-7 div.sk-toggleable__content {max-height: 0;max-width: 0;overflow: hidden;text-align: left;background-color: #f0f8ff;}#sk-container-id-7 div.sk-toggleable__content pre {margin: 0.2em;color: black;border-radius: 0.25em;background-color: #f0f8ff;}#sk-container-id-7 input.sk-toggleable__control:checked~div.sk-toggleable__content {max-height: 200px;max-width: 100%;overflow: auto;}#sk-container-id-7 input.sk-toggleable__control:checked~label.sk-toggleable__label-arrow:before {content: \"▾\";}#sk-container-id-7 div.sk-estimator input.sk-toggleable__control:checked~label.sk-toggleable__label {background-color: #d4ebff;}#sk-container-id-7 div.sk-label input.sk-toggleable__control:checked~label.sk-toggleable__label {background-color: #d4ebff;}#sk-container-id-7 input.sk-hidden--visually {border: 0;clip: rect(1px 1px 1px 1px);clip: rect(1px, 1px, 1px, 1px);height: 1px;margin: -1px;overflow: hidden;padding: 0;position: absolute;width: 1px;}#sk-container-id-7 div.sk-estimator {font-family: monospace;background-color: #f0f8ff;border: 1px dotted black;border-radius: 0.25em;box-sizing: border-box;margin-bottom: 0.5em;}#sk-container-id-7 div.sk-estimator:hover {background-color: #d4ebff;}#sk-container-id-7 div.sk-parallel-item::after {content: \"\";width: 100%;border-bottom: 1px solid gray;flex-grow: 1;}#sk-container-id-7 div.sk-label:hover label.sk-toggleable__label {background-color: #d4ebff;}#sk-container-id-7 div.sk-serial::before {content: \"\";position: absolute;border-left: 1px solid gray;box-sizing: border-box;top: 0;bottom: 0;left: 50%;z-index: 0;}#sk-container-id-7 div.sk-serial {display: flex;flex-direction: column;align-items: center;background-color: white;padding-right: 0.2em;padding-left: 0.2em;position: relative;}#sk-container-id-7 div.sk-item {position: relative;z-index: 1;}#sk-container-id-7 div.sk-parallel {display: flex;align-items: stretch;justify-content: center;background-color: white;position: relative;}#sk-container-id-7 div.sk-item::before, #sk-container-id-7 div.sk-parallel-item::before {content: \"\";position: absolute;border-left: 1px solid gray;box-sizing: border-box;top: 0;bottom: 0;left: 50%;z-index: -1;}#sk-container-id-7 div.sk-parallel-item {display: flex;flex-direction: column;z-index: 1;position: relative;background-color: white;}#sk-container-id-7 div.sk-parallel-item:first-child::after {align-self: flex-end;width: 50%;}#sk-container-id-7 div.sk-parallel-item:last-child::after {align-self: flex-start;width: 50%;}#sk-container-id-7 div.sk-parallel-item:only-child::after {width: 0;}#sk-container-id-7 div.sk-dashed-wrapped {border: 1px dashed gray;margin: 0 0.4em 0.5em 0.4em;box-sizing: border-box;padding-bottom: 0.4em;background-color: white;}#sk-container-id-7 div.sk-label label {font-family: monospace;font-weight: bold;display: inline-block;line-height: 1.2em;}#sk-container-id-7 div.sk-label-container {text-align: center;}#sk-container-id-7 div.sk-container {/* jupyter's `normalize.less` sets `[hidden] { display: none; }` but bootstrap.min.css set `[hidden] { display: none !important; }` so we also need the `!important` here to be able to override the default hidden behavior on the sphinx rendered scikit-learn.org. See: https://github.com/scikit-learn/scikit-learn/issues/21755 */display: inline-block !important;position: relative;}#sk-container-id-7 div.sk-text-repr-fallback {display: none;}</style><div id=\"sk-container-id-7\" class=\"sk-top-container\"><div class=\"sk-text-repr-fallback\"><pre>Pipeline(steps=[(&#x27;Scale&#x27;, StandardScaler()),\n",
              "                (&#x27;reg&#x27;,\n",
              "                 LogisticRegression(multi_class=&#x27;multinomial&#x27;, solver=&#x27;sag&#x27;))])</pre><b>In a Jupyter environment, please rerun this cell to show the HTML representation or trust the notebook. <br />On GitHub, the HTML representation is unable to render, please try loading this page with nbviewer.org.</b></div><div class=\"sk-container\" hidden><div class=\"sk-item sk-dashed-wrapped\"><div class=\"sk-label-container\"><div class=\"sk-label sk-toggleable\"><input class=\"sk-toggleable__control sk-hidden--visually\" id=\"sk-estimator-id-9\" type=\"checkbox\" ><label for=\"sk-estimator-id-9\" class=\"sk-toggleable__label sk-toggleable__label-arrow\">Pipeline</label><div class=\"sk-toggleable__content\"><pre>Pipeline(steps=[(&#x27;Scale&#x27;, StandardScaler()),\n",
              "                (&#x27;reg&#x27;,\n",
              "                 LogisticRegression(multi_class=&#x27;multinomial&#x27;, solver=&#x27;sag&#x27;))])</pre></div></div></div><div class=\"sk-serial\"><div class=\"sk-item\"><div class=\"sk-estimator sk-toggleable\"><input class=\"sk-toggleable__control sk-hidden--visually\" id=\"sk-estimator-id-10\" type=\"checkbox\" ><label for=\"sk-estimator-id-10\" class=\"sk-toggleable__label sk-toggleable__label-arrow\">StandardScaler</label><div class=\"sk-toggleable__content\"><pre>StandardScaler()</pre></div></div></div><div class=\"sk-item\"><div class=\"sk-estimator sk-toggleable\"><input class=\"sk-toggleable__control sk-hidden--visually\" id=\"sk-estimator-id-11\" type=\"checkbox\" ><label for=\"sk-estimator-id-11\" class=\"sk-toggleable__label sk-toggleable__label-arrow\">LogisticRegression</label><div class=\"sk-toggleable__content\"><pre>LogisticRegression(multi_class=&#x27;multinomial&#x27;, solver=&#x27;sag&#x27;)</pre></div></div></div></div></div></div></div>"
            ]
          },
          "metadata": {},
          "execution_count": 77
        }
      ]
    },
    {
      "cell_type": "code",
      "source": [
        "pipeSoftmax.score(X_test, y_test)"
      ],
      "metadata": {
        "colab": {
          "base_uri": "https://localhost:8080/"
        },
        "id": "bRD7dhgeLpga",
        "outputId": "c1230804-7c5b-4ed2-801d-81ef1d38f240"
      },
      "execution_count": 78,
      "outputs": [
        {
          "output_type": "execute_result",
          "data": {
            "text/plain": [
              "0.9666666666666667"
            ]
          },
          "metadata": {},
          "execution_count": 78
        }
      ]
    },
    {
      "cell_type": "code",
      "source": [
        "dd.data.shape"
      ],
      "metadata": {
        "colab": {
          "base_uri": "https://localhost:8080/"
        },
        "id": "5MkQDS8EL3U2",
        "outputId": "a3df9fbd-71ae-46fa-9465-d98f72c7e32b"
      },
      "execution_count": 79,
      "outputs": [
        {
          "output_type": "execute_result",
          "data": {
            "text/plain": [
              "(1797, 64)"
            ]
          },
          "metadata": {},
          "execution_count": 79
        }
      ]
    },
    {
      "cell_type": "code",
      "source": [
        "lendd.target[dd.target==7]"
      ],
      "metadata": {
        "colab": {
          "base_uri": "https://localhost:8080/"
        },
        "id": "jOsVDRe5L8qu",
        "outputId": "1e859779-4e5c-4e1a-f5a6-bb507de4449d"
      },
      "execution_count": 81,
      "outputs": [
        {
          "output_type": "execute_result",
          "data": {
            "text/plain": [
              "7       7\n",
              "17      7\n",
              "27      7\n",
              "43      7\n",
              "44      7\n",
              "       ..\n",
              "1753    7\n",
              "1761    7\n",
              "1775    7\n",
              "1779    7\n",
              "1785    7\n",
              "Name: target, Length: 179, dtype: int64"
            ]
          },
          "metadata": {},
          "execution_count": 81
        }
      ]
    },
    {
      "cell_type": "code",
      "source": [
        "y_pred = pipeSoftmax.predict(X_test)"
      ],
      "metadata": {
        "id": "9BymxbrtL_U1"
      },
      "execution_count": 82,
      "outputs": []
    },
    {
      "cell_type": "code",
      "source": [
        "from sklearn.metrics import f1_score\n",
        "\n",
        "f1_score(y_pred, y_test, average='weighted')"
      ],
      "metadata": {
        "colab": {
          "base_uri": "https://localhost:8080/"
        },
        "id": "FBgxsaqSMIk1",
        "outputId": "99f64217-9bed-47ea-9c02-c080d218c99a"
      },
      "execution_count": 84,
      "outputs": [
        {
          "output_type": "execute_result",
          "data": {
            "text/plain": [
              "0.9664226411526639"
            ]
          },
          "metadata": {},
          "execution_count": 84
        }
      ]
    },
    {
      "cell_type": "markdown",
      "source": [
        "\n",
        "# Define a function called distance in python with the following signature: def distance( x0 : \"A vector as np.array\", X: \"A list of vectors as np.ndarray\", p : \"p value for Minkowsky distance. Default 2, for Eucledian\"):\n",
        "\n",
        "    which returns a list of calculated Minkowsky distances between the point x0 and all points in X. Recall that the p-Minkowsky distance between\n",
        "   \n",
        "![Screenshot 2023-04-01 at 7.51.06 PM.png](data:image/png;base64,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)\n",
        "​\n",
        " \n",
        " \n",
        "\n",
        "      Do not use any predefined function to calculate the same. \n",
        "      Consider, X0 = np.array([1,0,0,0]), X= np.asarray([[1, 0, 0,0], [0, 1, 1,1],[1,2,0,0]]), p= 2 then, what is the output of the function distance(X0,X,p) ?"
      ],
      "metadata": {
        "id": "XDuWNYLxMUZf"
      }
    },
    {
      "cell_type": "code",
      "source": [
        "X0 = np.array([1,0,0,0])\n",
        "X= np.asarray([[1, 0, 0,0], [0, 1, 1,1],[1,2,0,0]])\n",
        "p= 2"
      ],
      "metadata": {
        "id": "NyiBrAj-MMXs"
      },
      "execution_count": 85,
      "outputs": []
    },
    {
      "cell_type": "code",
      "source": [
        "def distance( x0 :  np.array, X:np.ndarray, p:int = 2) -> list:\n",
        "  \n",
        "  if (X.shape[1] == 1) and (np.asarray(x0).size == 1) :  #if x0 is scalar and X is an array of scalars\n",
        "      pass\n",
        "  else:  assert x0.shape[0] == X.shape[1], \"Input vectors must have identical dimension\"\n",
        "\n",
        "  assert p>0, \"p must be positive integer\"\n",
        "\n",
        "  dist = lambda y : np.power(  np.sum(  np.power(  np.abs(x0-y)  ,p)  )  , 1/p  )\n",
        "\n",
        "  return [dist(y) for y in X]"
      ],
      "metadata": {
        "id": "f-rEDvf1M3tI"
      },
      "execution_count": 86,
      "outputs": []
    },
    {
      "cell_type": "code",
      "source": [
        "distance(X0, X, p=2)"
      ],
      "metadata": {
        "colab": {
          "base_uri": "https://localhost:8080/"
        },
        "id": "sxN9J1D5NM7W",
        "outputId": "4e36470a-750d-470c-a4b6-c7764d3e307e"
      },
      "execution_count": 87,
      "outputs": [
        {
          "output_type": "execute_result",
          "data": {
            "text/plain": [
              "[0.0, 2.0, 2.0]"
            ]
          },
          "metadata": {},
          "execution_count": 87
        }
      ]
    },
    {
      "cell_type": "code",
      "source": [],
      "metadata": {
        "id": "3mdaa0wSNPXa"
      },
      "execution_count": null,
      "outputs": []
    }
  ]
}