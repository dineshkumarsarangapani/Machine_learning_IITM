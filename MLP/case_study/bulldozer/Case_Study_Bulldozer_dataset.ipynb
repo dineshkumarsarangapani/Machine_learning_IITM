{
  "nbformat": 4,
  "nbformat_minor": 0,
  "metadata": {
    "colab": {
      "provenance": [],
      "include_colab_link": true
    },
    "kernelspec": {
      "name": "python3",
      "display_name": "Python 3"
    },
    "language_info": {
      "name": "python"
    },
    "gpuClass": "standard"
  },
  "cells": [
    {
      "cell_type": "markdown",
      "metadata": {
        "id": "view-in-github",
        "colab_type": "text"
      },
      "source": [
        "<a href=\"https://colab.research.google.com/github/dineshkumarsarangapani/Machine_learning_IITM/blob/main/MLP/case_study/bulldozer/Case_Study_Bulldozer_dataset.ipynb\" target=\"_parent\"><img src=\"https://colab.research.google.com/assets/colab-badge.svg\" alt=\"Open In Colab\"/></a>"
      ]
    },
    {
      "cell_type": "markdown",
      "source": [
        "The dataset for this colab is available: [Training and validation set](https://drive.google.com/file/d/1Ji3oeXia4H4dd4bWpxkgTRfECS6Avn1d/view?usp=sharing) and [Test dataset](https://drive.google.com/file/d/1FWyWSnHNb28bit3mj2xrW5KpcvPKglGo/view?usp=sharing). "
      ],
      "metadata": {
        "id": "x6Vpa6IYKqOO"
      }
    },
    {
      "cell_type": "markdown",
      "source": [
        "The purpose of this study was to forecast the auction sale price of a specific piece of heavy equipment (a bulldozer) based on its usage, equipment type, and configuration. The information comes from auction result postings and covers use and equipment settings.\n",
        "The RMSLE (root mean squared log error) between the actual and forecast auction prices is the competition's evaluation metric.\n",
        "\n",
        "The data page contains links to sample submission files. Files submitted should be formatted as follows:\n",
        "\n",
        "A newly created` header  `SalesID,SalePrice`;\n",
        "has two columns:\n",
        "\n",
        "`SalesID`: The validation set's SalesID in sorted order;\n",
        "`SalePrice`: Your estimated sale price."
      ],
      "metadata": {
        "id": "AgcnUgJdNktO"
      }
    },
    {
      "cell_type": "markdown",
      "source": [
        "# [Root Mean Squared Log Error (RMSLE)](https://www.kaggle.com/code/carlolepelaars/understanding-the-metric-rmsle)"
      ],
      "metadata": {
        "id": "cjbeq3WIRfQf"
      }
    },
    {
      "cell_type": "markdown",
      "source": [
        "The formula for RMSLE is as follows:\n",
        "\n",
        "$RMSLE=\\sqrt{\\frac{1}{n}\\sum_{i=1}^{n}(log(p_i +1)-log(a_i +1))^2}$\n",
        "\n",
        "where:\n",
        "\n",
        "$n$  is the total number of observations in the (public/private) data set,\n",
        "\n",
        "$p_i$  is the prediction of target, and\n",
        "\n",
        "$a_i$  is the actual target for  $i$ .\n",
        "\n",
        "$log(x)$  is the natural logarithm of  $x  ( log_e(x)$ ."
      ],
      "metadata": {
        "id": "MfgWJyEMRnIY"
      }
    },
    {
      "cell_type": "markdown",
      "source": [
        "#Prepare tools"
      ],
      "metadata": {
        "id": "bxjELoXBOpOq"
      }
    },
    {
      "cell_type": "markdown",
      "source": [
        "##Random Forest Regression\n",
        "\n",
        "Every decision tree has a significant variance, but when we mix all of them in parallel, the final variance is low since each decision tree is perfectly trained on that specific sample data, and so the outcome is dependent on numerous decision trees rather than one. In the case of a classification problem, the majority voting classifier is used to determine the final output. The final output of a regression problem is the mean of all the outputs. Aggregation is the name given to this section.\n",
        "\n",
        "Random Forest is an ensemble technique that can handle both regression and classification tasks by combining many decision trees and a technique known as Bootstrap and Aggregation, or bagging. The core idea is to use numerous decision trees to determine the final output rather than depending on individual decision trees."
      ],
      "metadata": {
        "id": "DBXWt5_u6CDp"
      }
    },
    {
      "cell_type": "code",
      "execution_count": null,
      "metadata": {
        "id": "qBzs7gZBuMS8"
      },
      "outputs": [],
      "source": [
        "# import exploratory data analysis and plotting libraries\n",
        "import numpy as np\n",
        "import pandas as pd\n",
        "import matplotlib.pyplot as plt\n",
        "\n",
        "%matplotlib inline\n",
        "\n",
        "# models from scikit-learn\n",
        "from sklearn.ensemble import RandomForestRegressor\n",
        "\n",
        "# model evaluations\n",
        "from sklearn.model_selection import train_test_split\n",
        "from sklearn.model_selection import RandomizedSearchCV, GridSearchCV"
      ]
    },
    {
      "cell_type": "markdown",
      "source": [
        "#Inspect data"
      ],
      "metadata": {
        "id": "12dosoGSOwAG"
      }
    },
    {
      "cell_type": "markdown",
      "source": [
        "#Q1\n",
        "Import the training and validation dataset `TrainAndValid.csv` with `low_memory=False`and priint first 5 rows of the dataset. What is the `auctionerrID` for `SalesID=1139246`? \n",
        "\n"
      ],
      "metadata": {
        "id": "ShvNBef29oQW"
      }
    },
    {
      "cell_type": "markdown",
      "source": [
        "#Q2\n",
        "How many non-null values are there in the state column?\n",
        "\n"
      ],
      "metadata": {
        "id": "CNZojXK7_OqI"
      }
    },
    {
      "cell_type": "code",
      "source": [],
      "metadata": {
        "id": "DwgPtFij4J4x"
      },
      "execution_count": null,
      "outputs": []
    }
  ]
}