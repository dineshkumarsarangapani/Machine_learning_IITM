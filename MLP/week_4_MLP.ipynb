{
  "nbformat": 4,
  "nbformat_minor": 0,
  "metadata": {
    "colab": {
      "provenance": [],
      "authorship_tag": "ABX9TyOvKoyXnuoYpHlO3wozPq0o",
      "include_colab_link": true
    },
    "kernelspec": {
      "name": "python3",
      "display_name": "Python 3"
    },
    "language_info": {
      "name": "python"
    }
  },
  "cells": [
    {
      "cell_type": "markdown",
      "metadata": {
        "id": "view-in-github",
        "colab_type": "text"
      },
      "source": [
        "<a href=\"https://colab.research.google.com/github/dineshkumarsarangapani/Machine_learning_IITM/blob/main/MLP/week_4_MLP.ipynb\" target=\"_parent\"><img src=\"https://colab.research.google.com/assets/colab-badge.svg\" alt=\"Open In Colab\"/></a>"
      ]
    },
    {
      "cell_type": "code",
      "source": [
        "X = [[1, 2], [3, 4], [1, 2], [3, 4]]"
      ],
      "metadata": {
        "id": "X1qVO_ijTEKp"
      },
      "execution_count": null,
      "outputs": []
    },
    {
      "cell_type": "code",
      "execution_count": null,
      "metadata": {
        "id": "_TKZNLsZSiUM"
      },
      "outputs": [],
      "source": [
        "from sklearn.model_selection import RepeatedKFold\n",
        "def k_fold_cv():\n",
        "  rkf = RepeatedKFold(n_splits=2, n_repeats=2, random_state=0)\n",
        "  return rkf\n",
        "\n",
        "k = k_fold_cv()"
      ]
    },
    {
      "cell_type": "code",
      "source": [
        "for i, (train_index, test_index) in enumerate(k.split(X)):\n",
        "     print(f\"Fold {i}:\")\n",
        "     print(f\"  Train: index={train_index}\")\n",
        "     print(f\"  Test:  index={test_index}\")"
      ],
      "metadata": {
        "colab": {
          "base_uri": "https://localhost:8080/"
        },
        "id": "xTVEe2e5SntO",
        "outputId": "25e9e514-82c9-4d22-80b3-af433335d7c1"
      },
      "execution_count": null,
      "outputs": [
        {
          "output_type": "stream",
          "name": "stdout",
          "text": [
            "Fold 0:\n",
            "  Train: index=[0 1]\n",
            "  Test:  index=[2 3]\n",
            "Fold 1:\n",
            "  Train: index=[2 3]\n",
            "  Test:  index=[0 1]\n",
            "Fold 2:\n",
            "  Train: index=[1 3]\n",
            "  Test:  index=[0 2]\n",
            "Fold 3:\n",
            "  Train: index=[0 2]\n",
            "  Test:  index=[1 3]\n"
          ]
        }
      ]
    },
    {
      "cell_type": "code",
      "source": [
        "from sklearn.datasets import fetch_california_housing\n",
        "\n",
        "X, y = fetch_california_housing(return_X_y = True)"
      ],
      "metadata": {
        "id": "1vWleuFhS6uv"
      },
      "execution_count": null,
      "outputs": []
    },
    {
      "cell_type": "code",
      "source": [
        "from sklearn.model_selection import train_test_split\n",
        "\n",
        "X_train, X_test, y_train, y_test = train_test_split(X, y, random_state = 1, test_size=0.3)"
      ],
      "metadata": {
        "id": "bej4Ps0aXpUe"
      },
      "execution_count": null,
      "outputs": []
    },
    {
      "cell_type": "code",
      "source": [
        "from sklearn.preprocessing import StandardScaler\n",
        "\n",
        "scaler = StandardScaler(with_mean = True, with_std=True)\n",
        "X_train_new = scaler.fit_transform(X_train, y_train)\n",
        "X_test_new =scaler.fit(X_test)"
      ],
      "metadata": {
        "id": "tpPy4_t8YKfN"
      },
      "execution_count": null,
      "outputs": []
    },
    {
      "cell_type": "code",
      "source": [
        "from sklearn.model_selection import GridSearchCV\n",
        "from sklearn.linear_model import SGDRegressor\n",
        "\n",
        "\n",
        "sgd = SGDRegressor(random_state = 1)\n",
        "parameters = {'loss':['squared_error', 'huber'], 'penalty':['l1', 'l2'], 'alpha': [0.1, 0.01, 0.001], 'max_iter':[1000,2000,5000]}\n",
        "clf = GridSearchCV(sgd, parameters, cv=4,)\n",
        "clf.fit(X_train_new, y_train)\n",
        "sorted(clf.cv_results_.keys())"
      ],
      "metadata": {
        "colab": {
          "base_uri": "https://localhost:8080/"
        },
        "id": "V-m5h1iTXJiU",
        "outputId": "f385f8c1-6a09-4218-d520-fbe7c1160a6f"
      },
      "execution_count": null,
      "outputs": [
        {
          "output_type": "execute_result",
          "data": {
            "text/plain": [
              "['mean_fit_time',\n",
              " 'mean_score_time',\n",
              " 'mean_test_score',\n",
              " 'param_alpha',\n",
              " 'param_loss',\n",
              " 'param_max_iter',\n",
              " 'param_penalty',\n",
              " 'params',\n",
              " 'rank_test_score',\n",
              " 'split0_test_score',\n",
              " 'split1_test_score',\n",
              " 'split2_test_score',\n",
              " 'split3_test_score',\n",
              " 'std_fit_time',\n",
              " 'std_score_time',\n",
              " 'std_test_score']"
            ]
          },
          "metadata": {},
          "execution_count": 30
        }
      ]
    },
    {
      "cell_type": "code",
      "source": [
        "clf.best_score_"
      ],
      "metadata": {
        "colab": {
          "base_uri": "https://localhost:8080/"
        },
        "id": "4fUt7tYzZW1l",
        "outputId": "b90e9256-9924-4944-c3d4-980cc4ba45b6"
      },
      "execution_count": null,
      "outputs": [
        {
          "output_type": "execute_result",
          "data": {
            "text/plain": [
              "0.5940759016569894"
            ]
          },
          "metadata": {},
          "execution_count": 31
        }
      ]
    },
    {
      "cell_type": "code",
      "source": [
        "clf.best_params_"
      ],
      "metadata": {
        "colab": {
          "base_uri": "https://localhost:8080/"
        },
        "id": "aESoXhnMZ7_J",
        "outputId": "2aa31814-a2c9-44f6-dd82-70c2943e60be"
      },
      "execution_count": null,
      "outputs": [
        {
          "output_type": "execute_result",
          "data": {
            "text/plain": [
              "{'alpha': 0.01, 'loss': 'squared_error', 'max_iter': 1000, 'penalty': 'l1'}"
            ]
          },
          "metadata": {},
          "execution_count": 32
        }
      ]
    },
    {
      "cell_type": "code",
      "source": [
        "from sklearn.model_selection import GridSearchCV\n",
        "from sklearn.linear_model import Ridge\n",
        "\n",
        "\n",
        "sgd = Ridge(random_state = 1)\n",
        "parameters = {'alpha': [0.5,0.1,0.05,0.01,0.005,0.001], 'fit_intercept':[True, False]}\n",
        "clf = GridSearchCV(sgd, parameters, cv=4)\n",
        "clf.fit(X_train_new, y_train)\n",
        "sorted(clf.cv_results_.keys())\n"
      ],
      "metadata": {
        "colab": {
          "base_uri": "https://localhost:8080/"
        },
        "id": "0Xl9zOkpae4F",
        "outputId": "c08d5ce9-997b-458e-c854-0c5062ecbf6b"
      },
      "execution_count": null,
      "outputs": [
        {
          "output_type": "execute_result",
          "data": {
            "text/plain": [
              "['mean_fit_time',\n",
              " 'mean_score_time',\n",
              " 'mean_test_score',\n",
              " 'param_alpha',\n",
              " 'param_fit_intercept',\n",
              " 'params',\n",
              " 'rank_test_score',\n",
              " 'split0_test_score',\n",
              " 'split1_test_score',\n",
              " 'split2_test_score',\n",
              " 'split3_test_score',\n",
              " 'std_fit_time',\n",
              " 'std_score_time',\n",
              " 'std_test_score']"
            ]
          },
          "metadata": {},
          "execution_count": 33
        }
      ]
    },
    {
      "cell_type": "code",
      "source": [
        "clf.best_score_"
      ],
      "metadata": {
        "colab": {
          "base_uri": "https://localhost:8080/"
        },
        "id": "X6LcKmTuawMl",
        "outputId": "ad5b9f6c-2ab2-4e11-cdff-ee969774c72e"
      },
      "execution_count": null,
      "outputs": [
        {
          "output_type": "execute_result",
          "data": {
            "text/plain": [
              "0.6047118356067289"
            ]
          },
          "metadata": {},
          "execution_count": 34
        }
      ]
    },
    {
      "cell_type": "code",
      "source": [
        "clf.best_params_"
      ],
      "metadata": {
        "colab": {
          "base_uri": "https://localhost:8080/"
        },
        "id": "GKD4p6tqaxCF",
        "outputId": "f907d1b3-9499-4e8b-8862-d8e92ab0e1c3"
      },
      "execution_count": null,
      "outputs": [
        {
          "output_type": "execute_result",
          "data": {
            "text/plain": [
              "{'alpha': 0.5, 'fit_intercept': True}"
            ]
          },
          "metadata": {},
          "execution_count": 35
        }
      ]
    },
    {
      "cell_type": "code",
      "source": [
        "from sklearn.model_selection import GridSearchCV\n",
        "from sklearn.linear_model import Lasso\n",
        "\n",
        "\n",
        "sgd = Lasso(random_state = 1)\n",
        "parameters = {'alpha': [0.5,0.1,0.05,0.01,0.005,0.001], 'fit_intercept':[True, False]}\n",
        "clf = GridSearchCV(sgd, parameters, cv=6)\n",
        "clf.fit(X_train_new, y_train)\n",
        "sorted(clf.cv_results_.keys())"
      ],
      "metadata": {
        "colab": {
          "base_uri": "https://localhost:8080/"
        },
        "id": "N-iYMO5qcFHH",
        "outputId": "82494306-eb90-42c2-fad2-ed0e01ef917c"
      },
      "execution_count": null,
      "outputs": [
        {
          "output_type": "execute_result",
          "data": {
            "text/plain": [
              "['mean_fit_time',\n",
              " 'mean_score_time',\n",
              " 'mean_test_score',\n",
              " 'param_alpha',\n",
              " 'param_fit_intercept',\n",
              " 'params',\n",
              " 'rank_test_score',\n",
              " 'split0_test_score',\n",
              " 'split1_test_score',\n",
              " 'split2_test_score',\n",
              " 'split3_test_score',\n",
              " 'split4_test_score',\n",
              " 'split5_test_score',\n",
              " 'std_fit_time',\n",
              " 'std_score_time',\n",
              " 'std_test_score']"
            ]
          },
          "metadata": {},
          "execution_count": 36
        }
      ]
    },
    {
      "cell_type": "code",
      "source": [
        "clf.best_score_"
      ],
      "metadata": {
        "colab": {
          "base_uri": "https://localhost:8080/"
        },
        "id": "uADfj82Ycaee",
        "outputId": "47037235-d0f7-4d8d-bfa0-b6caa4aba432"
      },
      "execution_count": null,
      "outputs": [
        {
          "output_type": "execute_result",
          "data": {
            "text/plain": [
              "0.605043506853043"
            ]
          },
          "metadata": {},
          "execution_count": 37
        }
      ]
    },
    {
      "cell_type": "code",
      "source": [
        "clf.best_params_"
      ],
      "metadata": {
        "colab": {
          "base_uri": "https://localhost:8080/"
        },
        "id": "4_OZE_-ccdB9",
        "outputId": "a35a3e17-6e3e-4af8-e08d-5ededf10ca89"
      },
      "execution_count": null,
      "outputs": [
        {
          "output_type": "execute_result",
          "data": {
            "text/plain": [
              "{'alpha': 0.001, 'fit_intercept': True}"
            ]
          },
          "metadata": {},
          "execution_count": 38
        }
      ]
    },
    {
      "cell_type": "code",
      "source": [],
      "metadata": {
        "id": "qaRNvjxicf4V"
      },
      "execution_count": null,
      "outputs": []
    }
  ]
}