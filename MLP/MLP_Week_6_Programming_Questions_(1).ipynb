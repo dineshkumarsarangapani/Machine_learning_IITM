{
  "nbformat": 4,
  "nbformat_minor": 0,
  "metadata": {
    "colab": {
      "provenance": [],
      "toc_visible": true,
      "include_colab_link": true
    },
    "kernelspec": {
      "name": "python3",
      "display_name": "Python 3"
    },
    "language_info": {
      "name": "python"
    }
  },
  "cells": [
    {
      "cell_type": "markdown",
      "metadata": {
        "id": "view-in-github",
        "colab_type": "text"
      },
      "source": [
        "<a href=\"https://colab.research.google.com/github/dineshkumarsarangapani/Machine_learning_IITM/blob/main/MLP/MLP_Week_6_Programming_Questions_(1).ipynb\" target=\"_parent\"><img src=\"https://colab.research.google.com/assets/colab-badge.svg\" alt=\"Open In Colab\"/></a>"
      ]
    },
    {
      "cell_type": "markdown",
      "source": [
        "# Practice Questions\n",
        "\n",
        "  All the programming questions use **MNIST** dataset. Store all the samples in $X$ and labels in $y$"
      ],
      "metadata": {
        "id": "k0PY-Pf_JXEj"
      }
    },
    {
      "cell_type": "code",
      "source": [
        "# Common imports\n",
        "import numpy as np\n",
        "from pprint import pprint\n",
        "from tempfile import mkdtemp\n",
        "from shutil import rmtree\n",
        "\n",
        "# to make this notebook's output stable across runs\n",
        "np.random.seed(42)\n",
        "\n",
        "#sklearn specific imports\n",
        "# Dataset fetching \n",
        "from sklearn.datasets import fetch_openml\n",
        "\n",
        "# Feature scaling\n",
        "from sklearn.preprocessing import StandardScaler, MinMaxScaler\n",
        "\n",
        "# Pipeline utility\n",
        "from sklearn.pipeline import make_pipeline\n",
        "\n",
        "# Classifiers: dummy, logistic regression (SGD and LogisticRegression)\n",
        "# and least square classification\n",
        "from sklearn.dummy import DummyClassifier\n",
        "from sklearn.linear_model import SGDClassifier,RidgeClassifier, LogisticRegression,LogisticRegressionCV,RidgeClassifierCV\n",
        "\n",
        "# Model selection\n",
        "from sklearn.model_selection import cross_validate,RandomizedSearchCV,GridSearchCV,cross_val_predict\n",
        "from sklearn.model_selection import learning_curve,train_test_split\n",
        "\n",
        "\n",
        "# Evaluation metrics\n",
        "from sklearn.metrics import log_loss\n",
        "from sklearn.metrics import ConfusionMatrixDisplay\n",
        "from sklearn.metrics import precision_score, recall_score, classification_report\n",
        "from sklearn.metrics import precision_recall_curve\n",
        "from sklearn.metrics import auc,roc_curve,roc_auc_score\n",
        "\n",
        "# scipy \n",
        "from scipy.stats import loguniform\n",
        "\n",
        "# To plot pretty figures\n",
        "%matplotlib inline\n",
        "import matplotlib as mpl\n",
        "import matplotlib.pyplot as plt\n",
        "import seaborn as sns\n",
        "\n",
        "# global settings\n",
        "mpl.rc('axes', labelsize=14)\n",
        "mpl.rc('xtick', labelsize=12)\n",
        "mpl.rc('ytick', labelsize=12)\n",
        "mpl.rc('figure',figsize=(8,6))"
      ],
      "metadata": {
        "id": "PQTmrDXdfGY4"
      },
      "execution_count": null,
      "outputs": []
    },
    {
      "cell_type": "code",
      "source": [
        "# Ignore all warnings (convergence..) by sklearn\n",
        "def warn(*args, **kwargs):\n",
        "    pass\n",
        "import warnings\n",
        "warnings.warn = warn"
      ],
      "metadata": {
        "id": "DeMh-xAjfpsB"
      },
      "execution_count": null,
      "outputs": []
    },
    {
      "cell_type": "code",
      "source": [
        "X_pd,y_pd= fetch_openml('mnist_784',version=1,return_X_y=True) \n"
      ],
      "metadata": {
        "id": "oP69-m1WfTWF"
      },
      "execution_count": null,
      "outputs": []
    },
    {
      "cell_type": "code",
      "source": [
        "# convert to numpy array\n",
        "X = X_pd.to_numpy()\n",
        "y = y_pd.to_numpy().astype(np.int32)"
      ],
      "metadata": {
        "id": "I1hursMQAUsF"
      },
      "execution_count": null,
      "outputs": []
    },
    {
      "cell_type": "markdown",
      "source": [
        "Question Group: 22T1_MLP_W5_PP\n",
        "\n",
        "Total # of questiosn: 6"
      ],
      "metadata": {
        "id": "aeoWxrsGUkHL"
      }
    },
    {
      "cell_type": "markdown",
      "source": [
        "## Que 1.\n",
        "\n",
        "[1 point] Split the dataset in the following ratio. <br>\n",
        "\n",
        "  1. Training : Take the first 70% of samples from $X$ and store them in `x_train`\n",
        "  2. Testing: Take the remaining  30% of samples from $X$ and store them in `x_test`\n",
        "  3. Store the respective labels in `y_train`,`y_test` respectively.\n",
        "\n",
        "The last training sample is of digit __?\n",
        "\n",
        "Type: NAT\n",
        "\n",
        "Ans : 6"
      ],
      "metadata": {
        "id": "5pMkFmlcSHsd"
      }
    },
    {
      "cell_type": "markdown",
      "source": [
        "### Solution"
      ],
      "metadata": {
        "id": "Mq7aDgWwmgeM"
      }
    },
    {
      "cell_type": "code",
      "source": [
        "x_train,x_test,y_train,y_test = X[:49000],X[49000:],y[:49000],y[49000:]"
      ],
      "metadata": {
        "id": "vRSFaiQ6K_VI"
      },
      "execution_count": null,
      "outputs": []
    },
    {
      "cell_type": "code",
      "source": [
        "print('The last sample is of digit:',y_train[-1])\n",
        "plt.imshow(x_train[-1,:].reshape(28,28),cmap='gray')"
      ],
      "metadata": {
        "colab": {
          "base_uri": "https://localhost:8080/",
          "height": 412
        },
        "id": "mwMuYD4FlMYc",
        "outputId": "787ca925-909d-4faf-e47b-9b33ca2d249f"
      },
      "execution_count": null,
      "outputs": [
        {
          "output_type": "stream",
          "name": "stdout",
          "text": [
            "The last sample is of digit: 6\n"
          ]
        },
        {
          "output_type": "execute_result",
          "data": {
            "text/plain": [
              "<matplotlib.image.AxesImage at 0x7f982055ad10>"
            ]
          },
          "metadata": {},
          "execution_count": 6
        },
        {
          "output_type": "display_data",
          "data": {
            "text/plain": [
              "<Figure size 576x432 with 1 Axes>"
            ],
            "image/png": "[encoded data removed]"
          },
          "metadata": {
            "needs_background": "light"
          }
        }
      ]
    },
    {
      "cell_type": "markdown",
      "source": [
        "## Common data\n",
        "Build a classifier that differentiate digit 6 from digit 9.   \n",
        "* Steps to be followed\n",
        "    1. Collect all digit-6 (Positive class) and digit-9 (Negative class) images from `x_train` and stack them properly as a single datamatri  `x_train_69`. \n",
        "    2. Keep all digit-6 images from index 0 to i followed by digit-9 images from index i+1 to n (i denotes the end index of digit-6 images)\n",
        "    3. Similarly, collect the respective labels and store it in a variable `y_train_69`\n",
        "    4. Set the label values to 1 for positive classes and 0 for negative classes.\n",
        "    5. Load `from sklearn.utils import shuffle`\n",
        "    6.  Shuffle the datamatrix and labels. (Set `random_state` value to 1729). <br>\n",
        "    7. Create `x_test_69` and `y_test_69` by repeating the steps from 1 to 6 with required modifications\n",
        "\n"
      ],
      "metadata": {
        "id": "6Hlk5SBeJ0ER"
      }
    },
    {
      "cell_type": "markdown",
      "source": [
        "## Que 2.\n",
        "\n",
        " [1 point] What is the sum of all the labels in the vector `y_train_69`.\n",
        " [NAT]\n",
        "\n",
        " Ans:4855\n",
        "\n",
        " [1 point] What is the sum of all the labels in the vector `y_test_69`.\n",
        " [NAT] <br>\n",
        "  Ans:2021"
      ],
      "metadata": {
        "id": "zKkeN94u-n94"
      }
    },
    {
      "cell_type": "markdown",
      "source": [
        "### Solution\n",
        "Train set"
      ],
      "metadata": {
        "id": "dPD_Y13tKFRT"
      }
    },
    {
      "cell_type": "code",
      "source": [
        "# get the index of dig6 and dig_9\n",
        "dig_6_idx = np.where(y_train ==6)[0]\n",
        "dig_9_idx = np.where(y_train ==9)[0]\n",
        "index = np.concatenate((dig_6_idx,dig_9_idx),axis=0)\n",
        "# get all samples from the index array\n",
        "x_train_69 = x_train[index,:]\n",
        "# create the label vector\n",
        "y_train_69 = np.concatenate((np.ones(len(dig_6_idx)),np.zeros(len(dig_9_idx))))\n",
        "\n",
        "from sklearn.utils import shuffle\n",
        "x_train_69,y_train_69 = shuffle(x_train_69,y_train_69,random_state=1729)\n"
      ],
      "metadata": {
        "id": "m0kunEF3KDbe"
      },
      "execution_count": null,
      "outputs": []
    },
    {
      "cell_type": "markdown",
      "source": [
        "Test set"
      ],
      "metadata": {
        "id": "l8nAu2rrKBS7"
      }
    },
    {
      "cell_type": "code",
      "source": [
        "# get the index of dig6 and dig_9\n",
        "dig_6_idx = np.where(y_test ==6)[0]\n",
        "dig_9_idx = np.where(y_test ==9)[0]\n",
        "index = np.concatenate((dig_6_idx,dig_9_idx),axis=0)\n",
        "# get all samples from the index array\n",
        "x_test_69 = x_test[index,:]\n",
        "# create the label vector\n",
        "y_test_69 = np.concatenate((np.ones(len(dig_6_idx)),np.zeros(len(dig_9_idx))))\n",
        "\n",
        "from sklearn.utils import shuffle\n",
        "x_test_69,y_test_69 = shuffle(x_test_69,y_test_69,random_state=1729)"
      ],
      "metadata": {
        "id": "aICEEJl6KAZq"
      },
      "execution_count": null,
      "outputs": []
    },
    {
      "cell_type": "code",
      "source": [
        "print('The sum of label vectors:',np.sum(y_train_69))\n",
        "print('The sum of label vectors:',np.sum(y_test_69))"
      ],
      "metadata": {
        "colab": {
          "base_uri": "https://localhost:8080/"
        },
        "id": "5OhboCk6AGvd",
        "outputId": "dfc77351-c06f-4337-db91-c596d7f38b9d"
      },
      "execution_count": null,
      "outputs": [
        {
          "output_type": "stream",
          "name": "stdout",
          "text": [
            "The sum of label vectors: 4855.0\n",
            "The sum of label vectors: 2021.0\n"
          ]
        }
      ]
    },
    {
      "cell_type": "code",
      "source": [
        "print('The sum of label vectors:',np.count_nonzero(y_train==6))"
      ],
      "metadata": {
        "id": "Io44AKdG6s9x",
        "colab": {
          "base_uri": "https://localhost:8080/"
        },
        "outputId": "60ed3668-4e15-4730-d49a-451b9dad1d94"
      },
      "execution_count": null,
      "outputs": [
        {
          "output_type": "stream",
          "name": "stdout",
          "text": [
            "The sum of label vectors: 4855\n"
          ]
        }
      ]
    },
    {
      "cell_type": "markdown",
      "source": [
        "## Que 3.\n",
        "[2 point] Apply `StandardScaler` to all the training samples in `x_train_69` and store the result in another variable (say, `x_train_69Tf`). \n",
        "\n",
        "    * What is the mean of the zeroth sample?\n",
        "    * What is the mean of zeroth feature?\n",
        "    * What is the standard deviation of the zeroth sample?\n",
        "    * What is the standard deviation of the zeroth feature?\n",
        "Pack the answers (in order) in a tuple"
      ],
      "metadata": {
        "id": "2-d528zSTGj5"
      }
    },
    {
      "cell_type": "markdown",
      "source": [
        "Options: <br>\n",
        "1. (0,0,1,1) <br>\n",
        "2. (0.081,0,0.73,1) <br>\n",
        "3. (0.081,0,0.73,0)  <br>\n",
        "4. (0,0.081,1.09,1) <br>\n",
        "\n",
        "**Ans: 3**"
      ],
      "metadata": {
        "id": "KwuP92UtsdI3"
      }
    },
    {
      "cell_type": "markdown",
      "source": [
        "### Solution:"
      ],
      "metadata": {
        "id": "CCjXh0zqUu2J"
      }
    },
    {
      "cell_type": "code",
      "source": [
        "scaler = StandardScaler()\n",
        "x_train_69Tf = scaler.fit_transform(x_train_69)"
      ],
      "metadata": {
        "id": "ln43k04bUpaK"
      },
      "execution_count": null,
      "outputs": []
    },
    {
      "cell_type": "code",
      "source": [
        "print('Mean of 0th sample:',np.mean(x_train_69Tf[0,:]))\n",
        "print('Mean of 0th sample:',np.mean(x_train_69Tf[:,0]))\n",
        "print('Std of the 0th sample:',np.std(x_train_69Tf[0,:]))\n",
        "print('Std of the 0th sample:',np.std(x_train_69Tf[:,0]))"
      ],
      "metadata": {
        "colab": {
          "base_uri": "https://localhost:8080/"
        },
        "id": "TxV30rABImn4",
        "outputId": "b65a4e6b-f1cf-43a1-be96-b651abc507ff"
      },
      "execution_count": null,
      "outputs": [
        {
          "output_type": "stream",
          "name": "stdout",
          "text": [
            "Mean of 0th sample: 0.08128379559427823\n",
            "Mean of 0th sample: 0.0\n",
            "Std of the 0th sample: 0.7358823226037738\n",
            "Std of the 0th sample: 0.0\n"
          ]
        }
      ]
    },
    {
      "cell_type": "markdown",
      "source": [
        "## Que 4.\n",
        "\n",
        "[6 point]Train the LogisticRegression model using SGDClassifier() with the following common settings.\n",
        "  1. No Regularization <br>\n",
        "  2. random_state : 10 <br>\n",
        "  3. Iteration : 10 <br>\n",
        "\n",
        "Capture the loss for each iteration and plot the iteration vs loss curve. For which of the following settings, the iteration vs loss curve decreased monotonically?\n",
        "\n",
        "    A. Set Learning rate : 0.01 and plot the curve and fit the model with `x_train_69 `\n",
        "    \n",
        "    B.Set learning rate to 0.000001 and fit the model with `x_train_69 ` .\n",
        "\n",
        "    C.Keep the learning rate as 0.01. Scale the samples using StandardScaler() and fit the model with the pre-processed samples. \n",
        "\n",
        "    D.Use the \"invscaling\" stratagey for the learning rate with power_t = 1. Fit the model with x_train_69 (without pre-procesing).\n",
        "\n",
        "**Answer:** B,C,D\n",
        "\n",
        "[0 point] How do you explain all these observations?\n"
      ],
      "metadata": {
        "id": "FumBaz_tYkT2"
      }
    },
    {
      "cell_type": "markdown",
      "source": [
        "###**Solution:**\n",
        "\n",
        "1."
      ],
      "metadata": {
        "id": "j7a4Dwu1U7uH"
      }
    },
    {
      "cell_type": "code",
      "source": [
        "estimator = SGDClassifier(loss='log',\n",
        "                        penalty='l2',\n",
        "                        max_iter=1,\n",
        "                        warm_start=True,\n",
        "                        eta0=0.01,\n",
        "                        alpha=0,\n",
        "                        learning_rate='constant',\n",
        "                        random_state=10)\n",
        "pipe_sgd= make_pipeline(estimator)\n",
        "Loss=[]\n",
        "iterations= 10\n",
        "for i in range(iterations):\n",
        "  pipe_sgd.fit(x_train_69,y_train_69)\n",
        "  y_pred = pipe_sgd.predict_proba(x_train_69)\n",
        "  Loss.append(log_loss(y_train_69,y_pred))\n",
        "plt.figure()\n",
        "plt.plot(np.arange(iterations),Loss)\n",
        "plt.grid(True)\n",
        "plt.xlabel('Iteration')\n",
        "plt.ylabel('Loss')\n",
        "plt.show()"
      ],
      "metadata": {
        "id": "5d-XSnZ9bTAF",
        "colab": {
          "base_uri": "https://localhost:8080/",
          "height": 395
        },
        "outputId": "10836606-f551-411f-97bb-d98d24be27a8"
      },
      "execution_count": null,
      "outputs": [
        {
          "output_type": "display_data",
          "data": {
            "text/plain": [
              "<Figure size 576x432 with 1 Axes>"
            ],
            "image/png": "[encoded data removed]"
          },
          "metadata": {
            "needs_background": "light"
          }
        }
      ]
    },
    {
      "cell_type": "markdown",
      "source": [
        "2. "
      ],
      "metadata": {
        "id": "E3iK8nAOh78W"
      }
    },
    {
      "cell_type": "code",
      "source": [
        "estimator = SGDClassifier(loss='log',\n",
        "                        penalty='l2',\n",
        "                        max_iter=1,\n",
        "                        warm_start=True,\n",
        "                        eta0=0.000001,\n",
        "                        alpha=0,\n",
        "                        learning_rate='constant',\n",
        "                        random_state=10)\n",
        "pipe_sgd= make_pipeline(estimator)\n",
        "Loss=[]\n",
        "iterations= 10\n",
        "for i in range(iterations):\n",
        "  pipe_sgd.fit(x_train_69,y_train_69)\n",
        "  y_pred = pipe_sgd.predict_proba(x_train_69)\n",
        "  Loss.append(log_loss(y_train_69,y_pred))\n",
        "plt.figure()\n",
        "plt.plot(np.arange(iterations),Loss)\n",
        "plt.grid(True)\n",
        "plt.xlabel('Iteration')\n",
        "plt.ylabel('Loss')\n",
        "plt.show()"
      ],
      "metadata": {
        "colab": {
          "base_uri": "https://localhost:8080/",
          "height": 395
        },
        "id": "1NqbDKChh-a0",
        "outputId": "f2210f87-391f-4b06-928c-cd95f8e9e89f"
      },
      "execution_count": null,
      "outputs": [
        {
          "output_type": "display_data",
          "data": {
            "text/plain": [
              "<Figure size 576x432 with 1 Axes>"
            ],
            "image/png": "[encoded data removed]"
          },
          "metadata": {
            "needs_background": "light"
          }
        }
      ]
    },
    {
      "cell_type": "markdown",
      "source": [
        "3."
      ],
      "metadata": {
        "id": "g6nHl0wbiBxT"
      }
    },
    {
      "cell_type": "code",
      "source": [
        "estimator = SGDClassifier(loss='log',\n",
        "                        penalty='l2',\n",
        "                        max_iter=1,\n",
        "                        warm_start=True,\n",
        "                        eta0=0.01,\n",
        "                        alpha=0,\n",
        "                        learning_rate='constant',\n",
        "                        random_state=10)\n",
        "pipe_sgd= make_pipeline(StandardScaler(),estimator)\n",
        "Loss=[]\n",
        "iterations= 10\n",
        "for i in range(iterations):\n",
        "  pipe_sgd.fit(x_train_69,y_train_69)\n",
        "  y_pred = pipe_sgd.predict_proba(x_train_69)\n",
        "  Loss.append(log_loss(y_train_69,y_pred))\n",
        "plt.figure()\n",
        "plt.plot(np.arange(iterations),Loss)\n",
        "plt.grid(True)\n",
        "plt.xlabel('Iteration')\n",
        "plt.ylabel('Loss')\n",
        "plt.show()"
      ],
      "metadata": {
        "colab": {
          "base_uri": "https://localhost:8080/",
          "height": 399
        },
        "id": "fhKMdesAiDwV",
        "outputId": "8834ea3d-ae4c-4130-e46d-d1ed1f13f2eb"
      },
      "execution_count": null,
      "outputs": [
        {
          "output_type": "display_data",
          "data": {
            "text/plain": [
              "<Figure size 576x432 with 1 Axes>"
            ],
            "image/png": "[encoded data removed]"
          },
          "metadata": {
            "needs_background": "light"
          }
        }
      ]
    },
    {
      "cell_type": "code",
      "source": [
        "estimator = SGDClassifier(loss='log',\n",
        "                        penalty='l2',\n",
        "                        max_iter=1,\n",
        "                        warm_start=True,\n",
        "                        eta0=0.01,\n",
        "                        alpha=0,\n",
        "                        power_t =1.0,\n",
        "                        learning_rate='invscaling',\n",
        "                        random_state=10)\n",
        "pipe_sgd= make_pipeline(estimator)\n",
        "Loss=[]\n",
        "iterations= 10\n",
        "for i in range(iterations):\n",
        "  pipe_sgd.fit(x_train_69,y_train_69)\n",
        "  y_pred = pipe_sgd.predict_proba(x_train_69)\n",
        "  Loss.append(log_loss(y_train_69,y_pred))\n",
        "plt.figure()\n",
        "plt.plot(np.arange(iterations),Loss)\n",
        "plt.grid(True)\n",
        "plt.xlabel('Iteration')\n",
        "plt.ylabel('Loss')\n",
        "plt.show()"
      ],
      "metadata": {
        "colab": {
          "base_uri": "https://localhost:8080/",
          "height": 395
        },
        "id": "VqoKCkjUkR6x",
        "outputId": "a2f41a43-c7aa-4696-91ae-3e7d1c39f08d"
      },
      "execution_count": null,
      "outputs": [
        {
          "output_type": "display_data",
          "data": {
            "text/plain": [
              "<Figure size 576x432 with 1 Axes>"
            ],
            "image/png": "[encoded data removed]"
          },
          "metadata": {
            "needs_background": "light"
          }
        }
      ]
    },
    {
      "cell_type": "markdown",
      "source": [
        "## Que 5.\n",
        "\n",
        "[1 point] Train the LogisticRegression model using SGDClassifier() with the following common settings.\n",
        "  1. No Regularization <br>\n",
        "  2. random_state : 10 <br>\n",
        "  3. Iteration : 30 <br>\n",
        "\n",
        "Capture the loss for each iteration and plot the iteration vs loss curve. For which of the following settings, the iteration vs loss curve converged quickly to zero loss? \n",
        "\n",
        "    A. Set Learning rate : 0.01 and plot the curve and fit the model with `x_train_69 `\n",
        "\n",
        "    \n",
        "    B.Set learning rate to 0.000001 and fit the model with `x_train_69 ` . \n",
        "\n",
        "    \n",
        "    C.Keep the learning rate as 0.01. Scale the samples using StandardScaler() and fit the model with the pre-processed samples.\n",
        "\n",
        "\n",
        "    D.Use the \"invscaling\" stratagey for the learning rate with power_t = 1. Fit the model with x_train_69 (without pre-procesing).\n",
        "\n",
        "**Answer:** A\n",
        "\n",
        "[1 point] Enter the iteration number for which the loss becomes zero and remains zero for the rest of the iteration. [NAT}\n",
        "\n",
        "Ans: 14\n",
        "\n",
        "\n"
      ],
      "metadata": {
        "id": "0lP6S9gz3g8P"
      }
    },
    {
      "cell_type": "markdown",
      "source": [
        "###**Solution:**\n",
        "\n",
        "1."
      ],
      "metadata": {
        "id": "HS55s6-f7cRN"
      }
    },
    {
      "cell_type": "code",
      "source": [
        "estimator = SGDClassifier(loss='log',\n",
        "                        penalty='l2',\n",
        "                        max_iter=1,\n",
        "                        warm_start=True,\n",
        "                        eta0=0.01,\n",
        "                        alpha=0,\n",
        "                        learning_rate='constant',\n",
        "                        random_state=10)\n",
        "pipe_sgd_A= make_pipeline(estimator)\n",
        "Loss=[]\n",
        "iterations= 30\n",
        "for i in range(iterations):\n",
        "  pipe_sgd_A.fit(x_train_69,y_train_69)\n",
        "  y_pred = pipe_sgd_A.predict_proba(x_train_69)\n",
        "  Loss.append(log_loss(y_train_69,y_pred))\n",
        "plt.figure()\n",
        "plt.plot(np.arange(iterations),Loss)\n",
        "plt.xticks(ticks=np.arange(30),labels=np.arange(30))\n",
        "plt.grid(True)\n",
        "plt.xlabel('Iteration')\n",
        "plt.ylabel('Loss')\n",
        "plt.show()"
      ],
      "metadata": {
        "colab": {
          "base_uri": "https://localhost:8080/",
          "height": 395
        },
        "outputId": "388bdf1f-01fb-40a5-86a6-bdfd622bda67",
        "id": "jBkv7TJ37cRY"
      },
      "execution_count": null,
      "outputs": [
        {
          "output_type": "display_data",
          "data": {
            "text/plain": [
              "<Figure size 576x432 with 1 Axes>"
            ],
            "image/png": "[encoded data removed]"
          },
          "metadata": {
            "needs_background": "light"
          }
        }
      ]
    },
    {
      "cell_type": "markdown",
      "source": [
        "2. "
      ],
      "metadata": {
        "id": "Bca-z8tL7cRY"
      }
    },
    {
      "cell_type": "code",
      "source": [
        "estimator = SGDClassifier(loss='log',\n",
        "                        penalty='l2',\n",
        "                        max_iter=1,\n",
        "                        warm_start=True,\n",
        "                        eta0=0.000001,\n",
        "                        alpha=0,\n",
        "                        learning_rate='constant',\n",
        "                        random_state=10)\n",
        "pipe_sgd_B= make_pipeline(estimator)\n",
        "Loss=[]\n",
        "iterations= 30\n",
        "for i in range(iterations):\n",
        "  pipe_sgd_B.fit(x_train_69,y_train_69)\n",
        "  y_pred = pipe_sgd_B.predict_proba(x_train_69)\n",
        "  Loss.append(log_loss(y_train_69,y_pred))\n",
        "plt.figure()\n",
        "plt.plot(np.arange(iterations),Loss)\n",
        "plt.xticks(ticks=np.arange(30),labels=np.arange(30))\n",
        "plt.grid(True)\n",
        "plt.xlabel('Iteration')\n",
        "plt.ylabel('Loss')\n",
        "plt.show()"
      ],
      "metadata": {
        "colab": {
          "base_uri": "https://localhost:8080/",
          "height": 395
        },
        "outputId": "f913bead-17d6-4461-c45a-b4c82479de11",
        "id": "YIxHnIZx7cRZ"
      },
      "execution_count": null,
      "outputs": [
        {
          "output_type": "display_data",
          "data": {
            "text/plain": [
              "<Figure size 576x432 with 1 Axes>"
            ],
            "image/png": "[encoded data removed]"
          },
          "metadata": {
            "needs_background": "light"
          }
        }
      ]
    },
    {
      "cell_type": "markdown",
      "source": [
        "3."
      ],
      "metadata": {
        "id": "ytFtGrRO7cRZ"
      }
    },
    {
      "cell_type": "code",
      "source": [
        "estimator = SGDClassifier(loss='log',\n",
        "                        penalty='l2',\n",
        "                        max_iter=1,\n",
        "                        warm_start=True,\n",
        "                        eta0=0.01,\n",
        "                        alpha=0,\n",
        "                        learning_rate='constant',\n",
        "                        random_state=10)\n",
        "pipe_sgd_C= make_pipeline(StandardScaler(),estimator)\n",
        "Loss=[]\n",
        "iterations= 30\n",
        "for i in range(iterations):\n",
        "  pipe_sgd_C.fit(x_train_69,y_train_69)\n",
        "  y_pred = pipe_sgd_C.predict_proba(x_train_69)\n",
        "  Loss.append(log_loss(y_train_69,y_pred))\n",
        "plt.figure()\n",
        "plt.plot(np.arange(iterations),Loss)\n",
        "plt.xticks(ticks=np.arange(30),labels=np.arange(30))\n",
        "plt.grid(True)\n",
        "plt.xlabel('Iteration')\n",
        "plt.ylabel('Loss')\n",
        "plt.show()"
      ],
      "metadata": {
        "colab": {
          "base_uri": "https://localhost:8080/",
          "height": 398
        },
        "outputId": "b83402b3-217e-432d-d5c8-b07cd5da54f0",
        "id": "NWzIwICN7cRZ"
      },
      "execution_count": null,
      "outputs": [
        {
          "output_type": "display_data",
          "data": {
            "text/plain": [
              "<Figure size 576x432 with 1 Axes>"
            ],
            "image/png": "[encoded data removed]"
          },
          "metadata": {
            "needs_background": "light"
          }
        }
      ]
    },
    {
      "cell_type": "code",
      "source": [
        "estimator = SGDClassifier(loss='log',\n",
        "                        penalty='l2',\n",
        "                        max_iter=1,\n",
        "                        warm_start=True,\n",
        "                        eta0=0.01,\n",
        "                        alpha=0,\n",
        "                        power_t =1.0,\n",
        "                        learning_rate='invscaling',\n",
        "                        random_state=10)\n",
        "pipe_sgd_D= make_pipeline(estimator)\n",
        "Loss=[]\n",
        "iterations= 30\n",
        "for i in range(iterations):\n",
        "  pipe_sgd_D.fit(x_train_69,y_train_69)\n",
        "  y_pred = pipe_sgd_D.predict_proba(x_train_69)\n",
        "  Loss.append(log_loss(y_train_69,y_pred))\n",
        "plt.figure()\n",
        "plt.plot(np.arange(iterations),Loss)\n",
        "# plt.xticks(ticks=np.arange(30),labels=np.arange(30))\n",
        "plt.grid(True)\n",
        "plt.xlabel('Iteration')\n",
        "plt.ylabel('Loss')\n",
        "plt.show()"
      ],
      "metadata": {
        "colab": {
          "base_uri": "https://localhost:8080/",
          "height": 395
        },
        "outputId": "dac60889-4243-4841-80f0-5fdeef17b680",
        "id": "x3RSUX5U7cRa"
      },
      "execution_count": null,
      "outputs": [
        {
          "output_type": "display_data",
          "data": {
            "text/plain": [
              "<Figure size 576x432 with 1 Axes>"
            ],
            "image/png": "[encoded data removed]"
          },
          "metadata": {
            "needs_background": "light"
          }
        }
      ]
    },
    {
      "cell_type": "markdown",
      "source": [
        "## Que 6\n",
        "\n",
        " * Setting-1 <br>\n",
        "  Use a ridgeclassifier with the following settings <br>\n",
        "  1. No regularization\n",
        "  2. solver = 'svd' <br>\n",
        "\n",
        "Fit the model with *x_train_69* without any preprocessing.Compute confusion matrix for the training set and bbserve the FN's and FP's.\n",
        "\n",
        " * Setting-2 <br>\n",
        "The classifier essentially uses *svd* solver. <br>\n",
        "Therefore, let us try to solve the problem directly using *np.linalg.pinv()* function.Find the following,\n",
        "\n",
        "   $$w = X^{-1}y$$\n",
        "using *np.linalg.pinv()* and predict the $\\hat{y}$ using it.Compute the confusion matrix and observe the FN's and FP's.\n",
        "\n",
        "[2 point] Are the counts for FNs and FPs almost same in both the setting? <br>\n",
        "\n",
        "Options: <br>\n",
        "   A.Yes <br>\n",
        "   B.No <br>\n",
        "   Ans: B <br>\n",
        "\n",
        "* Setting-3 <br>\n",
        "Change the labels to {-1,1} (1 for positive class and -1 for negative class). Now use the *np.linalg.pinv()* and predict the $\\hat{y}$ using it.Compute the confusion matrix and observe the FN's and FP's.\n",
        "\n",
        "[2 point] Are the counts for FNs and FPs almost same in both the setting-1 and setting-3? <br>\n",
        "Options: <br>\n",
        "   A.Yes <br>\n",
        "   B.No <br>\n",
        "   Ans: A <br>\n",
        "\n",
        "[1 point] Does RidgeClassifier() internally converts labels to {-1,1}? <br>\n",
        "Options: <br>\n",
        "   A.Yes <br>\n",
        "   B.No <br>\n",
        "   Ans: A <br>\n",
        "Contemplate the reasons.<br>\n",
        "(**Hint:** Think of the concept of projection from linear algebra)\n",
        "\n"
      ],
      "metadata": {
        "id": "W_50j6N-dNLl"
      }
    },
    {
      "cell_type": "markdown",
      "source": [
        "### Solution"
      ],
      "metadata": {
        "id": "HKXcR8Oh-Nzh"
      }
    },
    {
      "cell_type": "code",
      "source": [
        "estimator = RidgeClassifier(alpha=0)\n",
        "estimator.fit(x_train_69,y_train_69)\n",
        "y_pred = estimator.predict(x_train_69)\n",
        "ConfusionMatrixDisplay.from_predictions(y_train_69,y_pred,labels=[0,1])\n",
        "plt.show()"
      ],
      "metadata": {
        "colab": {
          "base_uri": "https://localhost:8080/",
          "height": 395
        },
        "id": "cVMj8P2Iecpc",
        "outputId": "9d4b4e60-9958-48df-a393-49638dac71b6"
      },
      "execution_count": null,
      "outputs": [
        {
          "output_type": "display_data",
          "data": {
            "text/plain": [
              "<Figure size 576x432 with 2 Axes>"
            ],
            "image/png": "[encoded data removed]"
          },
          "metadata": {
            "needs_background": "light"
          }
        }
      ]
    },
    {
      "cell_type": "code",
      "source": [
        "w = np.linalg.pinv(x_train_69)@y_train_69\n",
        "y_pred = np.where(x_train_69@w>0,1,0)\n",
        "ConfusionMatrixDisplay.from_predictions(y_train_69,y_pred,labels=[0,1])\n",
        "plt.show()"
      ],
      "metadata": {
        "colab": {
          "base_uri": "https://localhost:8080/",
          "height": 395
        },
        "id": "EedIzIdP-Zon",
        "outputId": "f2ae27ac-5774-437b-e15d-8fb83af45d82"
      },
      "execution_count": null,
      "outputs": [
        {
          "output_type": "display_data",
          "data": {
            "text/plain": [
              "<Figure size 576x432 with 2 Axes>"
            ],
            "image/png": "[encoded data removed]"
          },
          "metadata": {
            "needs_background": "light"
          }
        }
      ]
    },
    {
      "cell_type": "code",
      "source": [
        "y_train_69_binlab = np.where(y_train_69==0,-1,1)"
      ],
      "metadata": {
        "id": "DjdDhXHFvuIP"
      },
      "execution_count": null,
      "outputs": []
    },
    {
      "cell_type": "code",
      "source": [
        "w = np.linalg.pinv(x_train_69)@y_train_69_binlab\n",
        "y_pred = np.where(x_train_69@w>0,1,-1)\n",
        "ConfusionMatrixDisplay.from_predictions(y_train_69_binlab,y_pred,labels=[-1,1])\n",
        "plt.show()"
      ],
      "metadata": {
        "colab": {
          "base_uri": "https://localhost:8080/",
          "height": 395
        },
        "id": "DQMzW2WEwgqI",
        "outputId": "d6ea3723-c8e7-415f-c31f-afb78034895d"
      },
      "execution_count": null,
      "outputs": [
        {
          "output_type": "display_data",
          "data": {
            "text/plain": [
              "<Figure size 576x432 with 2 Axes>"
            ],
            "image/png": "[encoded data removed]"
          },
          "metadata": {
            "needs_background": "light"
          }
        }
      ]
    },
    {
      "cell_type": "code",
      "source": [
        "y_pred = np.where(x_train_69@w>0,1,-1)"
      ],
      "metadata": {
        "id": "Mk3k9BrvvgMi"
      },
      "execution_count": null,
      "outputs": []
    },
    {
      "cell_type": "code",
      "source": [
        "np.mean(x_train_69)"
      ],
      "metadata": {
        "colab": {
          "base_uri": "https://localhost:8080/"
        },
        "id": "rUzcMo1EpR9Z",
        "outputId": "0b7e0cf1-f6dd-48a1-d138-bd903a3c1a00"
      },
      "execution_count": null,
      "outputs": [
        {
          "output_type": "execute_result",
          "data": {
            "text/plain": [
              "33.21061976760743"
            ]
          },
          "metadata": {},
          "execution_count": 26
        }
      ]
    },
    {
      "cell_type": "markdown",
      "source": [
        "## Que 7\n",
        "Create the classifier with the following settings <br>\n",
        "\n",
        "1. No Regularization\n",
        "2. eta0 = 0.5\n",
        "3. learning_rate = 'inv_scaling'\n",
        "4. power_t = 0.5\n",
        "5. iteration = 10\n",
        "6. Shuffle  = True\n",
        "7. random_state = 10\n",
        "\n",
        "Train the classifier with `x_train_69`. Answer the following questions?\n",
        "\n",
        "[1 points] How many False Positives (FP) are there? [NAT] <br>\n",
        "**Ans:7** <br>\n",
        "\n",
        "[2 points] Display all the False Positive samples.Could a human recognize them correctly?. Get the index of all FP samples in ascending order. Enter the first index. [NAT] <br> \n",
        "**Ans: 2167**\n",
        "\n",
        "\n"
      ],
      "metadata": {
        "id": "koZ9r4UJPtal"
      }
    },
    {
      "cell_type": "markdown",
      "source": [
        "### Solution"
      ],
      "metadata": {
        "id": "lzTb7ZNR_GFg"
      }
    },
    {
      "cell_type": "code",
      "source": [
        "estimator = SGDClassifier(loss='log',\n",
        "                        penalty='l2',\n",
        "                        max_iter=10,\n",
        "                        warm_start=False,\n",
        "                        eta0=0.5,\n",
        "                        alpha=0,\n",
        "                        power_t =0.5,\n",
        "                        learning_rate='invscaling',\n",
        "                        shuffle=True,\n",
        "                        random_state=10)\n",
        "pipe_sgd = make_pipeline(estimator)\n",
        "pipe_sgd.fit(x_train_69,y_train_69)"
      ],
      "metadata": {
        "colab": {
          "base_uri": "https://localhost:8080/"
        },
        "id": "-dKIPL8rPbS3",
        "outputId": "389996f5-cb7b-4a96-f34d-618400741a72"
      },
      "execution_count": null,
      "outputs": [
        {
          "output_type": "execute_result",
          "data": {
            "text/plain": [
              "Pipeline(steps=[('sgdclassifier',\n",
              "                 SGDClassifier(alpha=0, eta0=0.5, learning_rate='invscaling',\n",
              "                               loss='log', max_iter=10, random_state=10))])"
            ]
          },
          "metadata": {},
          "execution_count": 46
        }
      ]
    },
    {
      "cell_type": "code",
      "source": [
        "y_pred = pipe_sgd.predict(x_train_69)\n",
        "ConfusionMatrixDisplay.from_predictions(y_train_69,y_pred,labels=[0,1])\n",
        "print(classification_report(y_train_69,y_pred,digits=4))"
      ],
      "metadata": {
        "colab": {
          "base_uri": "https://localhost:8080/",
          "height": 551
        },
        "id": "WwBw0NN1HcIq",
        "outputId": "3bf4f1dd-30cb-4c74-abf7-ec71fe064445"
      },
      "execution_count": null,
      "outputs": [
        {
          "output_type": "stream",
          "name": "stdout",
          "text": [
            "              precision    recall  f1-score   support\n",
            "\n",
            "         0.0     0.9980    0.9986    0.9983      4891\n",
            "         1.0     0.9986    0.9979    0.9982      4855\n",
            "\n",
            "    accuracy                         0.9983      9746\n",
            "   macro avg     0.9983    0.9983    0.9983      9746\n",
            "weighted avg     0.9983    0.9983    0.9983      9746\n",
            "\n"
          ]
        },
        {
          "output_type": "display_data",
          "data": {
            "text/plain": [
              "<Figure size 576x432 with 2 Axes>"
            ],
            "image/png": "[encoded data removed]"
          },
          "metadata": {
            "needs_background": "light"
          }
        }
      ]
    },
    {
      "cell_type": "code",
      "source": [
        "all_neg_idx = np.where(y_train_69 == 0) # actual negative\n",
        "pp_idx = np.where(y_pred == 1) # predicted positive\n",
        "fp_idx = np.intersect1d(all_neg_idx,pp_idx) # it should be nil for FP=0\n",
        "print(fp_idx)"
      ],
      "metadata": {
        "colab": {
          "base_uri": "https://localhost:8080/"
        },
        "id": "ifLl4OP2SYP0",
        "outputId": "01b64071-2589-4e81-cdd8-c475ea7e36b0"
      },
      "execution_count": null,
      "outputs": [
        {
          "output_type": "stream",
          "name": "stdout",
          "text": [
            "[2167 2407 3036 3368 4217 5556 6230]\n"
          ]
        }
      ]
    },
    {
      "cell_type": "code",
      "source": [
        "fig,ax = plt.subplots(nrows=3,ncols=2,figsize=(6,6))\n",
        "idx = 0\n",
        "for i in range(3):  \n",
        "  for j in range(2):\n",
        "    ax[i,j].imshow(x_train_69[fp_idx[idx]].reshape(28,28),cmap='gray') # we should not use x_train_with_dummy\n",
        "    ax[i,j].set_title('P:{0},T:{1}'.format(str(y_pred[fp_idx[idx]]),str(y_train_69[fp_idx[idx]])))\n",
        "    ax[i,j].set_axis_off()\n",
        "    idx += 1   "
      ],
      "metadata": {
        "colab": {
          "base_uri": "https://localhost:8080/",
          "height": 373
        },
        "id": "U5knJcslSy-Y",
        "outputId": "923fd375-5233-4791-fc5a-d81f4678e778"
      },
      "execution_count": null,
      "outputs": [
        {
          "output_type": "display_data",
          "data": {
            "text/plain": [
              "<Figure size 432x432 with 6 Axes>"
            ],
            "image/png": "[encoded data removed]"
          },
          "metadata": {
            "needs_background": "light"
          }
        }
      ]
    },
    {
      "cell_type": "markdown",
      "source": [
        "## Que 8\n",
        "\n",
        " * Let digit 6 samples in `x_train `as postive class (set labels of all digit 6 to 1) and all other digits as negative class ( set the labels to zero). Store the modified labels in a variable `y_train_6`. Repeat the same for `x_test`.\n",
        " \n",
        " * Create SGDClassifier() for logistic regression with the following parameter settings \n",
        "1. No Regularization\n",
        "2. eta0 = 0.5\n",
        "3. learning_rate = 'inv_scaling'\n",
        "4. power_t = 0.5\n",
        "5. iteration = 10\n",
        "6. Shuffle  = True\n",
        "7. random_state = 10\n",
        "\n",
        "Scale the data samples and fit the model.What is the recall score (in the range of 0 to 1) of the model on the training set?\n",
        "\n",
        "A.0.88 <br>\n",
        "B.0.90 <br>\n",
        "C.0.94 <br>\n",
        "D.0.99 <br>\n",
        "\n",
        "Ans: B, 0.90\n",
        "\n",
        "[0 point] Compare the scores with that of previous setting.<br>\n",
        "  * Did the performance increase in this setting? \n",
        "  * What could be the possible reasons for increase/decrease in the performance? \n",
        "  * What can be done to improve the performance further? "
      ],
      "metadata": {
        "id": "Mh753jW_-H1w"
      }
    },
    {
      "cell_type": "markdown",
      "source": [
        "## Solution"
      ],
      "metadata": {
        "id": "lnC4WBaeIanr"
      }
    },
    {
      "cell_type": "code",
      "source": [
        "y_train_6 = np.zeros((len(y_train)))\n",
        "y_test_6 = np.zeros((len(y_test)))\n",
        "\n",
        "# find indices of digit 6 image\n",
        "indx_6 = np.where(y_train == 6) \n",
        "# use those indices to modify \n",
        "y_train_6[indx_6] = 1\n",
        "\n",
        "# find indices of digit 6 image\n",
        "indx_6 = np.where(y_test == 6) \n",
        "# use those indices to modify \n",
        "y_test_6[indx_6] = 1"
      ],
      "metadata": {
        "id": "ILoZHLSt_yaz"
      },
      "execution_count": null,
      "outputs": []
    },
    {
      "cell_type": "markdown",
      "source": [
        "### sanity check"
      ],
      "metadata": {
        "id": "IdqVzxP3IWAu"
      }
    },
    {
      "cell_type": "code",
      "source": [
        "num_images = 9 # Choose a square number\n",
        "factor = np.int(np.sqrt(num_images))\n",
        "fig,ax = plt.subplots(nrows=factor,ncols=factor,figsize=(8,6))\n",
        "idx_offset = 18 # take \"num_images\" starting from the index \"idx_offset\"\n",
        "for i in range(factor):\n",
        "  index = idx_offset+i*(factor)\n",
        "  for j in range(factor):\n",
        "    ax[i,j].imshow(x_test[index+j].reshape(28,28),cmap='gray')\n",
        "    ax[i,j].set_title('Label:{0}'.format(str(y_test_6[index+j])))\n",
        "    ax[i,j].set_axis_off()  \n"
      ],
      "metadata": {
        "colab": {
          "base_uri": "https://localhost:8080/",
          "height": 373
        },
        "id": "hp5cm1ADDtn5",
        "outputId": "8985eff6-4028-4040-8b63-c9eb44ca6d13"
      },
      "execution_count": null,
      "outputs": [
        {
          "output_type": "display_data",
          "data": {
            "text/plain": [
              "<Figure size 576x432 with 9 Axes>"
            ],
            "image/png": "[encoded data removed]"
          },
          "metadata": {
            "needs_background": "light"
          }
        }
      ]
    },
    {
      "cell_type": "markdown",
      "source": [
        "#### Train the model"
      ],
      "metadata": {
        "id": "pytbxetsNATL"
      }
    },
    {
      "cell_type": "code",
      "source": [
        "estimator = SGDClassifier(loss='log',\n",
        "                        penalty='l2',\n",
        "                        max_iter=10,\n",
        "                        warm_start=False,\n",
        "                        eta0=0.1,\n",
        "                        alpha=0,\n",
        "                        power_t =0.5,\n",
        "                        learning_rate='invscaling',\n",
        "                        shuffle=True,\n",
        "                        random_state=10)\n",
        "\n",
        "pipe_sgd = make_pipeline(MinMaxScaler(),estimator)\n",
        "pipe_sgd.fit(x_train,y_train_6)"
      ],
      "metadata": {
        "colab": {
          "base_uri": "https://localhost:8080/"
        },
        "id": "q9VFJdhgM5zR",
        "outputId": "592d9793-b0e4-4d68-9c3b-7fc3a4985fda"
      },
      "execution_count": null,
      "outputs": [
        {
          "output_type": "execute_result",
          "data": {
            "text/plain": [
              "Pipeline(steps=[('minmaxscaler', MinMaxScaler()),\n",
              "                ('sgdclassifier',\n",
              "                 SGDClassifier(alpha=0, eta0=0.1, learning_rate='invscaling',\n",
              "                               loss='log', max_iter=10, random_state=10))])"
            ]
          },
          "metadata": {},
          "execution_count": 33
        }
      ]
    },
    {
      "cell_type": "code",
      "source": [
        "y_pred = pipe_sgd.predict(x_train)\n",
        "ConfusionMatrixDisplay.from_predictions(y_train_6,y_pred,labels=[0,1])\n",
        "print(classification_report(y_train_6,y_pred,digits=4))"
      ],
      "metadata": {
        "colab": {
          "base_uri": "https://localhost:8080/",
          "height": 551
        },
        "id": "pdB3SHrtQKx5",
        "outputId": "87f7fc47-ec08-4566-e554-92a0f9521734"
      },
      "execution_count": null,
      "outputs": [
        {
          "output_type": "stream",
          "name": "stdout",
          "text": [
            "              precision    recall  f1-score   support\n",
            "\n",
            "         0.0     0.9893    0.9930    0.9912     44145\n",
            "         1.0     0.9343    0.9024    0.9181      4855\n",
            "\n",
            "    accuracy                         0.9840     49000\n",
            "   macro avg     0.9618    0.9477    0.9546     49000\n",
            "weighted avg     0.9839    0.9840    0.9839     49000\n",
            "\n"
          ]
        },
        {
          "output_type": "display_data",
          "data": {
            "text/plain": [
              "<Figure size 576x432 with 2 Axes>"
            ],
            "image/png": "[encoded data removed]"
          },
          "metadata": {
            "needs_background": "light"
          }
        }
      ]
    },
    {
      "cell_type": "code",
      "source": [
        "y_pred = pipe_sgd.predict(x_test)\n",
        "ConfusionMatrixDisplay.from_predictions(y_test_6,y_pred,labels=[0,1])\n",
        "print(classification_report(y_test_6,y_pred,digits=4))"
      ],
      "metadata": {
        "colab": {
          "base_uri": "https://localhost:8080/",
          "height": 551
        },
        "id": "ykJPr69LNERU",
        "outputId": "429e8aa7-839e-4ea6-a086-fc615aa510f8"
      },
      "execution_count": null,
      "outputs": [
        {
          "output_type": "stream",
          "name": "stdout",
          "text": [
            "              precision    recall  f1-score   support\n",
            "\n",
            "         0.0     0.9906    0.9934    0.9920     18979\n",
            "         1.0     0.9360    0.9119    0.9238      2021\n",
            "\n",
            "    accuracy                         0.9855     21000\n",
            "   macro avg     0.9633    0.9526    0.9579     21000\n",
            "weighted avg     0.9854    0.9855    0.9854     21000\n",
            "\n"
          ]
        },
        {
          "output_type": "display_data",
          "data": {
            "text/plain": [
              "<Figure size 576x432 with 2 Axes>"
            ],
            "image/png": "[encoded data removed]"
          },
          "metadata": {
            "needs_background": "light"
          }
        }
      ]
    },
    {
      "cell_type": "markdown",
      "source": [
        "## Que 9\n",
        "\n",
        "Assuming that model recall score might get increase if we change the `eta0` value and ***power_t*** value for `inv_scaling` learning rate decay approach.Try out the following combinations using grid search, <br>\n",
        "\n",
        "  eta0 = [0.1,0.2,0.3,0.4,0.5] <br>\n",
        "  power_t = [0.2,0.4] <br>\n",
        "\n",
        " Make use of pipeline while doing gridsearch and do 5 fold cv with `StartifiedKfold `.\n",
        " \n",
        "Select the combination of parameters (eta0,power_t) which resulted in worst performance in terms of recall score\n",
        "\n",
        " A.(0.1,0.2) <br>\n",
        " B.(0.2,0.2) <br>\n",
        " C.(0.2,0.4) <br>\n",
        " D.(0.5,0.2) <br>\n",
        " E.(0.5,0.1) <br>\n",
        " F.(0.4,0.4) <br>\n",
        "\n",
        " Ans: D.\n",
        "\n",
        "   "
      ],
      "metadata": {
        "id": "mNtCZ6ltRpJV"
      }
    },
    {
      "cell_type": "markdown",
      "source": [
        "### Solution"
      ],
      "metadata": {
        "id": "Jg9H6xY_W33C"
      }
    },
    {
      "cell_type": "code",
      "source": [
        "estimator = SGDClassifier(loss='log',\n",
        "                        penalty='l2',\n",
        "                        max_iter=10,\n",
        "                        warm_start=False,\n",
        "                        eta0=0.1,\n",
        "                        alpha=0,\n",
        "                        power_t = 0.5,\n",
        "                        learning_rate='invscaling',\n",
        "                        shuffle=True,\n",
        "                        random_state=10)\n",
        "pipe_sgd = make_pipeline(MinMaxScaler(),estimator)\n",
        "# scoring = make_scorer(log_loss,greater_is_better=False)\n",
        "eta0 = [0.1,0.2,0.3,0.4,0.5]\n",
        "power_t = [0.2,0.4]\n",
        "bin_clf_gscv = GridSearchCV(pipe_sgd,param_grid={\"sgdclassifier__eta0\":eta0,\"sgdclassifier__power_t\":power_t},scoring='recall',cv=5)\n",
        "bin_clf_gscv.fit(x_train,y_train_6)"
      ],
      "metadata": {
        "colab": {
          "base_uri": "https://localhost:8080/"
        },
        "id": "jodxMIcIRCuF",
        "outputId": "2d1f2a53-2e7c-4e76-87eb-ea68c09d5347"
      },
      "execution_count": null,
      "outputs": [
        {
          "output_type": "execute_result",
          "data": {
            "text/plain": [
              "GridSearchCV(cv=5,\n",
              "             estimator=Pipeline(steps=[('minmaxscaler', MinMaxScaler()),\n",
              "                                       ('sgdclassifier',\n",
              "                                        SGDClassifier(alpha=0, eta0=0.1,\n",
              "                                                      learning_rate='invscaling',\n",
              "                                                      loss='log', max_iter=10,\n",
              "                                                      random_state=10))]),\n",
              "             param_grid={'sgdclassifier__eta0': [0.1, 0.2, 0.3, 0.4, 0.5],\n",
              "                         'sgdclassifier__power_t': [0.2, 0.4]},\n",
              "             scoring='recall')"
            ]
          },
          "metadata": {},
          "execution_count": 36
        }
      ]
    },
    {
      "cell_type": "code",
      "source": [
        "bin_clf_gscv.cv_results_"
      ],
      "metadata": {
        "colab": {
          "base_uri": "https://localhost:8080/"
        },
        "id": "M0yXtubHTZgC",
        "outputId": "34651d6f-c43a-4548-de7e-22245427cce6"
      },
      "execution_count": null,
      "outputs": [
        {
          "output_type": "execute_result",
          "data": {
            "text/plain": [
              "{'mean_fit_time': array([1.47576127, 1.61355515, 1.72812777, 1.55643902, 1.51830058,\n",
              "        1.35718865, 1.51251054, 1.3628859 , 1.52800336, 1.33071322]),\n",
              " 'std_fit_time': array([0.05619378, 0.17483451, 0.29279222, 0.19994077, 0.00687635,\n",
              "        0.06081255, 0.01140723, 0.06161026, 0.01048528, 0.05416222]),\n",
              " 'mean_score_time': array([0.06132936, 0.06094303, 0.06350737, 0.06039824, 0.06025887,\n",
              "        0.05981078, 0.06091352, 0.0612103 , 0.06066704, 0.06072478]),\n",
              " 'std_score_time': array([0.00113328, 0.0020783 , 0.00377277, 0.00131171, 0.00054351,\n",
              "        0.00090378, 0.0011533 , 0.0021199 , 0.00139759, 0.00097935]),\n",
              " 'param_sgdclassifier__eta0': masked_array(data=[0.1, 0.1, 0.2, 0.2, 0.3, 0.3, 0.4, 0.4, 0.5, 0.5],\n",
              "              mask=[False, False, False, False, False, False, False, False,\n",
              "                    False, False],\n",
              "        fill_value='?',\n",
              "             dtype=object),\n",
              " 'param_sgdclassifier__power_t': masked_array(data=[0.2, 0.4, 0.2, 0.4, 0.2, 0.4, 0.2, 0.4, 0.2, 0.4],\n",
              "              mask=[False, False, False, False, False, False, False, False,\n",
              "                    False, False],\n",
              "        fill_value='?',\n",
              "             dtype=object),\n",
              " 'params': [{'sgdclassifier__eta0': 0.1, 'sgdclassifier__power_t': 0.2},\n",
              "  {'sgdclassifier__eta0': 0.1, 'sgdclassifier__power_t': 0.4},\n",
              "  {'sgdclassifier__eta0': 0.2, 'sgdclassifier__power_t': 0.2},\n",
              "  {'sgdclassifier__eta0': 0.2, 'sgdclassifier__power_t': 0.4},\n",
              "  {'sgdclassifier__eta0': 0.3, 'sgdclassifier__power_t': 0.2},\n",
              "  {'sgdclassifier__eta0': 0.3, 'sgdclassifier__power_t': 0.4},\n",
              "  {'sgdclassifier__eta0': 0.4, 'sgdclassifier__power_t': 0.2},\n",
              "  {'sgdclassifier__eta0': 0.4, 'sgdclassifier__power_t': 0.4},\n",
              "  {'sgdclassifier__eta0': 0.5, 'sgdclassifier__power_t': 0.2},\n",
              "  {'sgdclassifier__eta0': 0.5, 'sgdclassifier__power_t': 0.4}],\n",
              " 'split0_test_score': array([0.92378991, 0.92276004, 0.9299691 , 0.93202884, 0.93408857,\n",
              "        0.9330587 , 0.9330587 , 0.9330587 , 0.93202884, 0.93717817]),\n",
              " 'split1_test_score': array([0.9299691 , 0.90937178, 0.94129763, 0.92584964, 0.94953656,\n",
              "        0.93408857, 0.95674562, 0.9361483 , 0.95983522, 0.93820803]),\n",
              " 'split2_test_score': array([0.93717817, 0.92276004, 0.92378991, 0.93099897, 0.92893924,\n",
              "        0.93099897, 0.93202884, 0.93202884, 0.9361483 , 0.93202884]),\n",
              " 'split3_test_score': array([0.91143151, 0.88671473, 0.87332647, 0.90525232, 0.87126674,\n",
              "        0.90937178, 0.87126674, 0.91143151, 0.87332647, 0.91246138]),\n",
              " 'split4_test_score': array([0.92584964, 0.92173018, 0.92173018, 0.92173018, 0.90319258,\n",
              "        0.92378991, 0.90422245, 0.92790937, 0.90628218, 0.93099897]),\n",
              " 'mean_test_score': array([0.92564367, 0.91266735, 0.91802266, 0.92317199, 0.91740474,\n",
              "        0.92626159, 0.91946447, 0.92811535, 0.9215242 , 0.93017508]),\n",
              " 'std_test_score': array([0.00845243, 0.01393025, 0.02336321, 0.00969607, 0.02747562,\n",
              "        0.00917911, 0.02928444, 0.00874841, 0.02948656, 0.00928937]),\n",
              " 'rank_test_score': array([ 4, 10,  8,  5,  9,  3,  7,  2,  6,  1], dtype=int32)}"
            ]
          },
          "metadata": {},
          "execution_count": 37
        }
      ]
    },
    {
      "cell_type": "markdown",
      "source": [
        "## Que 10 \n",
        "\n",
        "  * Ues the same estimator from the previous question. Take the 3rd best  combination of *eta0* and` power_t` from the CV results. Fit the same model and plot the threshold vs recall cuve and threshold vs precision curve on single graph . <br>\n",
        "  Select the threshold value(s) around which the recall score and precision score are equal. <br>\n",
        "\n",
        "  A. 1.09 <br>\n",
        "  B. 2.09 <br>\n",
        "  C. 0 <br>\n",
        "  D. -1.09 <br>\n",
        "  E. -2.09 <br>\n",
        "\n",
        "  Ans: D"
      ],
      "metadata": {
        "id": "noL_fPwnMK4a"
      }
    },
    {
      "cell_type": "markdown",
      "source": [
        "### Solution"
      ],
      "metadata": {
        "id": "biEMIWVUchfo"
      }
    },
    {
      "cell_type": "code",
      "source": [
        "estimator = SGDClassifier(loss='log',\n",
        "                        penalty='l2',\n",
        "                        max_iter=10,\n",
        "                        warm_start=False,\n",
        "                        eta0=0.4,\n",
        "                        alpha=0,\n",
        "                        power_t = 0.2,\n",
        "                        learning_rate='invscaling',\n",
        "                        shuffle=True,\n",
        "                        random_state=10)\n",
        "pipe_sgd = make_pipeline(MinMaxScaler(),estimator)"
      ],
      "metadata": {
        "id": "t7GB1sBECZm6"
      },
      "execution_count": null,
      "outputs": []
    },
    {
      "cell_type": "code",
      "source": [
        "pipe_sgd.fit(x_train,y_train_6)"
      ],
      "metadata": {
        "colab": {
          "base_uri": "https://localhost:8080/"
        },
        "id": "-sjfWR49Elym",
        "outputId": "2cb97086-e1e1-4690-d8b1-54af7818aa4c"
      },
      "execution_count": null,
      "outputs": [
        {
          "output_type": "execute_result",
          "data": {
            "text/plain": [
              "Pipeline(steps=[('minmaxscaler', MinMaxScaler()),\n",
              "                ('sgdclassifier',\n",
              "                 SGDClassifier(alpha=0, eta0=0.4, learning_rate='invscaling',\n",
              "                               loss='log', max_iter=10, power_t=0.2,\n",
              "                               random_state=10))])"
            ]
          },
          "metadata": {},
          "execution_count": 39
        }
      ]
    },
    {
      "cell_type": "code",
      "source": [
        "y_scores = pipe_sgd.decision_function(x_train)\n",
        "precisions, recalls, thresholds = precision_recall_curve(y_train_6, y_scores,pos_label=1)\n",
        "plt.figure(figsize=(10,4))\n",
        "plt.plot(thresholds, precisions[:-1], \"b--\", label=\"Precision\")\n",
        "plt.plot(thresholds, recalls[:-1], \"g-\", label=\"Recall\")\n",
        "plt.xlabel('Threshold')\n",
        "plt.grid(True)\n",
        "plt.legend(loc='upper right')\n",
        "plt.show()"
      ],
      "metadata": {
        "colab": {
          "base_uri": "https://localhost:8080/",
          "height": 286
        },
        "id": "czoNIpe2GWJc",
        "outputId": "1069fb39-f91b-499c-ee5a-70a72b27d807"
      },
      "execution_count": null,
      "outputs": [
        {
          "output_type": "display_data",
          "data": {
            "text/plain": [
              "<Figure size 720x288 with 1 Axes>"
            ],
            "image/png": "[encoded data removed]"
          },
          "metadata": {
            "needs_background": "light"
          }
        }
      ]
    },
    {
      "cell_type": "code",
      "source": [
        "index = np.where(precisions==recalls)\n",
        "print('Precision:{0},Recall:{1},Threshold:{2}'.format(precisions[index],recalls[index],thresholds[index]))"
      ],
      "metadata": {
        "colab": {
          "base_uri": "https://localhost:8080/"
        },
        "id": "3H-vHAjOQPH5",
        "outputId": "964ecf6b-fe7b-447b-f21e-0e72b85daa6d"
      },
      "execution_count": null,
      "outputs": [
        {
          "output_type": "stream",
          "name": "stdout",
          "text": [
            "Precision:[0.93820803],Recall:[0.93820803],Threshold:[-1.0957425]\n"
          ]
        }
      ]
    },
    {
      "cell_type": "markdown",
      "source": [
        "Graded Q5"
      ],
      "metadata": {
        "id": "_m6fNoDt2-Ij"
      }
    },
    {
      "cell_type": "code",
      "source": [
        "from sklearn.datasets import fetch_20newsgroups"
      ],
      "metadata": {
        "id": "YHYrum9A2zag"
      },
      "execution_count": null,
      "outputs": []
    },
    {
      "cell_type": "code",
      "source": [
        "data = fetch_20newsgroups()"
      ],
      "metadata": {
        "id": "mZvZot8R3CrD"
      },
      "execution_count": null,
      "outputs": []
    },
    {
      "cell_type": "code",
      "source": [
        "from sklearn.feature_extraction.text import TfidfVectorizer"
      ],
      "metadata": {
        "id": "irtbeimG3crU"
      },
      "execution_count": null,
      "outputs": []
    },
    {
      "cell_type": "code",
      "source": [
        "\n",
        "categories = ['alt.atheism',\n",
        " 'comp.graphics',\n",
        " 'comp.os.ms-windows.misc',\n",
        " 'comp.sys.ibm.pc.hardware',\n",
        " 'comp.sys.mac.hardware',\n",
        " 'comp.windows.x',\n",
        " 'misc.forsale',\n",
        " 'rec.autos',\n",
        " 'rec.motorcycles',\n",
        " 'rec.sport.baseball',\n",
        " 'rec.sport.hockey',\n",
        " 'sci.crypt',\n",
        " 'sci.electronics',\n",
        " 'sci.med',\n",
        " 'sci.space',\n",
        " 'soc.religion.christian',\n",
        " 'talk.politics.guns',\n",
        " 'talk.politics.mideast',\n",
        " 'talk.politics.misc',\n",
        " 'talk.religion.misc']\n",
        "newsgroups_train = fetch_20newsgroups(categories=categories)\n",
        "vectorizer = TfidfVectorizer()\n",
        "vectors = vectorizer.fit_transform(newsgroups_train.data)\n",
        "vectors.shape"
      ],
      "metadata": {
        "colab": {
          "base_uri": "https://localhost:8080/"
        },
        "id": "ppgRAMZu4GrE",
        "outputId": "bb3d9cc2-3ba9-41db-c1ea-e5069b7eaffd"
      },
      "execution_count": null,
      "outputs": [
        {
          "output_type": "execute_result",
          "data": {
            "text/plain": [
              "(11314, 130107)"
            ]
          },
          "metadata": {},
          "execution_count": 45
        }
      ]
    }
  ]
}