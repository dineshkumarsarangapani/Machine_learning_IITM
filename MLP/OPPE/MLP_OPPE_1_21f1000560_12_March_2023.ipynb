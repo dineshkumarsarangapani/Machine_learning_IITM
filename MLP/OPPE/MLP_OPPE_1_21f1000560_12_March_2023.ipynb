{
  "nbformat": 4,
  "nbformat_minor": 0,
  "metadata": {
    "colab": {
      "provenance": []
    },
    "kernelspec": {
      "name": "python3",
      "display_name": "Python 3"
    },
    "language_info": {
      "name": "python"
    }
  },
  "cells": [
    {
      "cell_type": "markdown",
      "source": [
        "# MLP OPPE 1\n",
        "\n",
        "To be filled before the exam starts:\n",
        "\n",
        "**Exam Name**: MLP OPPE 1\n",
        "\n",
        "**Name of the student:** Dinesh Kumar S\n",
        "\n",
        "**Roll No. of the student:** 21f1000560@ds.study.iitm.ac.in\n",
        "\n",
        "**Date:** 12 March 2023\n"
      ],
      "metadata": {
        "id": "XvyHSgS4PgVV"
      }
    },
    {
      "cell_type": "markdown",
      "source": [
        "### Q. 1:Which dataset are you using for this exam?\n"
      ],
      "metadata": {
        "id": "DkbTpcHnnbCp"
      }
    },
    {
      "cell_type": "code",
      "execution_count": 219,
      "metadata": {
        "id": "QbDEMsbwy2_H",
        "colab": {
          "base_uri": "https://localhost:8080/",
          "height": 35
        },
        "outputId": "03c0721b-aef1-491a-e42e-b2b09f477fcd"
      },
      "outputs": [
        {
          "output_type": "execute_result",
          "data": {
            "text/plain": [
              "'v5'"
            ],
            "application/vnd.google.colaboratory.intrinsic+json": {
              "type": "string"
            }
          },
          "metadata": {},
          "execution_count": 219
        }
      ],
      "source": [
        "'v5'"
      ]
    },
    {
      "cell_type": "markdown",
      "source": [
        "### Q. 2: How many total number of features (excluding target variable) are there in the dataset?"
      ],
      "metadata": {
        "id": "Uw1RexjSnhJK"
      }
    },
    {
      "cell_type": "code",
      "execution_count": 220,
      "metadata": {
        "id": "2FfA0k2KnhJL",
        "colab": {
          "base_uri": "https://localhost:8080/",
          "height": 288
        },
        "outputId": "cb8c0c34-f1dc-4e10-e0ca-0708869ea327"
      },
      "outputs": [
        {
          "output_type": "stream",
          "name": "stdout",
          "text": [
            "(6257, 12)\n"
          ]
        },
        {
          "output_type": "execute_result",
          "data": {
            "text/plain": [
              "      id  gender   area qualification  income  marital_status  vintage  \\\n",
              "0  63963    Male  Urban      Bachelor     NaN               1        0   \n",
              "1  19537    Male  Urban        Others   58.38               1        3   \n",
              "2  38004  Female  Rural      Bachelor    5.58               1        8   \n",
              "3  84329    Male  Urban      Bachelor    7.91               1        7   \n",
              "4  58436    Male  Rural   High School    7.83               1        4   \n",
              "\n",
              "   claim_amount num_policies policy type_of_policy    cltv  \n",
              "0        3629.0  More than 1      A         Silver  175140  \n",
              "1        2006.0  More than 1      B         Silver  154452  \n",
              "2           0.0  More than 1      B           Gold  102588  \n",
              "3        3867.0  More than 1      B         Silver   62532  \n",
              "4        2256.0  More than 1      B           Gold   59940  "
            ],
            "text/html": [
              "\n",
              "  <div id=\"df-883a3b1c-4683-4fd8-aaed-2c4026812b3d\">\n",
              "    <div class=\"colab-df-container\">\n",
              "      <div>\n",
              "<style scoped>\n",
              "    .dataframe tbody tr th:only-of-type {\n",
              "        vertical-align: middle;\n",
              "    }\n",
              "\n",
              "    .dataframe tbody tr th {\n",
              "        vertical-align: top;\n",
              "    }\n",
              "\n",
              "    .dataframe thead th {\n",
              "        text-align: right;\n",
              "    }\n",
              "</style>\n",
              "<table border=\"1\" class=\"dataframe\">\n",
              "  <thead>\n",
              "    <tr style=\"text-align: right;\">\n",
              "      <th></th>\n",
              "      <th>id</th>\n",
              "      <th>gender</th>\n",
              "      <th>area</th>\n",
              "      <th>qualification</th>\n",
              "      <th>income</th>\n",
              "      <th>marital_status</th>\n",
              "      <th>vintage</th>\n",
              "      <th>claim_amount</th>\n",
              "      <th>num_policies</th>\n",
              "      <th>policy</th>\n",
              "      <th>type_of_policy</th>\n",
              "      <th>cltv</th>\n",
              "    </tr>\n",
              "  </thead>\n",
              "  <tbody>\n",
              "    <tr>\n",
              "      <th>0</th>\n",
              "      <td>63963</td>\n",
              "      <td>Male</td>\n",
              "      <td>Urban</td>\n",
              "      <td>Bachelor</td>\n",
              "      <td>NaN</td>\n",
              "      <td>1</td>\n",
              "      <td>0</td>\n",
              "      <td>3629.0</td>\n",
              "      <td>More than 1</td>\n",
              "      <td>A</td>\n",
              "      <td>Silver</td>\n",
              "      <td>175140</td>\n",
              "    </tr>\n",
              "    <tr>\n",
              "      <th>1</th>\n",
              "      <td>19537</td>\n",
              "      <td>Male</td>\n",
              "      <td>Urban</td>\n",
              "      <td>Others</td>\n",
              "      <td>58.38</td>\n",
              "      <td>1</td>\n",
              "      <td>3</td>\n",
              "      <td>2006.0</td>\n",
              "      <td>More than 1</td>\n",
              "      <td>B</td>\n",
              "      <td>Silver</td>\n",
              "      <td>154452</td>\n",
              "    </tr>\n",
              "    <tr>\n",
              "      <th>2</th>\n",
              "      <td>38004</td>\n",
              "      <td>Female</td>\n",
              "      <td>Rural</td>\n",
              "      <td>Bachelor</td>\n",
              "      <td>5.58</td>\n",
              "      <td>1</td>\n",
              "      <td>8</td>\n",
              "      <td>0.0</td>\n",
              "      <td>More than 1</td>\n",
              "      <td>B</td>\n",
              "      <td>Gold</td>\n",
              "      <td>102588</td>\n",
              "    </tr>\n",
              "    <tr>\n",
              "      <th>3</th>\n",
              "      <td>84329</td>\n",
              "      <td>Male</td>\n",
              "      <td>Urban</td>\n",
              "      <td>Bachelor</td>\n",
              "      <td>7.91</td>\n",
              "      <td>1</td>\n",
              "      <td>7</td>\n",
              "      <td>3867.0</td>\n",
              "      <td>More than 1</td>\n",
              "      <td>B</td>\n",
              "      <td>Silver</td>\n",
              "      <td>62532</td>\n",
              "    </tr>\n",
              "    <tr>\n",
              "      <th>4</th>\n",
              "      <td>58436</td>\n",
              "      <td>Male</td>\n",
              "      <td>Rural</td>\n",
              "      <td>High School</td>\n",
              "      <td>7.83</td>\n",
              "      <td>1</td>\n",
              "      <td>4</td>\n",
              "      <td>2256.0</td>\n",
              "      <td>More than 1</td>\n",
              "      <td>B</td>\n",
              "      <td>Gold</td>\n",
              "      <td>59940</td>\n",
              "    </tr>\n",
              "  </tbody>\n",
              "</table>\n",
              "</div>\n",
              "      <button class=\"colab-df-convert\" onclick=\"convertToInteractive('df-883a3b1c-4683-4fd8-aaed-2c4026812b3d')\"\n",
              "              title=\"Convert this dataframe to an interactive table.\"\n",
              "              style=\"display:none;\">\n",
              "        \n",
              "  <svg xmlns=\"http://www.w3.org/2000/svg\" height=\"24px\"viewBox=\"0 0 24 24\"\n",
              "       width=\"24px\">\n",
              "    <path d=\"M0 0h24v24H0V0z\" fill=\"none\"/>\n",
              "    <path d=\"M18.56 5.44l.94 2.06.94-2.06 2.06-.94-2.06-.94-.94-2.06-.94 2.06-2.06.94zm-11 1L8.5 8.5l.94-2.06 2.06-.94-2.06-.94L8.5 2.5l-.94 2.06-2.06.94zm10 10l.94 2.06.94-2.06 2.06-.94-2.06-.94-.94-2.06-.94 2.06-2.06.94z\"/><path d=\"M17.41 7.96l-1.37-1.37c-.4-.4-.92-.59-1.43-.59-.52 0-1.04.2-1.43.59L10.3 9.45l-7.72 7.72c-.78.78-.78 2.05 0 2.83L4 21.41c.39.39.9.59 1.41.59.51 0 1.02-.2 1.41-.59l7.78-7.78 2.81-2.81c.8-.78.8-2.07 0-2.86zM5.41 20L4 18.59l7.72-7.72 1.47 1.35L5.41 20z\"/>\n",
              "  </svg>\n",
              "      </button>\n",
              "      \n",
              "  <style>\n",
              "    .colab-df-container {\n",
              "      display:flex;\n",
              "      flex-wrap:wrap;\n",
              "      gap: 12px;\n",
              "    }\n",
              "\n",
              "    .colab-df-convert {\n",
              "      background-color: #E8F0FE;\n",
              "      border: none;\n",
              "      border-radius: 50%;\n",
              "      cursor: pointer;\n",
              "      display: none;\n",
              "      fill: #1967D2;\n",
              "      height: 32px;\n",
              "      padding: 0 0 0 0;\n",
              "      width: 32px;\n",
              "    }\n",
              "\n",
              "    .colab-df-convert:hover {\n",
              "      background-color: #E2EBFA;\n",
              "      box-shadow: 0px 1px 2px rgba(60, 64, 67, 0.3), 0px 1px 3px 1px rgba(60, 64, 67, 0.15);\n",
              "      fill: #174EA6;\n",
              "    }\n",
              "\n",
              "    [theme=dark] .colab-df-convert {\n",
              "      background-color: #3B4455;\n",
              "      fill: #D2E3FC;\n",
              "    }\n",
              "\n",
              "    [theme=dark] .colab-df-convert:hover {\n",
              "      background-color: #434B5C;\n",
              "      box-shadow: 0px 1px 3px 1px rgba(0, 0, 0, 0.15);\n",
              "      filter: drop-shadow(0px 1px 2px rgba(0, 0, 0, 0.3));\n",
              "      fill: #FFFFFF;\n",
              "    }\n",
              "  </style>\n",
              "\n",
              "      <script>\n",
              "        const buttonEl =\n",
              "          document.querySelector('#df-883a3b1c-4683-4fd8-aaed-2c4026812b3d button.colab-df-convert');\n",
              "        buttonEl.style.display =\n",
              "          google.colab.kernel.accessAllowed ? 'block' : 'none';\n",
              "\n",
              "        async function convertToInteractive(key) {\n",
              "          const element = document.querySelector('#df-883a3b1c-4683-4fd8-aaed-2c4026812b3d');\n",
              "          const dataTable =\n",
              "            await google.colab.kernel.invokeFunction('convertToInteractive',\n",
              "                                                     [key], {});\n",
              "          if (!dataTable) return;\n",
              "\n",
              "          const docLinkHtml = 'Like what you see? Visit the ' +\n",
              "            '<a target=\"_blank\" href=https://colab.research.google.com/notebooks/data_table.ipynb>data table notebook</a>'\n",
              "            + ' to learn more about interactive tables.';\n",
              "          element.innerHTML = '';\n",
              "          dataTable['output_type'] = 'display_data';\n",
              "          await google.colab.output.renderOutput(dataTable, element);\n",
              "          const docLink = document.createElement('div');\n",
              "          docLink.innerHTML = docLinkHtml;\n",
              "          element.appendChild(docLink);\n",
              "        }\n",
              "      </script>\n",
              "    </div>\n",
              "  </div>\n",
              "  "
            ]
          },
          "metadata": {},
          "execution_count": 220
        }
      ],
      "source": [
        "import pandas as pd\n",
        "data = pd.read_csv('V5.csv')\n",
        "print(data.shape)\n",
        "data.head()"
      ]
    },
    {
      "cell_type": "markdown",
      "source": [
        "### Q. 3: What are the unique values of feature `Types of Policy` in the dataset?"
      ],
      "metadata": {
        "id": "koQSKlS2nhsW"
      }
    },
    {
      "cell_type": "code",
      "execution_count": 221,
      "metadata": {
        "id": "kbGlvaHxnhsX",
        "colab": {
          "base_uri": "https://localhost:8080/"
        },
        "outputId": "47d4539a-68f0-4871-f473-fe679f55935e"
      },
      "outputs": [
        {
          "output_type": "execute_result",
          "data": {
            "text/plain": [
              "array(['Silver', 'Gold', 'Platinum'], dtype=object)"
            ]
          },
          "metadata": {},
          "execution_count": 221
        }
      ],
      "source": [
        "data['type_of_policy'].unique()"
      ]
    },
    {
      "cell_type": "markdown",
      "source": [
        "### Q. 4:Which of the following columns have categorical data?"
      ],
      "metadata": {
        "id": "AHyTZdvLnh14"
      }
    },
    {
      "cell_type": "code",
      "execution_count": 222,
      "metadata": {
        "id": "J2F4KP8Xnh15",
        "colab": {
          "base_uri": "https://localhost:8080/"
        },
        "outputId": "75953e6c-ef4f-4636-8da7-90b7eca5a8c3"
      },
      "outputs": [
        {
          "output_type": "execute_result",
          "data": {
            "text/plain": [
              "id                  int64\n",
              "gender             object\n",
              "area               object\n",
              "qualification      object\n",
              "income            float64\n",
              "marital_status      int64\n",
              "vintage             int64\n",
              "claim_amount      float64\n",
              "num_policies       object\n",
              "policy             object\n",
              "type_of_policy     object\n",
              "cltv                int64\n",
              "dtype: object"
            ]
          },
          "metadata": {},
          "execution_count": 222
        }
      ],
      "source": [
        "data.dtypes"
      ]
    },
    {
      "cell_type": "markdown",
      "source": [
        "### Q. 5: Plot the `heatmap` and mark the pair which has the highest positive correlation value."
      ],
      "metadata": {
        "id": "aHvMKZRKnh-N"
      }
    },
    {
      "cell_type": "code",
      "execution_count": 223,
      "metadata": {
        "id": "rHp9EoVUnh-O",
        "colab": {
          "base_uri": "https://localhost:8080/",
          "height": 238
        },
        "outputId": "85c99baf-e632-4055-f17c-a50197bf9543"
      },
      "outputs": [
        {
          "output_type": "execute_result",
          "data": {
            "text/plain": [
              "                      id    income  marital_status   vintage  claim_amount  \\\n",
              "id              1.000000  0.011414       -0.016542 -0.013113      0.013463   \n",
              "income          0.011414  1.000000        0.011156 -0.016207     -0.128527   \n",
              "marital_status -0.016542  0.011156        1.000000 -0.029278     -0.102655   \n",
              "vintage        -0.013113 -0.016207       -0.029278  1.000000     -0.007389   \n",
              "claim_amount    0.013463 -0.128527       -0.102655 -0.007389      1.000000   \n",
              "cltv           -0.001273 -0.044643       -0.069811  0.039753      0.158689   \n",
              "\n",
              "                    cltv  \n",
              "id             -0.001273  \n",
              "income         -0.044643  \n",
              "marital_status -0.069811  \n",
              "vintage         0.039753  \n",
              "claim_amount    0.158689  \n",
              "cltv            1.000000  "
            ],
            "text/html": [
              "\n",
              "  <div id=\"df-6246fb94-50f8-483b-8780-ca67d2c33e8a\">\n",
              "    <div class=\"colab-df-container\">\n",
              "      <div>\n",
              "<style scoped>\n",
              "    .dataframe tbody tr th:only-of-type {\n",
              "        vertical-align: middle;\n",
              "    }\n",
              "\n",
              "    .dataframe tbody tr th {\n",
              "        vertical-align: top;\n",
              "    }\n",
              "\n",
              "    .dataframe thead th {\n",
              "        text-align: right;\n",
              "    }\n",
              "</style>\n",
              "<table border=\"1\" class=\"dataframe\">\n",
              "  <thead>\n",
              "    <tr style=\"text-align: right;\">\n",
              "      <th></th>\n",
              "      <th>id</th>\n",
              "      <th>income</th>\n",
              "      <th>marital_status</th>\n",
              "      <th>vintage</th>\n",
              "      <th>claim_amount</th>\n",
              "      <th>cltv</th>\n",
              "    </tr>\n",
              "  </thead>\n",
              "  <tbody>\n",
              "    <tr>\n",
              "      <th>id</th>\n",
              "      <td>1.000000</td>\n",
              "      <td>0.011414</td>\n",
              "      <td>-0.016542</td>\n",
              "      <td>-0.013113</td>\n",
              "      <td>0.013463</td>\n",
              "      <td>-0.001273</td>\n",
              "    </tr>\n",
              "    <tr>\n",
              "      <th>income</th>\n",
              "      <td>0.011414</td>\n",
              "      <td>1.000000</td>\n",
              "      <td>0.011156</td>\n",
              "      <td>-0.016207</td>\n",
              "      <td>-0.128527</td>\n",
              "      <td>-0.044643</td>\n",
              "    </tr>\n",
              "    <tr>\n",
              "      <th>marital_status</th>\n",
              "      <td>-0.016542</td>\n",
              "      <td>0.011156</td>\n",
              "      <td>1.000000</td>\n",
              "      <td>-0.029278</td>\n",
              "      <td>-0.102655</td>\n",
              "      <td>-0.069811</td>\n",
              "    </tr>\n",
              "    <tr>\n",
              "      <th>vintage</th>\n",
              "      <td>-0.013113</td>\n",
              "      <td>-0.016207</td>\n",
              "      <td>-0.029278</td>\n",
              "      <td>1.000000</td>\n",
              "      <td>-0.007389</td>\n",
              "      <td>0.039753</td>\n",
              "    </tr>\n",
              "    <tr>\n",
              "      <th>claim_amount</th>\n",
              "      <td>0.013463</td>\n",
              "      <td>-0.128527</td>\n",
              "      <td>-0.102655</td>\n",
              "      <td>-0.007389</td>\n",
              "      <td>1.000000</td>\n",
              "      <td>0.158689</td>\n",
              "    </tr>\n",
              "    <tr>\n",
              "      <th>cltv</th>\n",
              "      <td>-0.001273</td>\n",
              "      <td>-0.044643</td>\n",
              "      <td>-0.069811</td>\n",
              "      <td>0.039753</td>\n",
              "      <td>0.158689</td>\n",
              "      <td>1.000000</td>\n",
              "    </tr>\n",
              "  </tbody>\n",
              "</table>\n",
              "</div>\n",
              "      <button class=\"colab-df-convert\" onclick=\"convertToInteractive('df-6246fb94-50f8-483b-8780-ca67d2c33e8a')\"\n",
              "              title=\"Convert this dataframe to an interactive table.\"\n",
              "              style=\"display:none;\">\n",
              "        \n",
              "  <svg xmlns=\"http://www.w3.org/2000/svg\" height=\"24px\"viewBox=\"0 0 24 24\"\n",
              "       width=\"24px\">\n",
              "    <path d=\"M0 0h24v24H0V0z\" fill=\"none\"/>\n",
              "    <path d=\"M18.56 5.44l.94 2.06.94-2.06 2.06-.94-2.06-.94-.94-2.06-.94 2.06-2.06.94zm-11 1L8.5 8.5l.94-2.06 2.06-.94-2.06-.94L8.5 2.5l-.94 2.06-2.06.94zm10 10l.94 2.06.94-2.06 2.06-.94-2.06-.94-.94-2.06-.94 2.06-2.06.94z\"/><path d=\"M17.41 7.96l-1.37-1.37c-.4-.4-.92-.59-1.43-.59-.52 0-1.04.2-1.43.59L10.3 9.45l-7.72 7.72c-.78.78-.78 2.05 0 2.83L4 21.41c.39.39.9.59 1.41.59.51 0 1.02-.2 1.41-.59l7.78-7.78 2.81-2.81c.8-.78.8-2.07 0-2.86zM5.41 20L4 18.59l7.72-7.72 1.47 1.35L5.41 20z\"/>\n",
              "  </svg>\n",
              "      </button>\n",
              "      \n",
              "  <style>\n",
              "    .colab-df-container {\n",
              "      display:flex;\n",
              "      flex-wrap:wrap;\n",
              "      gap: 12px;\n",
              "    }\n",
              "\n",
              "    .colab-df-convert {\n",
              "      background-color: #E8F0FE;\n",
              "      border: none;\n",
              "      border-radius: 50%;\n",
              "      cursor: pointer;\n",
              "      display: none;\n",
              "      fill: #1967D2;\n",
              "      height: 32px;\n",
              "      padding: 0 0 0 0;\n",
              "      width: 32px;\n",
              "    }\n",
              "\n",
              "    .colab-df-convert:hover {\n",
              "      background-color: #E2EBFA;\n",
              "      box-shadow: 0px 1px 2px rgba(60, 64, 67, 0.3), 0px 1px 3px 1px rgba(60, 64, 67, 0.15);\n",
              "      fill: #174EA6;\n",
              "    }\n",
              "\n",
              "    [theme=dark] .colab-df-convert {\n",
              "      background-color: #3B4455;\n",
              "      fill: #D2E3FC;\n",
              "    }\n",
              "\n",
              "    [theme=dark] .colab-df-convert:hover {\n",
              "      background-color: #434B5C;\n",
              "      box-shadow: 0px 1px 3px 1px rgba(0, 0, 0, 0.15);\n",
              "      filter: drop-shadow(0px 1px 2px rgba(0, 0, 0, 0.3));\n",
              "      fill: #FFFFFF;\n",
              "    }\n",
              "  </style>\n",
              "\n",
              "      <script>\n",
              "        const buttonEl =\n",
              "          document.querySelector('#df-6246fb94-50f8-483b-8780-ca67d2c33e8a button.colab-df-convert');\n",
              "        buttonEl.style.display =\n",
              "          google.colab.kernel.accessAllowed ? 'block' : 'none';\n",
              "\n",
              "        async function convertToInteractive(key) {\n",
              "          const element = document.querySelector('#df-6246fb94-50f8-483b-8780-ca67d2c33e8a');\n",
              "          const dataTable =\n",
              "            await google.colab.kernel.invokeFunction('convertToInteractive',\n",
              "                                                     [key], {});\n",
              "          if (!dataTable) return;\n",
              "\n",
              "          const docLinkHtml = 'Like what you see? Visit the ' +\n",
              "            '<a target=\"_blank\" href=https://colab.research.google.com/notebooks/data_table.ipynb>data table notebook</a>'\n",
              "            + ' to learn more about interactive tables.';\n",
              "          element.innerHTML = '';\n",
              "          dataTable['output_type'] = 'display_data';\n",
              "          await google.colab.output.renderOutput(dataTable, element);\n",
              "          const docLink = document.createElement('div');\n",
              "          docLink.innerHTML = docLinkHtml;\n",
              "          element.appendChild(docLink);\n",
              "        }\n",
              "      </script>\n",
              "    </div>\n",
              "  </div>\n",
              "  "
            ]
          },
          "metadata": {},
          "execution_count": 223
        }
      ],
      "source": [
        "data.corr()"
      ]
    },
    {
      "cell_type": "markdown",
      "source": [
        "### Q. 6: Which of the following features have `missing` values?\n",
        "\n"
      ],
      "metadata": {
        "id": "wakf2BDAniYB"
      }
    },
    {
      "cell_type": "code",
      "execution_count": 224,
      "metadata": {
        "id": "MZdT3ZH1niYC",
        "colab": {
          "base_uri": "https://localhost:8080/"
        },
        "outputId": "86cb4cae-3990-4721-e72c-595511752da5"
      },
      "outputs": [
        {
          "output_type": "execute_result",
          "data": {
            "text/plain": [
              "id                  0\n",
              "gender              0\n",
              "area              388\n",
              "qualification       0\n",
              "income            376\n",
              "marital_status      0\n",
              "vintage             0\n",
              "claim_amount      386\n",
              "num_policies        0\n",
              "policy            393\n",
              "type_of_policy      0\n",
              "cltv                0\n",
              "dtype: int64"
            ]
          },
          "metadata": {},
          "execution_count": 224
        }
      ],
      "source": [
        "data.isna().sum()"
      ]
    },
    {
      "cell_type": "markdown",
      "source": [
        "### Q. 7: \n",
        "Break the dataset into features(`X`) and label (`y`), where the column `cltv` goes to `y` and the rest of the columns go to `X`. Enter the avg value of `cltv` column"
      ],
      "metadata": {
        "id": "aU_rpC49nihO"
      }
    },
    {
      "cell_type": "code",
      "execution_count": 225,
      "metadata": {
        "id": "hyYzgH1unihP",
        "colab": {
          "base_uri": "https://localhost:8080/"
        },
        "outputId": "a91b236f-924a-4b8d-afa4-34a6bdb9d61d"
      },
      "outputs": [
        {
          "output_type": "stream",
          "name": "stdout",
          "text": [
            "(6257, 11)\n",
            "(6257,)\n"
          ]
        },
        {
          "output_type": "execute_result",
          "data": {
            "text/plain": [
              "99423.4329550903"
            ]
          },
          "metadata": {},
          "execution_count": 225
        }
      ],
      "source": [
        "# ['id', 'gender', 'area', 'qualification', 'income', 'marital_status','vintage', 'claim_amount', 'num_policies', 'policy', 'type_of_policy', 'cltv']\n",
        "# print(data.columns)\n",
        "X = data[['id', 'gender', 'area', 'qualification', 'income', 'marital_status','vintage', 'claim_amount', 'num_policies', 'policy', 'type_of_policy']]\n",
        "y = data['cltv']\n",
        "print(X.shape)\n",
        "print(y.shape)\n",
        "y.mean()"
      ]
    },
    {
      "cell_type": "markdown",
      "source": [
        "### Q. 8: Split the dataset into training and test dataset using `train_test_split` into `70:30` ratio while keeping random_state =42. What is the shape of the training set (X_train)"
      ],
      "metadata": {
        "id": "6G8XIh3Zniox"
      }
    },
    {
      "cell_type": "code",
      "execution_count": 226,
      "metadata": {
        "id": "6q6lSNOKniox",
        "colab": {
          "base_uri": "https://localhost:8080/"
        },
        "outputId": "3cb0de36-c24e-4d79-a1b9-a0f0971632dc"
      },
      "outputs": [
        {
          "output_type": "stream",
          "name": "stdout",
          "text": [
            "(4379, 11)\n"
          ]
        }
      ],
      "source": [
        "from sklearn.model_selection import train_test_split\n",
        "\n",
        "X_train, X_test, y_train, y_test = train_test_split(X, y, train_size=0.7, test_size=0.3, random_state=42)\n",
        "print(X_train.shape)"
      ]
    },
    {
      "cell_type": "markdown",
      "source": [
        "### Q. 9: Drop(remove) `id` column from train and test data because not useful in model training. Now how many feature columns are remaining in training dataset?"
      ],
      "metadata": {
        "id": "Ya6hm0XGniwB"
      }
    },
    {
      "cell_type": "code",
      "execution_count": 227,
      "metadata": {
        "id": "awg8ffpTniwB",
        "colab": {
          "base_uri": "https://localhost:8080/"
        },
        "outputId": "150905a5-c9d4-4f6f-ddee-2cd3bd295372"
      },
      "outputs": [
        {
          "output_type": "stream",
          "name": "stdout",
          "text": [
            "(4379, 10)\n"
          ]
        }
      ],
      "source": [
        "X_train.drop(['id'], axis=1, inplace=True)\n",
        "X_test.drop(['id'], axis=1, inplace=True)\n",
        "print(X_train.shape)"
      ]
    },
    {
      "cell_type": "markdown",
      "source": [
        "### Q. 10: Compute and write median of `income` column of X_train while ignoring the missing values. Replace all NaN values in income column of X_train and X_test by the median computed in X_train (upto two decimal).\n"
      ],
      "metadata": {
        "id": "LFc8n8FIni3E"
      }
    },
    {
      "cell_type": "code",
      "execution_count": 228,
      "metadata": {
        "id": "Bci76g7Qni3F",
        "colab": {
          "base_uri": "https://localhost:8080/"
        },
        "outputId": "157855fc-a4cf-435f-de46-1ba40ec05b61"
      },
      "outputs": [
        {
          "output_type": "stream",
          "name": "stdout",
          "text": [
            "272\n",
            "median income is  6.89\n"
          ]
        },
        {
          "output_type": "execute_result",
          "data": {
            "text/plain": [
              "0"
            ]
          },
          "metadata": {},
          "execution_count": 228
        }
      ],
      "source": [
        "print(X_train['income'].isna().sum())\n",
        "income_median = X_train['income'].median()\n",
        "print(\"median income is \",income_median)\n",
        "import numpy as np\n",
        "X_train['income'].fillna(income_median, inplace=True)\n",
        "X_test['income'].fillna(income_median, inplace=True)\n",
        "X_train['income'].isna().sum()"
      ]
    },
    {
      "cell_type": "markdown",
      "source": [
        "### Q. 11: Which is the most frequent value in `policy` column of X_train? Replace all NaN value in `policy` column of X_train and X_test by most frequent value in X_train"
      ],
      "metadata": {
        "id": "x7HT3SDqni9t"
      }
    },
    {
      "cell_type": "code",
      "execution_count": 229,
      "metadata": {
        "id": "SZVSXKi_ni9u",
        "colab": {
          "base_uri": "https://localhost:8080/"
        },
        "outputId": "ab2d522f-783c-4d8c-e37c-7733b802e6c8"
      },
      "outputs": [
        {
          "output_type": "stream",
          "name": "stdout",
          "text": [
            "Number of NaN valus in policy are  285\n",
            "unique Values of policy are  ['B' 'A' 'C' nan]\n",
            "Total rows of policy  4094\n",
            "Total rows of policy with value A 2584\n",
            "Total rows of policy with value B 1157\n",
            "Total rows of policy with value C 1157\n",
            "unique Values of policy after imputation are  ['B' 'A' 'C']\n"
          ]
        }
      ],
      "source": [
        "print(\"Number of NaN valus in policy are \", X_train['policy'].isna().sum())\n",
        "print(\"unique Values of policy are \", X_train['policy'].unique())\n",
        "print(\"Total rows of policy \", X_train['policy'].count())\n",
        "b_pol = X_train['policy'][X_train['policy'] == 'B']\n",
        "a_pol = X_train['policy'][X_train['policy'] == 'A']\n",
        "c_pol = X_train['policy'][X_train['policy'] == 'B']\n",
        "print(\"Total rows of policy with value A\", len(a_pol))\n",
        "print(\"Total rows of policy with value B\", len(b_pol))\n",
        "print(\"Total rows of policy with value C\", len(c_pol))\n",
        "X_train['policy'].fillna('A', inplace=True)\n",
        "X_test['policy'].fillna('A', inplace=True)\n",
        "print(\"unique Values of policy after imputation are \", X_train['policy'].unique())"
      ]
    },
    {
      "cell_type": "markdown",
      "source": [
        "### Q. 12: Which is the most frequent value in `area` column of X_train? Replace all NaN value in `area` column of X_train and X_test by most frequent value X_train"
      ],
      "metadata": {
        "id": "jRjM0rXdnjFg"
      }
    },
    {
      "cell_type": "code",
      "execution_count": 230,
      "metadata": {
        "id": "jyO_KmCCnjFh",
        "colab": {
          "base_uri": "https://localhost:8080/"
        },
        "outputId": "90656933-c526-417e-ee48-172cd443bef5"
      },
      "outputs": [
        {
          "output_type": "stream",
          "name": "stdout",
          "text": [
            "Number of NaN valus in area are  282\n",
            "unique Values of area are  ['Rural' 'Urban' nan]\n",
            "Total rows of area  4097\n",
            "Total rows of area with value Rural 1182\n",
            "Total rows of area with value Urban 2915\n",
            "unique Values of area after imputation are  ['Rural' 'Urban']\n",
            "Total rows of area after impute  4379\n"
          ]
        }
      ],
      "source": [
        "print(\"Number of NaN valus in area are \", X_train['area'].isna().sum())\n",
        "print(\"unique Values of area are \", X_train['area'].unique())\n",
        "print(\"Total rows of area \", X_train['area'].count())\n",
        "rural = X_train['area'][X_train['area'] == 'Rural']\n",
        "urban = X_train['area'][X_train['area'] == 'Urban']\n",
        "print(\"Total rows of area with value Rural\", len(rural))\n",
        "print(\"Total rows of area with value Urban\", len(urban))\n",
        "X_train['area'].fillna('Urban', inplace=True)\n",
        "X_test['area'].fillna('Urban', inplace=True)\n",
        "print(\"unique Values of area after imputation are \", X_train['area'].unique())\n",
        "print(\"Total rows of area after impute \", X_train['area'].count())"
      ]
    },
    {
      "cell_type": "markdown",
      "source": [
        "### Q. 13: Replace all NaN value in claim_amount column of X_train and X_test by 0 (Zero). After Replacing NAN values from claim_amount column what is the standard deviation of claim_amount column in X_train. (correct upto two decimal places)\n"
      ],
      "metadata": {
        "id": "DstfuzPRnjOB"
      }
    },
    {
      "cell_type": "code",
      "execution_count": 231,
      "metadata": {
        "id": "L4CRzjjanjOC",
        "colab": {
          "base_uri": "https://localhost:8080/"
        },
        "outputId": "0eb68f4e-f21f-43c0-b533-0b1b2a809bbe"
      },
      "outputs": [
        {
          "output_type": "execute_result",
          "data": {
            "text/plain": [
              "3330.754550847971"
            ]
          },
          "metadata": {},
          "execution_count": 231
        }
      ],
      "source": [
        "X_train['claim_amount'].fillna(0, inplace=True)\n",
        "X_test['claim_amount'].fillna(0, inplace=True)\n",
        "X_train['claim_amount'].std()"
      ]
    },
    {
      "cell_type": "markdown",
      "source": [
        "### Q. 14: Apply `MinMaxScaler` on `income` column of X_train. Compute and write median of `income` column? (correct Upto 2 decimal)"
      ],
      "metadata": {
        "id": "MzU5TSmInjVX"
      }
    },
    {
      "cell_type": "code",
      "execution_count": 232,
      "metadata": {
        "id": "0PUIl7b1njVX",
        "colab": {
          "base_uri": "https://localhost:8080/"
        },
        "outputId": "abd74869-3ea1-458d-c66b-42faab41754b"
      },
      "outputs": [
        {
          "output_type": "execute_result",
          "data": {
            "text/plain": [
              "0.06887576333967364"
            ]
          },
          "metadata": {},
          "execution_count": 232
        }
      ],
      "source": [
        "from sklearn.preprocessing import MinMaxScaler\n",
        "scale = MinMaxScaler()\n",
        "income = np.array(X_train['income'])\n",
        "scaled_income = scale.fit_transform(income.reshape(-1,1))\n",
        "scaled_income_df =pd.DataFrame(scaled_income)\n",
        "scaled_income_df[0].median()"
      ]
    },
    {
      "cell_type": "markdown",
      "source": [
        "### Q. 15: Apply preprocessing on features of X_train and X_test dataset.\n",
        "\n",
        "For Categorical Features\n",
        "\n",
        "Apply OneHotEncoding from sklearn library on all categorical features(object columns). Do Encoding in the order of following list\n",
        "['gender', 'area','qualification','marital_status', 'num_policies', 'policy', 'type_of_policy']\n",
        "\n",
        "Let's call the transformed categorical feature matrix  X1\n",
        "​\n",
        "  \n",
        "\n",
        "For Numerical Features\n",
        "apply MinMaxScaler and transform the dataset. Do scaling in the order of following list\n",
        "Numerical Features = [ 'income', 'vintage', 'claim_amount' ]\n",
        "Let's call the transformed categorical feature matrix  X2\n",
        "​\n",
        "  \n",
        "\n",
        "concatenate(One Hot Encoded Features, Scaled Numerical Features)\n",
        "After combining transformed categorical feature( X1) matrix and transformed numerical feature matrix (X2) (side by side in that order), the output will be  \n",
        "X=[X1, X2]\n",
        "\n",
        "#Hints\n",
        "Apply ColumnTransformer to encode categorical columns scaling on numerical columns with required preprocessor\n",
        "Another way is to separately encode all categorical columns and scale numerical columns and do and concatenate (hstack) both side by side. Keep categorical columns in front of numerical while concatenating.\n",
        "\n",
        "The trasformed (as desribed by above steps) X_train and X_test, should be considered as X_train and X_test henceforth.\n",
        "\n",
        "\n",
        "How many features will you get after preprocessing?"
      ],
      "metadata": {
        "id": "opKcFBPnnjet"
      }
    },
    {
      "cell_type": "code",
      "source": [
        "X_train.isnull().sum()"
      ],
      "metadata": {
        "colab": {
          "base_uri": "https://localhost:8080/"
        },
        "id": "t7Y4AN4NGZsw",
        "outputId": "54994bc7-8585-439d-ef02-f0093f8c5c00"
      },
      "execution_count": 233,
      "outputs": [
        {
          "output_type": "execute_result",
          "data": {
            "text/plain": [
              "gender            0\n",
              "area              0\n",
              "qualification     0\n",
              "income            0\n",
              "marital_status    0\n",
              "vintage           0\n",
              "claim_amount      0\n",
              "num_policies      0\n",
              "policy            0\n",
              "type_of_policy    0\n",
              "dtype: int64"
            ]
          },
          "metadata": {},
          "execution_count": 233
        }
      ]
    },
    {
      "cell_type": "code",
      "source": [
        "X_train['area'].unique()"
      ],
      "metadata": {
        "colab": {
          "base_uri": "https://localhost:8080/"
        },
        "id": "h8Gfw-oyNX0d",
        "outputId": "64bb76dc-1f2d-4337-9e2d-fc5739d9198f"
      },
      "execution_count": 234,
      "outputs": [
        {
          "output_type": "execute_result",
          "data": {
            "text/plain": [
              "array(['Rural', 'Urban'], dtype=object)"
            ]
          },
          "metadata": {},
          "execution_count": 234
        }
      ]
    },
    {
      "cell_type": "code",
      "execution_count": 235,
      "metadata": {
        "id": "BtjE6iUgnjet",
        "colab": {
          "base_uri": "https://localhost:8080/"
        },
        "outputId": "b4f8fc72-b296-42e2-893e-0568ca80ebcd"
      },
      "outputs": [
        {
          "output_type": "stream",
          "name": "stdout",
          "text": [
            "(4379, 10)\n",
            "[ColumnTransformer] . (1 of 2) Processing onehotecoding, total=   0.0s\n",
            "[ColumnTransformer] .. (2 of 2) Processing MinMaxScaler, total=   0.0s\n",
            "(4379, 20)\n",
            "(1878, 20)\n"
          ]
        }
      ],
      "source": [
        "from sklearn.compose import ColumnTransformer\n",
        "from sklearn.preprocessing import OneHotEncoder\n",
        "from sklearn.pipeline import Pipeline\n",
        "\n",
        "# ColumnTransformer?\n",
        "all_cols = ColumnTransformer([('onehotecoding', OneHotEncoder(), ['gender', 'area','qualification','marital_status', 'num_policies', 'policy', 'type_of_policy']), ('MinMaxScaler', MinMaxScaler(), [ 'income', 'vintage', 'claim_amount' ])], remainder='passthrough', verbose=True,verbose_feature_names_out=True)\n",
        "# num_cols = ColumnTransformer([('MinMaxScaler', MinMaxScaler(), [ 'income', 'vintage', 'claim_amount' ])], remainder='drop',verbose=True,verbose_feature_names_out=True)\n",
        "# cat_cols = ColumnTransformer([('onehotecoding', OneHotEncoder(), ['gender', 'area','qualification','marital_status', 'num_policies', 'policy', 'type_of_policy'])], remainder='drop',verbose=True,verbose_feature_names_out=True)\n",
        "\n",
        "pipe = Pipeline([('cat_cols', all_cols)])\n",
        "print((X_train.shape))\n",
        "X_train_trans = pipe.fit_transform(X_train)\n",
        "X_test_trans = pipe.transform(X_test)\n",
        "print(X_train_trans.shape)\n",
        "print(X_test_trans.shape)\n",
        "\n",
        "# X_train_cat = cat_cols.fit_transform(X_train)\n",
        "# print(X_train_cat.shape)\n",
        "# X_train_num = num_cols.fit_transform(X_train)\n",
        "# print(X_train_num.shape)"
      ]
    },
    {
      "cell_type": "markdown",
      "source": [
        "### Q. 16: Apply `SequentialFeatureSelector` transformer with direction= 'forward' with `LinearRegression()` estimator and select 5 features by fitting to the X_train and y_train. \n",
        "\n",
        "* Use cv = KFold(n_splits=5,random_state=42,shuffle=True) in SequentialFeatureSelector.\n",
        "\n",
        " Which of the following options represents the correct integer index of the selected features list?"
      ],
      "metadata": {
        "id": "jFNPyqjMnjlp"
      }
    },
    {
      "cell_type": "code",
      "execution_count": 236,
      "metadata": {
        "id": "wiERjXsqnjlq",
        "colab": {
          "base_uri": "https://localhost:8080/"
        },
        "outputId": "95701c36-b564-4823-ef79-f5fe2138c562"
      },
      "outputs": [
        {
          "output_type": "stream",
          "name": "stdout",
          "text": [
            "[False False False  True False False False  True False False  True False\n",
            " False  True False False False False False  True]\n"
          ]
        },
        {
          "output_type": "execute_result",
          "data": {
            "text/plain": [
              "(4379, 5)"
            ]
          },
          "metadata": {},
          "execution_count": 236
        }
      ],
      "source": [
        "from sklearn.feature_selection import SequentialFeatureSelector\n",
        "from sklearn.model_selection import KFold\n",
        "from sklearn.linear_model import LinearRegression\n",
        "\n",
        "cv = KFold(n_splits=5,random_state=42,shuffle=True)\n",
        "# SequentialFeatureSelector?\n",
        "logis = LinearRegression()\n",
        "sfs = SequentialFeatureSelector(logis, n_features_to_select=5, direction='forward', cv=cv)\n",
        "sfs.fit(X_train_trans, y_train)\n",
        "print(sfs.get_support())\n",
        "#[False False False  True False False False  True False False  True False False  True False False False False False  True]\n",
        "# [0,      1,     2,     3,     4,     5,     6,    7,       8,   9,     10,    11,   12,   13,      14,  15,     16,    17,    18,   19,     20]\n",
        "#3,7,10,13,19\n",
        "\n",
        "sfs.transform(X_train_trans).shape"
      ]
    },
    {
      "cell_type": "markdown",
      "source": [
        "### Q. 17: Apply `LinearRegression` on the trainig set(`X_train` and `y_train`). What is the `R2 score` on the test set(`X_test` and `y_test`).\n",
        "\n",
        "( Upto 4 digits after decimal points)"
      ],
      "metadata": {
        "id": "dcoYOyJdnjsu"
      }
    },
    {
      "cell_type": "code",
      "execution_count": 237,
      "metadata": {
        "id": "W_PzF3QOnjsu"
      },
      "outputs": [],
      "source": [
        "li = LinearRegression()\n",
        "li.fit(X_train_trans, y_train)\n",
        "y_pred_li = li.predict(X_test_trans)"
      ]
    },
    {
      "cell_type": "code",
      "source": [
        "from sklearn.metrics import r2_score\n",
        "r2_score(y_test, y_pred_li)"
      ],
      "metadata": {
        "colab": {
          "base_uri": "https://localhost:8080/"
        },
        "id": "rLCmAXBGOIIR",
        "outputId": "25eeca0c-0639-4473-a1f1-931ebf900ef2"
      },
      "execution_count": 238,
      "outputs": [
        {
          "output_type": "execute_result",
          "data": {
            "text/plain": [
              "0.1478547596801295"
            ]
          },
          "metadata": {},
          "execution_count": 238
        }
      ]
    },
    {
      "cell_type": "markdown",
      "source": [
        "### Q. 18: Using the `LinearRegression` model, compute the `cross-validation scores` for `5 splits` on training data (X_train and y_train) using `cross_val_score`.Enter the maximum value of `𝑅2 score`\n",
        "\n",
        "( Upto 4 digits after decimal points)?"
      ],
      "metadata": {
        "id": "4BhzomH5njzL"
      }
    },
    {
      "cell_type": "code",
      "execution_count": 239,
      "metadata": {
        "id": "dADPEykAnjzL"
      },
      "outputs": [],
      "source": [
        "from sklearn.model_selection import cross_val_score\n",
        "\n",
        "# cross_val_score?"
      ]
    },
    {
      "cell_type": "code",
      "source": [
        "print(cross_val_score(LinearRegression(), X_train_trans, y_train, cv=5))"
      ],
      "metadata": {
        "colab": {
          "base_uri": "https://localhost:8080/"
        },
        "id": "KjOHKuicO2WR",
        "outputId": "10582436-aded-4f2a-f7a5-9ef38af33d20"
      },
      "execution_count": 240,
      "outputs": [
        {
          "output_type": "stream",
          "name": "stdout",
          "text": [
            "[0.12813998 0.14185139 0.1189497  0.15020976 0.12235988]\n"
          ]
        }
      ]
    },
    {
      "cell_type": "markdown",
      "source": [
        "### Q. 19: Apply Ridge regression with random_state=42 with default penalty value on training set(X_train and y_train) and calculate the 𝑅2 score on test_set (X_test and y_test). What is the correct score"
      ],
      "metadata": {
        "id": "T29iYvqwnj5G"
      }
    },
    {
      "cell_type": "code",
      "source": [
        "from sklearn.linear_model import Ridge\n",
        "rr = Ridge(random_state=42)\n",
        "rr.fit(X_train_trans, y_train)\n",
        "y_pred_rr = rr.predict(X_test_trans)"
      ],
      "metadata": {
        "id": "cROC3l3rO1tL"
      },
      "execution_count": 241,
      "outputs": []
    },
    {
      "cell_type": "code",
      "execution_count": 242,
      "metadata": {
        "id": "cVYNn87cnj5G",
        "colab": {
          "base_uri": "https://localhost:8080/"
        },
        "outputId": "027639a7-98d0-4efe-f3e1-6fddd9e93ae1"
      },
      "outputs": [
        {
          "output_type": "execute_result",
          "data": {
            "text/plain": [
              "0.14727947161122568"
            ]
          },
          "metadata": {},
          "execution_count": 242
        }
      ],
      "source": [
        "r2_score(y_test, y_pred_rr)"
      ]
    },
    {
      "cell_type": "markdown",
      "source": [
        "### Q. 20: Apply Lasso regression with random_state=42 and regularization rate=0.1 on the training data(X_train & y_train). Enter the value of the intercept you got correctly upto 2 digits after decimal points"
      ],
      "metadata": {
        "id": "ImoMFOgqnj-u"
      }
    },
    {
      "cell_type": "code",
      "execution_count": 243,
      "metadata": {
        "id": "_Y_A8XCDnj-u",
        "colab": {
          "base_uri": "https://localhost:8080/",
          "height": 130
        },
        "outputId": "e04c7e91-7f14-429b-a552-631d8fe82084"
      },
      "outputs": [
        {
          "output_type": "stream",
          "name": "stderr",
          "text": [
            "/usr/local/lib/python3.9/dist-packages/sklearn/linear_model/_coordinate_descent.py:631: ConvergenceWarning: Objective did not converge. You might want to increase the number of iterations, check the scale of the features or consider increasing regularisation. Duality gap: 1.284e+12, tolerance: 3.600e+09\n",
            "  model = cd_fast.enet_coordinate_descent(\n"
          ]
        },
        {
          "output_type": "execute_result",
          "data": {
            "text/plain": [
              "Lasso(alpha=0.1, random_state=42)"
            ],
            "text/html": [
              "<style>#sk-container-id-9 {color: black;background-color: white;}#sk-container-id-9 pre{padding: 0;}#sk-container-id-9 div.sk-toggleable {background-color: white;}#sk-container-id-9 label.sk-toggleable__label {cursor: pointer;display: block;width: 100%;margin-bottom: 0;padding: 0.3em;box-sizing: border-box;text-align: center;}#sk-container-id-9 label.sk-toggleable__label-arrow:before {content: \"▸\";float: left;margin-right: 0.25em;color: #696969;}#sk-container-id-9 label.sk-toggleable__label-arrow:hover:before {color: black;}#sk-container-id-9 div.sk-estimator:hover label.sk-toggleable__label-arrow:before {color: black;}#sk-container-id-9 div.sk-toggleable__content {max-height: 0;max-width: 0;overflow: hidden;text-align: left;background-color: #f0f8ff;}#sk-container-id-9 div.sk-toggleable__content pre {margin: 0.2em;color: black;border-radius: 0.25em;background-color: #f0f8ff;}#sk-container-id-9 input.sk-toggleable__control:checked~div.sk-toggleable__content {max-height: 200px;max-width: 100%;overflow: auto;}#sk-container-id-9 input.sk-toggleable__control:checked~label.sk-toggleable__label-arrow:before {content: \"▾\";}#sk-container-id-9 div.sk-estimator input.sk-toggleable__control:checked~label.sk-toggleable__label {background-color: #d4ebff;}#sk-container-id-9 div.sk-label input.sk-toggleable__control:checked~label.sk-toggleable__label {background-color: #d4ebff;}#sk-container-id-9 input.sk-hidden--visually {border: 0;clip: rect(1px 1px 1px 1px);clip: rect(1px, 1px, 1px, 1px);height: 1px;margin: -1px;overflow: hidden;padding: 0;position: absolute;width: 1px;}#sk-container-id-9 div.sk-estimator {font-family: monospace;background-color: #f0f8ff;border: 1px dotted black;border-radius: 0.25em;box-sizing: border-box;margin-bottom: 0.5em;}#sk-container-id-9 div.sk-estimator:hover {background-color: #d4ebff;}#sk-container-id-9 div.sk-parallel-item::after {content: \"\";width: 100%;border-bottom: 1px solid gray;flex-grow: 1;}#sk-container-id-9 div.sk-label:hover label.sk-toggleable__label {background-color: #d4ebff;}#sk-container-id-9 div.sk-serial::before {content: \"\";position: absolute;border-left: 1px solid gray;box-sizing: border-box;top: 0;bottom: 0;left: 50%;z-index: 0;}#sk-container-id-9 div.sk-serial {display: flex;flex-direction: column;align-items: center;background-color: white;padding-right: 0.2em;padding-left: 0.2em;position: relative;}#sk-container-id-9 div.sk-item {position: relative;z-index: 1;}#sk-container-id-9 div.sk-parallel {display: flex;align-items: stretch;justify-content: center;background-color: white;position: relative;}#sk-container-id-9 div.sk-item::before, #sk-container-id-9 div.sk-parallel-item::before {content: \"\";position: absolute;border-left: 1px solid gray;box-sizing: border-box;top: 0;bottom: 0;left: 50%;z-index: -1;}#sk-container-id-9 div.sk-parallel-item {display: flex;flex-direction: column;z-index: 1;position: relative;background-color: white;}#sk-container-id-9 div.sk-parallel-item:first-child::after {align-self: flex-end;width: 50%;}#sk-container-id-9 div.sk-parallel-item:last-child::after {align-self: flex-start;width: 50%;}#sk-container-id-9 div.sk-parallel-item:only-child::after {width: 0;}#sk-container-id-9 div.sk-dashed-wrapped {border: 1px dashed gray;margin: 0 0.4em 0.5em 0.4em;box-sizing: border-box;padding-bottom: 0.4em;background-color: white;}#sk-container-id-9 div.sk-label label {font-family: monospace;font-weight: bold;display: inline-block;line-height: 1.2em;}#sk-container-id-9 div.sk-label-container {text-align: center;}#sk-container-id-9 div.sk-container {/* jupyter's `normalize.less` sets `[hidden] { display: none; }` but bootstrap.min.css set `[hidden] { display: none !important; }` so we also need the `!important` here to be able to override the default hidden behavior on the sphinx rendered scikit-learn.org. See: https://github.com/scikit-learn/scikit-learn/issues/21755 */display: inline-block !important;position: relative;}#sk-container-id-9 div.sk-text-repr-fallback {display: none;}</style><div id=\"sk-container-id-9\" class=\"sk-top-container\"><div class=\"sk-text-repr-fallback\"><pre>Lasso(alpha=0.1, random_state=42)</pre><b>In a Jupyter environment, please rerun this cell to show the HTML representation or trust the notebook. <br />On GitHub, the HTML representation is unable to render, please try loading this page with nbviewer.org.</b></div><div class=\"sk-container\" hidden><div class=\"sk-item\"><div class=\"sk-estimator sk-toggleable\"><input class=\"sk-toggleable__control sk-hidden--visually\" id=\"sk-estimator-id-12\" type=\"checkbox\" checked><label for=\"sk-estimator-id-12\" class=\"sk-toggleable__label sk-toggleable__label-arrow\">Lasso</label><div class=\"sk-toggleable__content\"><pre>Lasso(alpha=0.1, random_state=42)</pre></div></div></div></div></div>"
            ]
          },
          "metadata": {},
          "execution_count": 243
        }
      ],
      "source": [
        "from sklearn.linear_model import Lasso\n",
        "\n",
        "ll = Lasso(random_state=42, alpha=0.1 )\n",
        "ll.fit(X_train_trans, y_train)"
      ]
    },
    {
      "cell_type": "code",
      "source": [
        "ll.intercept_"
      ],
      "metadata": {
        "colab": {
          "base_uri": "https://localhost:8080/"
        },
        "id": "YFt3pob9P3kS",
        "outputId": "84b86256-d02d-48ae-8467-fe9ad15800fa"
      },
      "execution_count": 244,
      "outputs": [
        {
          "output_type": "execute_result",
          "data": {
            "text/plain": [
              "107300.60205407698"
            ]
          },
          "metadata": {},
          "execution_count": 244
        }
      ]
    },
    {
      "cell_type": "markdown",
      "source": [
        "### Q. 21:  Fit `SGDRegressor(random_state=42)` estimator on the training data(X_train & y_train) and predict labels for test_data(X_test), lets call it as `y_test_predict`. The parameters are initialized with default values. Calculate and mark the correct `mean_absolute_error` value between `y_test` and `y_test_predict` from the given options. (Correct upto two decimals)"
      ],
      "metadata": {
        "id": "WFX76nLynkE_"
      }
    },
    {
      "cell_type": "code",
      "execution_count": 245,
      "metadata": {
        "id": "BCL-q5lTnkE_"
      },
      "outputs": [],
      "source": [
        "from sklearn.linear_model import SGDRegressor\n",
        "\n",
        "sgd = SGDRegressor(random_state=42)\n",
        "sgd.fit(X_train_trans, y_train)\n",
        "y_test_sgd = sgd.predict(X_test_trans)"
      ]
    },
    {
      "cell_type": "code",
      "source": [
        "from sklearn.metrics import mean_absolute_error\n",
        "mean_absolute_error(y_test, y_test_sgd)"
      ],
      "metadata": {
        "colab": {
          "base_uri": "https://localhost:8080/"
        },
        "id": "h6yCMLQYQa9C",
        "outputId": "9fd2128f-7a0a-4109-8ce6-854c8b9763a0"
      },
      "execution_count": 246,
      "outputs": [
        {
          "output_type": "execute_result",
          "data": {
            "text/plain": [
              "55261.57082315531"
            ]
          },
          "metadata": {},
          "execution_count": 246
        }
      ]
    },
    {
      "cell_type": "markdown",
      "source": [
        "### Q. 22: Using `SGDRegressor(random_state=42)` as an estimator for exactly 10 iterations.\n",
        "\n",
        "Write the correct R2 score on test data - (correct Upto 4 digits)\n"
      ],
      "metadata": {
        "id": "5jOcKn3EnkLR"
      }
    },
    {
      "cell_type": "code",
      "execution_count": 247,
      "metadata": {
        "id": "da7kN20nnkLR",
        "colab": {
          "base_uri": "https://localhost:8080/"
        },
        "outputId": "2a94d3a2-bb9b-4d2e-9b9e-9bbb90ba0efe"
      },
      "outputs": [
        {
          "output_type": "execute_result",
          "data": {
            "text/plain": [
              "0.14703950095863294"
            ]
          },
          "metadata": {},
          "execution_count": 247
        }
      ],
      "source": [
        "sgd_loop = SGDRegressor(random_state=42)\n",
        "\n",
        "for i in range(10):\n",
        "  # print(i)\n",
        "  sgd_loop.fit(X_train_trans, y_train)\n",
        "\n",
        "y_test_sgd_loop = sgd_loop.predict(X_test_trans)\n",
        "r2_score(y_test, y_test_sgd_loop)"
      ]
    },
    {
      "cell_type": "markdown",
      "source": [
        "\n",
        "\n",
        "```\n",
        "# This is formatted as code\n",
        "```\n",
        "\n",
        "### Q. 23: (Common Instructions for Question 23 and 24)\n",
        "\n",
        "Create a pipeline Using PolynomialFeatures as transformer and Lasso as estimator. Use GridSearchCV with this created pipeline and following hyperparameter values on training data(X_train, y_train) to fit the model .\n",
        "\n",
        "1. Keep polynomial degree as : [1, 2]\n",
        "2. alpha value to be taken as : np.logspace(-3, 0, num=5)\n",
        "3. scoring : neg_mean_absolute_error .\n",
        "\n",
        "(Note: Kindly ignore the warning.)\n",
        "\n",
        "Mark the best `alpha` value you got using above instructions."
      ],
      "metadata": {
        "id": "ESkoZ7BinkUm"
      }
    },
    {
      "cell_type": "code",
      "source": [
        "GridSearchCV?"
      ],
      "metadata": {
        "id": "e1NYjdFuRtVL"
      },
      "execution_count": 248,
      "outputs": []
    },
    {
      "cell_type": "code",
      "execution_count": 249,
      "metadata": {
        "id": "AccjZgrnnkUn"
      },
      "outputs": [],
      "source": [
        "from sklearn.preprocessing import PolynomialFeatures\n",
        "from sklearn.model_selection import GridSearchCV\n",
        "\n",
        "pipe2 = Pipeline([('poly', PolynomialFeatures()), ('lasso', Lasso())])\n",
        "\n",
        "params = {\n",
        "    \"poly__degree\": [1,2],\n",
        "    \"lasso__alpha\":  np.logspace(-3, 0, num=5)\n",
        "}\n",
        "\n",
        "search = GridSearchCV(estimator=pipe2,\n",
        "             param_grid=params)"
      ]
    },
    {
      "cell_type": "code",
      "source": [
        "search.fit(X_train_trans, y_train)"
      ],
      "metadata": {
        "colab": {
          "base_uri": "https://localhost:8080/"
        },
        "id": "k8qwo0GCSdCS",
        "outputId": "927e3d0c-9935-4f6d-ec47-5d0c1cdd4104"
      },
      "execution_count": null,
      "outputs": [
        {
          "output_type": "stream",
          "name": "stderr",
          "text": [
            "/usr/local/lib/python3.9/dist-packages/sklearn/linear_model/_coordinate_descent.py:631: ConvergenceWarning: Objective did not converge. You might want to increase the number of iterations, check the scale of the features or consider increasing regularisation. Duality gap: 1.041e+12, tolerance: 2.954e+09\n",
            "  model = cd_fast.enet_coordinate_descent(\n",
            "/usr/local/lib/python3.9/dist-packages/sklearn/linear_model/_coordinate_descent.py:631: ConvergenceWarning: Objective did not converge. You might want to increase the number of iterations, check the scale of the features or consider increasing regularisation. Duality gap: 1.019e+12, tolerance: 2.884e+09\n",
            "  model = cd_fast.enet_coordinate_descent(\n",
            "/usr/local/lib/python3.9/dist-packages/sklearn/linear_model/_coordinate_descent.py:631: ConvergenceWarning: Objective did not converge. You might want to increase the number of iterations, check the scale of the features or consider increasing regularisation. Duality gap: 1.004e+12, tolerance: 2.829e+09\n",
            "  model = cd_fast.enet_coordinate_descent(\n",
            "/usr/local/lib/python3.9/dist-packages/sklearn/linear_model/_coordinate_descent.py:631: ConvergenceWarning: Objective did not converge. You might want to increase the number of iterations, check the scale of the features or consider increasing regularisation. Duality gap: 1.061e+12, tolerance: 2.849e+09\n",
            "  model = cd_fast.enet_coordinate_descent(\n",
            "/usr/local/lib/python3.9/dist-packages/sklearn/linear_model/_coordinate_descent.py:631: ConvergenceWarning: Objective did not converge. You might want to increase the number of iterations, check the scale of the features or consider increasing regularisation. Duality gap: 1.006e+12, tolerance: 2.882e+09\n",
            "  model = cd_fast.enet_coordinate_descent(\n",
            "/usr/local/lib/python3.9/dist-packages/sklearn/linear_model/_coordinate_descent.py:631: ConvergenceWarning: Objective did not converge. You might want to increase the number of iterations, check the scale of the features or consider increasing regularisation. Duality gap: 6.753e+12, tolerance: 2.954e+09\n",
            "  model = cd_fast.enet_coordinate_descent(\n",
            "/usr/local/lib/python3.9/dist-packages/sklearn/linear_model/_coordinate_descent.py:631: ConvergenceWarning: Objective did not converge. You might want to increase the number of iterations, check the scale of the features or consider increasing regularisation. Duality gap: 5.841e+12, tolerance: 2.884e+09\n",
            "  model = cd_fast.enet_coordinate_descent(\n",
            "/usr/local/lib/python3.9/dist-packages/sklearn/linear_model/_coordinate_descent.py:631: ConvergenceWarning: Objective did not converge. You might want to increase the number of iterations, check the scale of the features or consider increasing regularisation. Duality gap: 3.589e+12, tolerance: 2.829e+09\n",
            "  model = cd_fast.enet_coordinate_descent(\n",
            "/usr/local/lib/python3.9/dist-packages/sklearn/linear_model/_coordinate_descent.py:631: ConvergenceWarning: Objective did not converge. You might want to increase the number of iterations, check the scale of the features or consider increasing regularisation. Duality gap: 6.867e+12, tolerance: 2.849e+09\n",
            "  model = cd_fast.enet_coordinate_descent(\n",
            "/usr/local/lib/python3.9/dist-packages/sklearn/linear_model/_coordinate_descent.py:631: ConvergenceWarning: Objective did not converge. You might want to increase the number of iterations, check the scale of the features or consider increasing regularisation. Duality gap: 4.914e+12, tolerance: 2.882e+09\n",
            "  model = cd_fast.enet_coordinate_descent(\n",
            "/usr/local/lib/python3.9/dist-packages/sklearn/linear_model/_coordinate_descent.py:631: ConvergenceWarning: Objective did not converge. You might want to increase the number of iterations, check the scale of the features or consider increasing regularisation. Duality gap: 1.041e+12, tolerance: 2.954e+09\n",
            "  model = cd_fast.enet_coordinate_descent(\n",
            "/usr/local/lib/python3.9/dist-packages/sklearn/linear_model/_coordinate_descent.py:631: ConvergenceWarning: Objective did not converge. You might want to increase the number of iterations, check the scale of the features or consider increasing regularisation. Duality gap: 1.019e+12, tolerance: 2.884e+09\n",
            "  model = cd_fast.enet_coordinate_descent(\n",
            "/usr/local/lib/python3.9/dist-packages/sklearn/linear_model/_coordinate_descent.py:631: ConvergenceWarning: Objective did not converge. You might want to increase the number of iterations, check the scale of the features or consider increasing regularisation. Duality gap: 1.004e+12, tolerance: 2.829e+09\n",
            "  model = cd_fast.enet_coordinate_descent(\n",
            "/usr/local/lib/python3.9/dist-packages/sklearn/linear_model/_coordinate_descent.py:631: ConvergenceWarning: Objective did not converge. You might want to increase the number of iterations, check the scale of the features or consider increasing regularisation. Duality gap: 1.061e+12, tolerance: 2.849e+09\n",
            "  model = cd_fast.enet_coordinate_descent(\n",
            "/usr/local/lib/python3.9/dist-packages/sklearn/linear_model/_coordinate_descent.py:631: ConvergenceWarning: Objective did not converge. You might want to increase the number of iterations, check the scale of the features or consider increasing regularisation. Duality gap: 1.006e+12, tolerance: 2.882e+09\n",
            "  model = cd_fast.enet_coordinate_descent(\n",
            "/usr/local/lib/python3.9/dist-packages/sklearn/linear_model/_coordinate_descent.py:631: ConvergenceWarning: Objective did not converge. You might want to increase the number of iterations, check the scale of the features or consider increasing regularisation. Duality gap: 6.623e+12, tolerance: 2.954e+09\n",
            "  model = cd_fast.enet_coordinate_descent(\n",
            "/usr/local/lib/python3.9/dist-packages/sklearn/linear_model/_coordinate_descent.py:631: ConvergenceWarning: Objective did not converge. You might want to increase the number of iterations, check the scale of the features or consider increasing regularisation. Duality gap: 4.950e+12, tolerance: 2.884e+09\n",
            "  model = cd_fast.enet_coordinate_descent(\n",
            "/usr/local/lib/python3.9/dist-packages/sklearn/linear_model/_coordinate_descent.py:631: ConvergenceWarning: Objective did not converge. You might want to increase the number of iterations, check the scale of the features or consider increasing regularisation. Duality gap: 3.583e+12, tolerance: 2.829e+09\n",
            "  model = cd_fast.enet_coordinate_descent(\n",
            "/usr/local/lib/python3.9/dist-packages/sklearn/linear_model/_coordinate_descent.py:631: ConvergenceWarning: Objective did not converge. You might want to increase the number of iterations, check the scale of the features or consider increasing regularisation. Duality gap: 6.862e+12, tolerance: 2.849e+09\n",
            "  model = cd_fast.enet_coordinate_descent(\n",
            "/usr/local/lib/python3.9/dist-packages/sklearn/linear_model/_coordinate_descent.py:631: ConvergenceWarning: Objective did not converge. You might want to increase the number of iterations, check the scale of the features or consider increasing regularisation. Duality gap: 4.943e+12, tolerance: 2.882e+09\n",
            "  model = cd_fast.enet_coordinate_descent(\n",
            "/usr/local/lib/python3.9/dist-packages/sklearn/linear_model/_coordinate_descent.py:631: ConvergenceWarning: Objective did not converge. You might want to increase the number of iterations, check the scale of the features or consider increasing regularisation. Duality gap: 1.041e+12, tolerance: 2.954e+09\n",
            "  model = cd_fast.enet_coordinate_descent(\n",
            "/usr/local/lib/python3.9/dist-packages/sklearn/linear_model/_coordinate_descent.py:631: ConvergenceWarning: Objective did not converge. You might want to increase the number of iterations, check the scale of the features or consider increasing regularisation. Duality gap: 1.019e+12, tolerance: 2.884e+09\n",
            "  model = cd_fast.enet_coordinate_descent(\n",
            "/usr/local/lib/python3.9/dist-packages/sklearn/linear_model/_coordinate_descent.py:631: ConvergenceWarning: Objective did not converge. You might want to increase the number of iterations, check the scale of the features or consider increasing regularisation. Duality gap: 1.004e+12, tolerance: 2.829e+09\n",
            "  model = cd_fast.enet_coordinate_descent(\n",
            "/usr/local/lib/python3.9/dist-packages/sklearn/linear_model/_coordinate_descent.py:631: ConvergenceWarning: Objective did not converge. You might want to increase the number of iterations, check the scale of the features or consider increasing regularisation. Duality gap: 1.061e+12, tolerance: 2.849e+09\n",
            "  model = cd_fast.enet_coordinate_descent(\n",
            "/usr/local/lib/python3.9/dist-packages/sklearn/linear_model/_coordinate_descent.py:631: ConvergenceWarning: Objective did not converge. You might want to increase the number of iterations, check the scale of the features or consider increasing regularisation. Duality gap: 1.006e+12, tolerance: 2.882e+09\n",
            "  model = cd_fast.enet_coordinate_descent(\n",
            "/usr/local/lib/python3.9/dist-packages/sklearn/linear_model/_coordinate_descent.py:631: ConvergenceWarning: Objective did not converge. You might want to increase the number of iterations, check the scale of the features or consider increasing regularisation. Duality gap: 6.852e+12, tolerance: 2.954e+09\n",
            "  model = cd_fast.enet_coordinate_descent(\n"
          ]
        }
      ]
    },
    {
      "cell_type": "code",
      "source": [
        "search.best_params_"
      ],
      "metadata": {
        "id": "7x22WrULSnJq"
      },
      "execution_count": null,
      "outputs": []
    },
    {
      "cell_type": "markdown",
      "source": [
        "### Q. 24. Enter the best polynomial degree value you got using above instructions."
      ],
      "metadata": {
        "id": "t5dOg0ofQOOF"
      }
    },
    {
      "cell_type": "code",
      "source": [
        "search.best_params_"
      ],
      "metadata": {
        "id": "abI4ZcoBUYu-"
      },
      "execution_count": null,
      "outputs": []
    },
    {
      "cell_type": "markdown",
      "source": [
        "### Q. 25: To Reduce number of dimensions of training data with PCA. Fit the PCA model using following parameter values on training data.\n",
        "\n",
        "* n_components=5\n",
        "* svd_solver='full'\n",
        "* whiten=True\n",
        "* random_state=42\n",
        "\n",
        "What is the sum of `explained_variance_ratio_` ?"
      ],
      "metadata": {
        "id": "Iwu_2_p1QOt1"
      }
    },
    {
      "cell_type": "code",
      "execution_count": null,
      "metadata": {
        "id": "OsNvMrSrQOOY"
      },
      "outputs": [],
      "source": [
        "from sklearn.decomposition import PCA\n",
        "\n",
        "ppca = PCA(n_components=5, svd_solver='full', whiten=True, random_state=42)\n",
        "ppca.fit(X_train_trans)"
      ]
    },
    {
      "cell_type": "code",
      "source": [
        "PCA?"
      ],
      "metadata": {
        "id": "2qLM7XdCUn3T"
      },
      "execution_count": null,
      "outputs": []
    },
    {
      "cell_type": "code",
      "source": [
        "ppca.explained_variance_ratio_.sum()"
      ],
      "metadata": {
        "id": "Nuy7Dz21UB2t"
      },
      "execution_count": null,
      "outputs": []
    },
    {
      "cell_type": "code",
      "execution_count": null,
      "metadata": {
        "id": "o9VmQZMiQOt2"
      },
      "outputs": [],
      "source": []
    },
    {
      "cell_type": "markdown",
      "source": [
        "### Q. 26: Use PCA transformed training data from earlier question and y_train to fit the `RidgeCV` estimator model having alpha value as [0.001,0.01,0.1,1]. Calculate the R2 score you got from the model for transformed test data(PCA transformed X_test).\n",
        "\n",
        "(upto 4 demimal)"
      ],
      "metadata": {
        "id": "gdwVH4N3QO4G"
      }
    },
    {
      "cell_type": "code",
      "execution_count": null,
      "metadata": {
        "id": "--ljH-XzQO4H"
      },
      "outputs": [],
      "source": [
        "X_train_trans_pca = ppca.fit_transform(X_train_trans)"
      ]
    },
    {
      "cell_type": "code",
      "source": [
        "X_test_trans_pca = ppca.transform(X_test_trans)"
      ],
      "metadata": {
        "id": "SQSi-Fi9VKGF"
      },
      "execution_count": null,
      "outputs": []
    },
    {
      "cell_type": "code",
      "source": [
        "X_train_trans_pca.shape"
      ],
      "metadata": {
        "id": "j_GPSyxfU6bX"
      },
      "execution_count": null,
      "outputs": []
    },
    {
      "cell_type": "code",
      "source": [
        "from sklearn.linear_model import RidgeCV"
      ],
      "metadata": {
        "id": "BsczdX3XU7gi"
      },
      "execution_count": null,
      "outputs": []
    },
    {
      "cell_type": "code",
      "source": [
        "rrcv = RidgeCV(alphas=[0.001,0.01,0.1,1])"
      ],
      "metadata": {
        "id": "vsDDgAhCVAMB"
      },
      "execution_count": null,
      "outputs": []
    },
    {
      "cell_type": "code",
      "source": [
        "rrcv.fit(X_train_trans_pca, y_train)"
      ],
      "metadata": {
        "id": "E1I2DlZoVQa7"
      },
      "execution_count": null,
      "outputs": []
    },
    {
      "cell_type": "code",
      "source": [
        "y_pred_rrcv= rrcv.predict(X_test_trans_pca)"
      ],
      "metadata": {
        "id": "xaTHR_XJVTYa"
      },
      "execution_count": null,
      "outputs": []
    },
    {
      "cell_type": "code",
      "source": [
        "r2_score(y_test, y_pred_rrcv)"
      ],
      "metadata": {
        "id": "_b_mbLlnVWx-"
      },
      "execution_count": null,
      "outputs": []
    },
    {
      "cell_type": "code",
      "source": [],
      "metadata": {
        "id": "Jkc-l7lOVb0n"
      },
      "execution_count": null,
      "outputs": []
    }
  ]
}