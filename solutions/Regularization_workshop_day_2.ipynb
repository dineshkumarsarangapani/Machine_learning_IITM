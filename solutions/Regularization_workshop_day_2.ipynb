{
  "nbformat": 4,
  "nbformat_minor": 0,
  "metadata": {
    "colab": {
      "provenance": [],
      "include_colab_link": true
    },
    "kernelspec": {
      "name": "python3",
      "display_name": "Python 3"
    },
    "language_info": {
      "name": "python"
    }
  },
  "cells": [
    {
      "cell_type": "markdown",
      "metadata": {
        "id": "view-in-github",
        "colab_type": "text"
      },
      "source": [
        "<a href=\"https://colab.research.google.com/github/dineshkumarsarangapani/Machine_learning_IITM/blob/main/solutions/Regularization_workshop_day_2.ipynb\" target=\"_parent\"><img src=\"https://colab.research.google.com/assets/colab-badge.svg\" alt=\"Open In Colab\"/></a>"
      ]
    },
    {
      "cell_type": "code",
      "execution_count": 1,
      "metadata": {
        "id": "3TDibK0Yrxm_"
      },
      "outputs": [],
      "source": [
        "import numpy as np\n",
        "import matplotlib.pyplot as plt\n"
      ]
    },
    {
      "cell_type": "markdown",
      "source": [
        "## Dataset\n",
        "\n",
        "Run the cell given below to generate the data-matrix $X$ and target vector $y$. $X$ is of shape $(n, d)$, where $n$ denotes the number of samples and $d$ denotes the number of features. $y$ is of shape $(n,)$. You will be using this dataset for the rest of the session. \n",
        "\n"
      ],
      "metadata": {
        "id": "XJKrscLo9qwH"
      }
    },
    {
      "cell_type": "code",
      "source": [
        "from sklearn.datasets import load_diabetes\n",
        "X, y = load_diabetes(return_X_y = True)\n",
        "\n",
        "# set the random seed value to 0\n",
        "np.random.seed(0)"
      ],
      "metadata": {
        "id": "GIygEzr49Xvf"
      },
      "execution_count": 2,
      "outputs": []
    },
    {
      "cell_type": "markdown",
      "source": [
        "\n",
        "Write a function `shuffle_data(X, y)` that returns the shuffled $X$ and $y$. \n",
        "\n",
        "Note that it should shuffle the data pairs $(x_i, y_i)$. \n",
        "\n"
      ],
      "metadata": {
        "id": "HxIZaojUVGIL"
      }
    },
    {
      "cell_type": "code",
      "source": [
        "## Shuffle data\n",
        "def shuffle_data(X, y):\n",
        "  indicies = np.arange(X.shape[0])\n",
        "  np.random.shuffle(indicies)\n",
        "  return X[indicies], y[indicies]\n",
        "\n",
        "X, y = shuffle_data(X, y)\n",
        "\n",
        "y[0:5].mean()"
      ],
      "metadata": {
        "id": "uLGsJyGkdgug",
        "colab": {
          "base_uri": "https://localhost:8080/"
        },
        "outputId": "e01bed9b-57a5-426a-ac54-f66cf31d6ac6"
      },
      "execution_count": 4,
      "outputs": [
        {
          "output_type": "execute_result",
          "data": {
            "text/plain": [
              "180.4"
            ]
          },
          "metadata": {},
          "execution_count": 4
        }
      ]
    },
    {
      "cell_type": "markdown",
      "source": [
        "\n",
        "Write a function `train_test_split(X, y, test_size)` that divides the data (X, y) into $X_{train}$, $X_{test}$, $y_{train}$, $y_{test}$ respectively as per test_size which should be a value between 0 and 1.\n",
        "\n",
        "That is, if test_size = $t$, then `int(t*n)` data points should go to test and the remaining data points should go to train.\n",
        "\n",
        "$X_{train}$, $X_{test}$, $y_{train}$, $y_{test}$ should be returned by the function.\n",
        "\n",
        "\n",
        "\n",
        "\n",
        "\n",
        "\n"
      ],
      "metadata": {
        "id": "pfsUsn_8WSXZ"
      }
    },
    {
      "cell_type": "code",
      "source": [
        "## Train Test split\n",
        "def train_test_split(X, y, test_size):\n",
        "  X, y = shuffle_data(X, y)\n",
        "  num_points = len(y) - int(len(y) * test_size)\n",
        "  # print(num_points)\n",
        "  X_train, X_test = X[:num_points] , X[num_points:]\n",
        "  Y_train, Y_test = y[:num_points] , y[num_points:]\n",
        "  return X_train, X_test, Y_train, Y_test\n",
        "\n",
        "X_train, X_test, Y_train, Y_test = train_test_split(X, y, 0.25)\n",
        "\n",
        "Y_test.sum()"
      ],
      "metadata": {
        "id": "Y5VZVbT8dg2b",
        "colab": {
          "base_uri": "https://localhost:8080/"
        },
        "outputId": "8de6002f-c57b-44f2-c504-7384907bf759"
      },
      "execution_count": 6,
      "outputs": [
        {
          "output_type": "stream",
          "name": "stdout",
          "text": [
            "332\n"
          ]
        },
        {
          "output_type": "execute_result",
          "data": {
            "text/plain": [
              "16826.0"
            ]
          },
          "metadata": {},
          "execution_count": 6
        }
      ]
    },
    {
      "cell_type": "markdown",
      "source": [
        "\n",
        "Add a dummy feature, i.e., a column containing all 1's (as the first column) in $X_{train}$ and $X_{test}$.\n",
        "\n",
        "Take the transpose of both $X_{train}$ and $X_{test}$.\n",
        "\n"
      ],
      "metadata": {
        "id": "nYgSo6DLe0n-"
      }
    },
    {
      "cell_type": "code",
      "source": [
        "### Add dummy feature\n",
        "X_train = np.column_stack((np.ones(X_train.shape[0]), X_train)).T\n",
        "X_test = np.column_stack((np.ones(X_test.shape[0]), X_test)).T                        "
      ],
      "metadata": {
        "id": "Lgv2V9qnnNv3"
      },
      "execution_count": 7,
      "outputs": []
    },
    {
      "cell_type": "markdown",
      "source": [
        "\n",
        "\n",
        "Write a function `compute_weights(X, y)` that uses the closed form formula of linear regression and returns a weight vector.\n",
        "\n"
      ],
      "metadata": {
        "id": "mYY6hNkYf7gr"
      }
    },
    {
      "cell_type": "code",
      "source": [
        "## Weight vector\n",
        "def compute_weights(X, y):\n",
        "  return np.linalg.pinv(X@X.T)@X@y\n",
        "\n",
        "wts = compute_weights(X_train, Y_train)\n",
        "wts"
      ],
      "metadata": {
        "id": "XWxPR8N5nc17",
        "colab": {
          "base_uri": "https://localhost:8080/"
        },
        "outputId": "7fefd2ea-2fea-472e-f37b-9512e80c8c2d"
      },
      "execution_count": 8,
      "outputs": [
        {
          "output_type": "execute_result",
          "data": {
            "text/plain": [
              "array([ 154.19133783,  -27.32251828, -199.0983434 ,  472.37594585,\n",
              "        367.14077751, -494.65999797,  262.53576554,  -17.19427598,\n",
              "        143.67390881,  679.15021386,   35.32156981])"
            ]
          },
          "metadata": {},
          "execution_count": 8
        }
      ]
    },
    {
      "cell_type": "markdown",
      "source": [
        "\n",
        "\n",
        "Write a function `MSE(X, y, w)` that returns the mean squared error for the given `X`, `y` as per `w` values.\n",
        "\n"
      ],
      "metadata": {
        "id": "XUKviVRZoh2j"
      }
    },
    {
      "cell_type": "code",
      "source": [
        "## MSE\n",
        "def MSE(X, y, w):\n",
        "  y_hat = (X.T)@w\n",
        "  return np.mean((y_hat-y)**2)\n",
        "\n",
        "train_error = MSE(X_train, Y_train, wts)\n",
        "train_error"
      ],
      "metadata": {
        "id": "PYguHgM_2cSv",
        "colab": {
          "base_uri": "https://localhost:8080/"
        },
        "outputId": "082a9aa7-5286-4924-f913-85bc21fa5b6d"
      },
      "execution_count": 36,
      "outputs": [
        {
          "output_type": "execute_result",
          "data": {
            "text/plain": [
              "2873.2908400042797"
            ]
          },
          "metadata": {},
          "execution_count": 36
        }
      ]
    },
    {
      "cell_type": "code",
      "source": [
        "test_error = MSE(X_test, Y_test, wts)\n",
        "test_error"
      ],
      "metadata": {
        "colab": {
          "base_uri": "https://localhost:8080/"
        },
        "id": "jU9SYZCGKcrS",
        "outputId": "8d7cea63-d02c-4ef7-c726-bbc4bbce7fea"
      },
      "execution_count": 15,
      "outputs": [
        {
          "output_type": "execute_result",
          "data": {
            "text/plain": [
              "2903.297788225544"
            ]
          },
          "metadata": {},
          "execution_count": 15
        }
      ]
    },
    {
      "cell_type": "markdown",
      "source": [
        "\n",
        "Write a function `compute_weights_ridge(X, y)` that uses the closed form formula of Ridge regression and returns a weight vector.\n",
        "\n"
      ],
      "metadata": {
        "id": "mZZVbejulHyv"
      }
    },
    {
      "cell_type": "code",
      "source": [
        "#### Ridge weight vector\n",
        "def compute_weights_ridge(X, y, l):\n",
        "  wts = (np.linalg.pinv(X@X.T + 1*np.eye(X.shape[0])))@X@y\n",
        "  return wts\n",
        "\n",
        "wts_ridge = compute_weights_ridge(X_train, Y_train, 0.3)\n",
        "wts_ridge.round(1)"
      ],
      "metadata": {
        "id": "tjfnYaG627ki",
        "colab": {
          "base_uri": "https://localhost:8080/"
        },
        "outputId": "90a49c48-0d8b-478d-d374-905e25bfb308"
      },
      "execution_count": 33,
      "outputs": [
        {
          "output_type": "execute_result",
          "data": {
            "text/plain": [
              "array([ 153. ,   31.4,  -51.7,  258.2,  201.7,   19.6,  -17.7, -139.8,\n",
              "        109.7,  246.4,  100.4])"
            ]
          },
          "metadata": {},
          "execution_count": 33
        }
      ]
    },
    {
      "cell_type": "markdown",
      "source": [
        "\n",
        "\n",
        "Compute the train error and test error."
      ],
      "metadata": {
        "id": "LC9Au6sPt1oT"
      }
    },
    {
      "cell_type": "code",
      "source": [
        "### Test and train error\n",
        "\n",
        "test_error = MSE(X_test, Y_test, wts_ridge)\n",
        "test_error\n",
        "\n"
      ],
      "metadata": {
        "id": "6fCBTgYfpRDA",
        "colab": {
          "base_uri": "https://localhost:8080/"
        },
        "outputId": "27739d8d-034e-4947-f0d7-85b91ce9c530"
      },
      "execution_count": 34,
      "outputs": [
        {
          "output_type": "execute_result",
          "data": {
            "text/plain": [
              "3410.685700735068"
            ]
          },
          "metadata": {},
          "execution_count": 34
        }
      ]
    },
    {
      "cell_type": "code",
      "source": [
        "train_error = MSE(X_train, Y_train, wts_ridge)\n",
        "train_error"
      ],
      "metadata": {
        "colab": {
          "base_uri": "https://localhost:8080/"
        },
        "id": "wLaQWgp3LtVd",
        "outputId": "5d27fad1-e25c-4098-955f-5093592e6a48"
      },
      "execution_count": 35,
      "outputs": [
        {
          "output_type": "execute_result",
          "data": {
            "text/plain": [
              "3374.1659189680445"
            ]
          },
          "metadata": {},
          "execution_count": 35
        }
      ]
    }
  ]
}