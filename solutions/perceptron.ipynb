{
  "nbformat": 4,
  "nbformat_minor": 0,
  "metadata": {
    "colab": {
      "provenance": [],
      "include_colab_link": true
    },
    "kernelspec": {
      "name": "python3",
      "display_name": "Python 3"
    },
    "language_info": {
      "name": "python"
    }
  },
  "cells": [
    {
      "cell_type": "markdown",
      "metadata": {
        "id": "view-in-github",
        "colab_type": "text"
      },
      "source": [
        "<a href=\"https://colab.research.google.com/github/dineshkumarsarangapani/Machine_learning_IITM/blob/main/solutions/perceptron.ipynb\" target=\"_parent\"><img src=\"https://colab.research.google.com/assets/colab-badge.svg\" alt=\"Open In Colab\"/></a>"
      ]
    },
    {
      "cell_type": "code",
      "execution_count": null,
      "metadata": {
        "id": "1NnL1DyylXQ5"
      },
      "outputs": [],
      "source": []
    },
    {
      "cell_type": "code",
      "execution_count": 1,
      "metadata": {
        "id": "3TDibK0Yrxm_"
      },
      "outputs": [],
      "source": [
        "import numpy as np"
      ]
    },
    {
      "cell_type": "markdown",
      "source": [
        "## Dataset\n",
        "\n"
      ],
      "metadata": {
        "id": "XJKrscLo9qwH"
      }
    },
    {
      "cell_type": "code",
      "source": [
        "from sklearn.datasets import make_classification\n",
        "X, y = make_classification(n_samples=50, n_features=2, n_informative = 2, n_redundant = 0, n_clusters_per_class = 1, flip_y = 0, class_sep = 3, random_state=20)"
      ],
      "metadata": {
        "id": "d_H2VRQNsLly"
      },
      "execution_count": 2,
      "outputs": []
    },
    {
      "cell_type": "markdown",
      "source": [
        "## 1\n",
        "How many samples are there in the dataset?\n"
      ],
      "metadata": {
        "id": "VAONMkaU91v7"
      }
    },
    {
      "cell_type": "code",
      "source": [
        "X.shape[0]"
      ],
      "metadata": {
        "id": "WaLhumdSko3g",
        "colab": {
          "base_uri": "https://localhost:8080/"
        },
        "outputId": "b4c8ad21-4bf3-4a4c-a132-6123ea23ebf5"
      },
      "execution_count": 5,
      "outputs": [
        {
          "output_type": "execute_result",
          "data": {
            "text/plain": [
              "50"
            ]
          },
          "metadata": {},
          "execution_count": 5
        }
      ]
    },
    {
      "cell_type": "markdown",
      "source": [
        "There are 50 samples."
      ],
      "metadata": {
        "id": "X6NyO1Apr-xL"
      }
    },
    {
      "cell_type": "markdown",
      "source": [
        "## 2\n",
        "\n",
        "How many features are there in the dataset?\n"
      ],
      "metadata": {
        "id": "ozjMS6e_91y3"
      }
    },
    {
      "cell_type": "code",
      "source": [
        "X.shape[1]"
      ],
      "metadata": {
        "colab": {
          "base_uri": "https://localhost:8080/"
        },
        "id": "lHWOSKvOsH_Q",
        "outputId": "48672a46-585e-4d50-ecb3-76ab349dec2a"
      },
      "execution_count": 4,
      "outputs": [
        {
          "output_type": "execute_result",
          "data": {
            "text/plain": [
              "2"
            ]
          },
          "metadata": {},
          "execution_count": 4
        }
      ]
    },
    {
      "cell_type": "markdown",
      "source": [
        "There are 2 features."
      ],
      "metadata": {
        "id": "vkAY5QgNsQUp"
      }
    },
    {
      "cell_type": "markdown",
      "source": [
        "## 3\n",
        "In the target vector $y$, replace all occurrences of 0 with -1. \n",
        "\n"
      ],
      "metadata": {
        "id": "BOuGvyBUrGUH"
      }
    },
    {
      "cell_type": "code",
      "source": [
        "y[y==0] = -1\n",
        "y"
      ],
      "metadata": {
        "id": "BxNlSI-1ktMm",
        "colab": {
          "base_uri": "https://localhost:8080/"
        },
        "outputId": "42249aed-ec2b-4ef9-82e9-6896d9c5d38b"
      },
      "execution_count": 8,
      "outputs": [
        {
          "output_type": "execute_result",
          "data": {
            "text/plain": [
              "array([ 1,  1,  1,  1,  1,  1,  1, -1, -1,  1, -1, -1, -1,  1, -1, -1,  1,\n",
              "        1, -1,  1, -1,  1, -1, -1,  1, -1,  1, -1,  1,  1, -1,  1, -1,  1,\n",
              "       -1,  1,  1, -1, -1, -1, -1,  1,  1, -1, -1, -1, -1,  1,  1, -1])"
            ]
          },
          "metadata": {},
          "execution_count": 8
        }
      ]
    },
    {
      "cell_type": "markdown",
      "source": [
        "## 4\n",
        "\n",
        "How many unique classes are there in the target vector?\n"
      ],
      "metadata": {
        "id": "bfVN77a0UKxN"
      }
    },
    {
      "cell_type": "code",
      "source": [
        "np.unique(y)"
      ],
      "metadata": {
        "id": "4UeSyZ1Lkuu4",
        "colab": {
          "base_uri": "https://localhost:8080/"
        },
        "outputId": "a476f798-eea3-4b82-d3d0-11e91f961037"
      },
      "execution_count": 10,
      "outputs": [
        {
          "output_type": "execute_result",
          "data": {
            "text/plain": [
              "array([-1,  1])"
            ]
          },
          "metadata": {},
          "execution_count": 10
        }
      ]
    },
    {
      "cell_type": "markdown",
      "source": [
        "## 5\n",
        "Plot the data keeping first feature on the x-axis and the second feature on the y-axis. Plot the data points belonging to each class in different colors. Does the data seem linearly separable?"
      ],
      "metadata": {
        "id": "2mjZDVoIqzkJ"
      }
    },
    {
      "cell_type": "code",
      "source": [
        "import matplotlib.pyplot as plt\n",
        "plt.rcParams['figure.figsize'] = [8,8]\n",
        "plt.rcParams['font.size'] = 15\n",
        "\n",
        "plt.scatter(X[:,0][y==1], X[:,1][y==1], color='red');\n",
        "plt.scatter(X[:,0][y==-1], X[:,1][y==-1], color='blue');"
      ],
      "metadata": {
        "id": "PP114fY1kwRG",
        "colab": {
          "base_uri": "https://localhost:8080/",
          "height": 488
        },
        "outputId": "81ca8f5a-5b94-4ba4-f216-cbb8a1bc4f93"
      },
      "execution_count": 28,
      "outputs": [
        {
          "output_type": "display_data",
          "data": {
            "text/plain": [
              "<Figure size 576x576 with 1 Axes>"
            ],
            "image/png": "[encoded data removed]"
          },
          "metadata": {
            "needs_background": "light"
          }
        }
      ]
    },
    {
      "cell_type": "markdown",
      "source": [
        "## 6\n",
        "Initialize w to be a zero vector, with shape equal to the number of features in the data.\n",
        "\n"
      ],
      "metadata": {
        "id": "wBvVzKA-u9YM"
      }
    },
    {
      "cell_type": "code",
      "source": [
        "w = np.zeros(X.shape[1])\n",
        "w"
      ],
      "metadata": {
        "id": "LiKOIWphkyu0",
        "colab": {
          "base_uri": "https://localhost:8080/"
        },
        "outputId": "9098a8a9-33f6-4960-af13-b03daa1d4335"
      },
      "execution_count": 14,
      "outputs": [
        {
          "output_type": "execute_result",
          "data": {
            "text/plain": [
              "array([0., 0.])"
            ]
          },
          "metadata": {},
          "execution_count": 14
        }
      ]
    },
    {
      "cell_type": "markdown",
      "source": [
        "## 7 \n",
        "Iterate over each data point $x$ in $X$ one by one (in the same sequence as present in $X$). For each data point, compute the value of $w^Tx$. If $w^Tx \\ge 0$, predict positive class for $x$, else predict the negative class.\n",
        "\n"
      ],
      "metadata": {
        "id": "Mpalp-L_Tw12"
      }
    },
    {
      "cell_type": "code",
      "source": [
        "def compute_class(x, w):\n",
        "  w1 = w.T@x\n",
        "  if w1 >= 0:\n",
        "    return 1\n",
        "  return -1"
      ],
      "metadata": {
        "id": "fK6JN6fSk0Rr"
      },
      "execution_count": 17,
      "outputs": []
    },
    {
      "cell_type": "markdown",
      "source": [
        "## 8\n",
        "\n",
        "(In the same code,) If prediction does not match the actual class label for any data point, update the weight vector as per the following update rule:\n",
        "$$w_{new} = w_{old} + xy$$ where $x$ is the data point and $y$ is the actual label of $x$.\n"
      ],
      "metadata": {
        "id": "A8pmQXc9U2pl"
      }
    },
    {
      "cell_type": "code",
      "source": [
        "for i in range(X.shape[0]):\n",
        "  if compute_class(X[i], w) != y[i]:\n",
        "    w = w + X[i]*y[i]\n",
        "\n",
        "w"
      ],
      "metadata": {
        "id": "sW64JVR7k1xs",
        "colab": {
          "base_uri": "https://localhost:8080/"
        },
        "outputId": "12c7b3dd-a136-4612-b06d-7ea03e5a0314"
      },
      "execution_count": 19,
      "outputs": [
        {
          "output_type": "execute_result",
          "data": {
            "text/plain": [
              "array([ 6.08372134, -0.97979197])"
            ]
          },
          "metadata": {},
          "execution_count": 19
        }
      ]
    },
    {
      "cell_type": "markdown",
      "source": [
        "## 9\n",
        "(In the same code,) keep track of the total number of mistakes made by the algorithm."
      ],
      "metadata": {
        "id": "rqxusBe6V3vb"
      }
    },
    {
      "cell_type": "code",
      "source": [
        "num_of_mistakes = 0\n",
        "w = np.zeros(X.shape[1])\n",
        "for i in range(X.shape[0]):\n",
        "  if compute_class(X[i], w) != y[i]:\n",
        "    num_of_mistakes += 1\n",
        "    w = w + X[i]*y[i]\n",
        "\n",
        "print(w)\n",
        "print(num_of_mistakes)"
      ],
      "metadata": {
        "id": "rHQ1Oyp_k3Hs",
        "colab": {
          "base_uri": "https://localhost:8080/"
        },
        "outputId": "d4525cc4-a4a1-4db0-aa74-bcbbbba92e4b"
      },
      "execution_count": 21,
      "outputs": [
        {
          "output_type": "stream",
          "name": "stdout",
          "text": [
            "[ 6.08372134 -0.97979197]\n",
            "2\n"
          ]
        }
      ]
    },
    {
      "cell_type": "markdown",
      "source": [
        "## 10.\n",
        "So far, we have run only one iteration over the entire data.\n",
        "\n",
        "Run the same for 10 epochs (iterations), but stop if there are no weight updates in an epoch. "
      ],
      "metadata": {
        "id": "BW_E9evkVXoY"
      }
    },
    {
      "cell_type": "code",
      "source": [
        "number_of_epoch = 10\n",
        "num_of_mistakes = 0\n",
        "w = np.zeros(X.shape[1])\n",
        "weight_updates_per_j = {}\n",
        "for j in range(number_of_epoch):\n",
        "  weight_updates_per_j[j] = 0\n",
        "  for i in range(X.shape[0]):\n",
        "    if compute_class(X[i], w) != y[i]:\n",
        "      weight_updates_per_j[j] += 1\n",
        "      num_of_mistakes += 1\n",
        "      w = w + X[i]*y[i]\n",
        "  if weight_updates_per_j[j] == 0:\n",
        "    break\n",
        "\n",
        "print(weight_updates_per_j)\n",
        "print(\"weights: \", w)\n",
        "print(\"num_of_mistakes: \" , num_of_mistakes)"
      ],
      "metadata": {
        "id": "gVeeVk3ek5A9",
        "colab": {
          "base_uri": "https://localhost:8080/"
        },
        "outputId": "ca24764a-a61a-4934-89f7-83c0d43453e1"
      },
      "execution_count": 31,
      "outputs": [
        {
          "output_type": "stream",
          "name": "stdout",
          "text": [
            "{0: 2, 1: 0}\n",
            "weights:  [ 6.08372134 -0.97979197]\n",
            "num_of_mistakes:  2\n"
          ]
        }
      ]
    },
    {
      "cell_type": "markdown",
      "source": [
        "## 11\n",
        "\n",
        "Plot the vector w and the decision boundary thus obtained.\n",
        "\n",
        "Decision boundry is perpendicular to the weight vector.\n",
        "The perpendicular vactor for any vector is to multiply with Transformation vector.\n",
        "\n",
        "Transformation Matriz A:\n",
        "\n",
        "$$\n",
        "\\begin{bmatrix}\n",
        "0 & -1 \\\\\n",
        "1 & 0\n",
        "\\end{bmatrix}\n",
        "$$\n",
        "\n"
      ],
      "metadata": {
        "id": "3zs84_zyUMZG"
      }
    },
    {
      "cell_type": "code",
      "source": [
        "A = np.array([[0,-1], [1,0]])\n",
        "B = np.array([[0,1], [-1,0]])\n",
        "perpendicular_vector = w@A\n",
        "print(perpendicular_vector)\n",
        "perpendicular_vector_2 = w@B\n",
        "print(perpendicular_vector_2)\n",
        "plt.scatter(X[:,0][y==1], X[:,1][y==1], color='red');\n",
        "plt.scatter(X[:,0][y==-1], X[:,1][y==-1], color='blue');\n",
        "plt.quiver(0,0, w[0], w[1], scale=20, color='g'); # the actual weight vector\n",
        "plt.quiver(0,0, perpendicular_vector[0], perpendicular_vector[1], scale=7, color='orange', headaxislength=0, headlength=0); # the actual weight vector\n",
        "plt.quiver(0,0, perpendicular_vector_2[0], perpendicular_vector_2[1], scale=7, color='yellow', headaxislength=0, headlength=0); # the actual weight vector\n",
        "plt.ylim(-7, 7)\n",
        "plt.grid()"
      ],
      "metadata": {
        "id": "oqhetLzMk8TJ",
        "colab": {
          "base_uri": "https://localhost:8080/",
          "height": 524
        },
        "outputId": "27ec2120-9f8d-4b0e-e303-e9632f56fce3"
      },
      "execution_count": 59,
      "outputs": [
        {
          "output_type": "stream",
          "name": "stdout",
          "text": [
            "[-0.97979197 -6.08372134]\n",
            "[0.97979197 6.08372134]\n"
          ]
        },
        {
          "output_type": "display_data",
          "data": {
            "text/plain": [
              "<Figure size 576x576 with 1 Axes>"
            ],
            "image/png": "[encoded data removed]"
          },
          "metadata": {
            "needs_background": "light"
          }
        }
      ]
    },
    {
      "cell_type": "markdown",
      "source": [
        "## 12\n",
        "What is the value of loss using the weight vector obtained earlier?  \n"
      ],
      "metadata": {
        "id": "8jRORev-U_AQ"
      }
    },
    {
      "cell_type": "code",
      "source": [
        "loss = 0\n",
        "for i in range(X.shape[0]):\n",
        "  y_hat = compute_class(X[i], w)\n",
        "  if y_hat != y[i]:\n",
        "    loss += 1\n",
        "\n",
        "print(loss)\n",
        "\n"
      ],
      "metadata": {
        "id": "4so01KGRk90S",
        "colab": {
          "base_uri": "https://localhost:8080/"
        },
        "outputId": "bb6d179c-b269-43cb-e653-299af1518616"
      },
      "execution_count": 61,
      "outputs": [
        {
          "output_type": "stream",
          "name": "stdout",
          "text": [
            "0\n"
          ]
        }
      ]
    },
    {
      "cell_type": "markdown",
      "source": [
        "This is zero one loss and it is seperated linearly."
      ],
      "metadata": {
        "id": "HUgOPXtp14_H"
      }
    },
    {
      "cell_type": "markdown",
      "source": [
        "# Non-linearly separable case"
      ],
      "metadata": {
        "id": "LgY3CUuwaFRI"
      }
    },
    {
      "cell_type": "markdown",
      "source": [
        "## 13\n",
        "Now use a data set that is not linearly separable. Replace occurrences of 0 with -1 and visualize.\n",
        "\n"
      ],
      "metadata": {
        "id": "6Mv5kTYtVZ39"
      }
    },
    {
      "cell_type": "code",
      "source": [
        "from sklearn.datasets import make_classification\n",
        "X, y = make_classification(n_samples=50, n_features=2, n_informative = 2, n_redundant = 0, n_clusters_per_class = 1, flip_y = 0.1, class_sep = 2, random_state=20)"
      ],
      "metadata": {
        "id": "27pznw-oVeFq"
      },
      "execution_count": 62,
      "outputs": []
    },
    {
      "cell_type": "code",
      "source": [
        "y[y==0] = -1\n",
        "plt.scatter(X[:,0][y==1], X[:,1][y==1], color='red');\n",
        "plt.scatter(X[:,0][y==-1], X[:,1][y==-1], color='blue');"
      ],
      "metadata": {
        "id": "FL5Hj8dYlGbQ",
        "colab": {
          "base_uri": "https://localhost:8080/",
          "height": 488
        },
        "outputId": "b0c1345a-1411-4220-e359-05bb821cc956"
      },
      "execution_count": 65,
      "outputs": [
        {
          "output_type": "display_data",
          "data": {
            "text/plain": [
              "<Figure size 576x576 with 1 Axes>"
            ],
            "image/png": "[encoded data removed]"
          },
          "metadata": {
            "needs_background": "light"
          }
        }
      ]
    },
    {
      "cell_type": "markdown",
      "source": [
        "## 14\n",
        "\n",
        "Apply the Perceptron code again. \n",
        "\n",
        "What is the number of weight updates performed in each epoch?\n"
      ],
      "metadata": {
        "id": "jLlsj651cjtm"
      }
    },
    {
      "cell_type": "code",
      "source": [
        "number_of_epoch = 10\n",
        "num_of_mistakes = 0\n",
        "w = np.zeros(X.shape[1])\n",
        "weight_updates_per_j = {}\n",
        "for j in range(number_of_epoch):\n",
        "  weight_updates_per_j[j] = 0\n",
        "  for i in range(X.shape[0]):\n",
        "    if compute_class(X[i], w) != y[i]:\n",
        "      weight_updates_per_j[j] += 1\n",
        "      num_of_mistakes += 1\n",
        "      w = w + X[i]*y[i]\n",
        "  if weight_updates_per_j[j] == 0:\n",
        "    break\n",
        "\n",
        "print(weight_updates_per_j)\n",
        "print(\"weights: \", w)\n",
        "print(\"num_of_mistakes: \" , num_of_mistakes)"
      ],
      "metadata": {
        "id": "iwR77G-HlFx_",
        "colab": {
          "base_uri": "https://localhost:8080/"
        },
        "outputId": "ca0f3344-f67e-4263-cc1a-79894be7125c"
      },
      "execution_count": 66,
      "outputs": [
        {
          "output_type": "stream",
          "name": "stdout",
          "text": [
            "{0: 13, 1: 11, 2: 12, 3: 11, 4: 11, 5: 10, 6: 11, 7: 11, 8: 11, 9: 11}\n",
            "weights:  [ 2.8171108  -0.63769675]\n",
            "num_of_mistakes:  112\n"
          ]
        }
      ]
    },
    {
      "cell_type": "code",
      "source": [
        "A = np.array([[0,-1], [1,0]])\n",
        "B = np.array([[0,1], [-1,0]])\n",
        "perpendicular_vector = w@A\n",
        "print(perpendicular_vector)\n",
        "perpendicular_vector_2 = w@B\n",
        "print(perpendicular_vector_2)\n",
        "plt.scatter(X[:,0][y==1], X[:,1][y==1], color='red');\n",
        "plt.scatter(X[:,0][y==-1], X[:,1][y==-1], color='blue');\n",
        "plt.quiver(0,0, w[0], w[1], scale=20, color='g'); # the actual weight vector\n",
        "plt.quiver(0,0, perpendicular_vector[0], perpendicular_vector[1], scale=7, color='orange', headaxislength=0, headlength=0); # the actual weight vector\n",
        "plt.quiver(0,0, perpendicular_vector_2[0], perpendicular_vector_2[1], scale=7, color='yellow', headaxislength=0, headlength=0); # the actual weight vector\n",
        "plt.ylim(-7, 7)\n",
        "# plt.grid()"
      ],
      "metadata": {
        "colab": {
          "base_uri": "https://localhost:8080/",
          "height": 542
        },
        "id": "PXiKuoHM2QjK",
        "outputId": "e104d436-8ceb-4083-9962-40a1d9a07dff"
      },
      "execution_count": 69,
      "outputs": [
        {
          "output_type": "stream",
          "name": "stdout",
          "text": [
            "[-0.63769675 -2.8171108 ]\n",
            "[0.63769675 2.8171108 ]\n"
          ]
        },
        {
          "output_type": "execute_result",
          "data": {
            "text/plain": [
              "(-7.0, 7.0)"
            ]
          },
          "metadata": {},
          "execution_count": 69
        },
        {
          "output_type": "display_data",
          "data": {
            "text/plain": [
              "<Figure size 576x576 with 1 Axes>"
            ],
            "image/png": "[encoded data removed]"
          },
          "metadata": {
            "needs_background": "light"
          }
        }
      ]
    },
    {
      "cell_type": "code",
      "source": [
        "loss = 0\n",
        "for i in range(X.shape[0]):\n",
        "  y_hat = compute_class(X[i], w)\n",
        "  if y_hat != y[i]:\n",
        "    loss += 1\n",
        "\n",
        "print(loss)"
      ],
      "metadata": {
        "colab": {
          "base_uri": "https://localhost:8080/"
        },
        "id": "fseXnpIG2XoS",
        "outputId": "5e2f6008-42f7-4df9-f4c3-6dca1904d314"
      },
      "execution_count": 68,
      "outputs": [
        {
          "output_type": "stream",
          "name": "stdout",
          "text": [
            "4\n"
          ]
        }
      ]
    }
  ]
}