{
  "nbformat": 4,
  "nbformat_minor": 0,
  "metadata": {
    "colab": {
      "provenance": [],
      "include_colab_link": true
    },
    "kernelspec": {
      "name": "python3",
      "display_name": "Python 3"
    },
    "language_info": {
      "name": "python"
    }
  },
  "cells": [
    {
      "cell_type": "markdown",
      "metadata": {
        "id": "view-in-github",
        "colab_type": "text"
      },
      "source": [
        "<a href=\"https://colab.research.google.com/github/dineshkumarsarangapani/Machine_learning_IITM/blob/main/solutions/(5)_NumPy_Arrays.ipynb\" target=\"_parent\"><img src=\"https://colab.research.google.com/assets/colab-badge.svg\" alt=\"Open In Colab\"/></a>"
      ]
    },
    {
      "cell_type": "markdown",
      "source": [
        "# NumPy Arrays\n",
        "\n",
        "We will study `NumPy` arrays in more detail. "
      ],
      "metadata": {
        "id": "H729Vxqsdh5_"
      }
    },
    {
      "cell_type": "code",
      "source": [
        "import numpy as np"
      ],
      "metadata": {
        "id": "f9pXUWReT4zX"
      },
      "execution_count": 1,
      "outputs": []
    },
    {
      "cell_type": "markdown",
      "source": [
        "## Arrays\n",
        "\n",
        "It should have become amply clear by now that both vectors and matrices are `NumPy` arrays. Each array in `NumPy` has a dimension. Vectors are one-dimensional arrays while matrices are two-dimensional arrays. For example:\n",
        "\n",
        "$$\n",
        "\\mathbf{x} = \\begin{bmatrix}\n",
        "1\\\\\n",
        "2\\\\\n",
        "3\n",
        "\\end{bmatrix}, \n",
        "\\mathbf{M} = \\begin{bmatrix}\n",
        "1 & 2\\\\\n",
        "3 & 4\\\\\n",
        "5 & 6\n",
        "\\end{bmatrix}\n",
        "$$\n",
        "\n",
        "In `NumPy`:"
      ],
      "metadata": {
        "id": "DOunwTfMTPOw"
      }
    },
    {
      "cell_type": "code",
      "source": [
        "x = np.array([[1],[2],[3]])\n",
        "x"
      ],
      "metadata": {
        "id": "tvI35k_XTxam",
        "colab": {
          "base_uri": "https://localhost:8080/"
        },
        "outputId": "319e0690-408e-4258-fd62-b4a5445a7602"
      },
      "execution_count": 3,
      "outputs": [
        {
          "output_type": "execute_result",
          "data": {
            "text/plain": [
              "array([[1],\n",
              "       [2],\n",
              "       [3]])"
            ]
          },
          "metadata": {},
          "execution_count": 3
        }
      ]
    },
    {
      "cell_type": "code",
      "source": [
        "m = np.array([[1,2], [3,4], [5,6]])\n",
        "m"
      ],
      "metadata": {
        "colab": {
          "base_uri": "https://localhost:8080/"
        },
        "id": "1UN0m3UCYR4A",
        "outputId": "c19dd1d4-ad4c-4005-cb88-dfcda7e937a4"
      },
      "execution_count": 5,
      "outputs": [
        {
          "output_type": "execute_result",
          "data": {
            "text/plain": [
              "array([[1, 2],\n",
              "       [3, 4],\n",
              "       [5, 6]])"
            ]
          },
          "metadata": {},
          "execution_count": 5
        }
      ]
    },
    {
      "cell_type": "markdown",
      "source": [
        "## Three dimensional array\n",
        "\n",
        "Though we will mostly restrict ourselves to arrays of dimension one and two, nothing stops us from working with higher dimensional arrays. For example, consider a 3-dimensional array. This could be visualized as a list of matrices:\n",
        "\n",
        "$$\n",
        "\\begin{bmatrix}\n",
        "\\begin{bmatrix}\n",
        "1 & 2 & 3\\\\\n",
        "4 & 5 & 6\n",
        "\\end{bmatrix}\\\\ \n",
        "\\begin{bmatrix}\n",
        "7 & 8 & 9\\\\\n",
        "10 & 11 & 12\n",
        "\\end{bmatrix}\\\\\n",
        "\\end{bmatrix}\n",
        "$$\n",
        "\n",
        "This would be a $2 \\times 2 \\times 3$ array. In `NumPy`:"
      ],
      "metadata": {
        "id": "QBdh4YAsZcZf"
      }
    },
    {
      "cell_type": "code",
      "source": [
        "y = np.array([[[1,2,3],[4,5,6]],[[7,8,9], [10,11,12]]])\n",
        "y"
      ],
      "metadata": {
        "id": "2XZQbE0qaXc-",
        "colab": {
          "base_uri": "https://localhost:8080/"
        },
        "outputId": "2cdee24f-7992-4e2b-fcb8-c750ebcd802f"
      },
      "execution_count": 8,
      "outputs": [
        {
          "output_type": "execute_result",
          "data": {
            "text/plain": [
              "array([[[ 1,  2,  3],\n",
              "        [ 4,  5,  6]],\n",
              "\n",
              "       [[ 7,  8,  9],\n",
              "        [10, 11, 12]]])"
            ]
          },
          "metadata": {},
          "execution_count": 8
        }
      ]
    },
    {
      "cell_type": "code",
      "source": [
        "y.shape"
      ],
      "metadata": {
        "colab": {
          "base_uri": "https://localhost:8080/"
        },
        "id": "73Eau-bRYuip",
        "outputId": "ce90a397-e3e8-4e42-a541-dc2c2b47c8fb"
      },
      "execution_count": 9,
      "outputs": [
        {
          "output_type": "execute_result",
          "data": {
            "text/plain": [
              "(2, 2, 3)"
            ]
          },
          "metadata": {},
          "execution_count": 9
        }
      ]
    },
    {
      "cell_type": "markdown",
      "source": [
        "## Reshaping\n",
        "\n",
        "Arrays can be reshaped. We will do a number of examples here."
      ],
      "metadata": {
        "id": "na6x_cSPUPXb"
      }
    },
    {
      "cell_type": "markdown",
      "source": [
        "### Example-1: Vector to matrix\n",
        "\n",
        "We start with a vector:\n",
        "\n",
        "$$\n",
        "\\mathbf{x} = \\begin{bmatrix}\n",
        "1 & 2 & 3 & 4 & 5 & 6\n",
        "\\end{bmatrix}\n",
        "$$\n",
        "\n",
        "We can reshape it into the following matrix:\n",
        "\n",
        "$$\n",
        "\\mathbf{M} = \\begin{bmatrix}\n",
        "1 & 2\\\\\n",
        "3 & 4\\\\\n",
        "5 & 6\n",
        "\\end{bmatrix}\n",
        "$$\n",
        "\n",
        "In `NumPy`:"
      ],
      "metadata": {
        "id": "ziQMNQlZU-MY"
      }
    },
    {
      "cell_type": "code",
      "source": [
        "x = np.array([1,2,3,4,5,6])\n",
        "x.shape"
      ],
      "metadata": {
        "id": "ydvP-pziXVVL",
        "colab": {
          "base_uri": "https://localhost:8080/"
        },
        "outputId": "b2db4485-ee3d-4529-ea1f-a4ea8678a0ed"
      },
      "execution_count": 10,
      "outputs": [
        {
          "output_type": "execute_result",
          "data": {
            "text/plain": [
              "(6,)"
            ]
          },
          "metadata": {},
          "execution_count": 10
        }
      ]
    },
    {
      "cell_type": "code",
      "source": [
        "x.reshape(3,2)"
      ],
      "metadata": {
        "colab": {
          "base_uri": "https://localhost:8080/"
        },
        "id": "l9o0dQjEY4jQ",
        "outputId": "d2928b51-60f2-47f4-e61d-7df31f0af236"
      },
      "execution_count": 12,
      "outputs": [
        {
          "output_type": "execute_result",
          "data": {
            "text/plain": [
              "array([[1, 2],\n",
              "       [3, 4],\n",
              "       [5, 6]])"
            ]
          },
          "metadata": {},
          "execution_count": 12
        }
      ]
    },
    {
      "cell_type": "code",
      "source": [
        "x.reshape(3,2, order='F') # F stands for fortorn"
      ],
      "metadata": {
        "colab": {
          "base_uri": "https://localhost:8080/"
        },
        "id": "5nSf_1F3cgYU",
        "outputId": "9f380395-c2c2-4832-8505-94192c762f5a"
      },
      "execution_count": 21,
      "outputs": [
        {
          "output_type": "execute_result",
          "data": {
            "text/plain": [
              "array([[1, 4],\n",
              "       [2, 5],\n",
              "       [3, 6]])"
            ]
          },
          "metadata": {},
          "execution_count": 21
        }
      ]
    },
    {
      "cell_type": "code",
      "source": [
        "x.reshape(2,3)"
      ],
      "metadata": {
        "colab": {
          "base_uri": "https://localhost:8080/"
        },
        "id": "Ph7TcT_8Y_Oe",
        "outputId": "b7a7edc6-ad39-4455-debb-2ebbbf5ea7c5"
      },
      "execution_count": 13,
      "outputs": [
        {
          "output_type": "execute_result",
          "data": {
            "text/plain": [
              "array([[1, 2, 3],\n",
              "       [4, 5, 6]])"
            ]
          },
          "metadata": {},
          "execution_count": 13
        }
      ]
    },
    {
      "cell_type": "code",
      "source": [
        "# Cannot do this ? why?\n",
        "x.reshape(2,2) "
      ],
      "metadata": {
        "colab": {
          "base_uri": "https://localhost:8080/",
          "height": 169
        },
        "id": "IneDSDcTZCLq",
        "outputId": "052799ba-2e47-4c35-e74d-57675359c551"
      },
      "execution_count": 15,
      "outputs": [
        {
          "output_type": "error",
          "ename": "ValueError",
          "evalue": "ignored",
          "traceback": [
            "\u001b[0;31m---------------------------------------------------------------------------\u001b[0m",
            "\u001b[0;31mValueError\u001b[0m                                Traceback (most recent call last)",
            "\u001b[0;32m<ipython-input-15-268da892c6f7>\u001b[0m in \u001b[0;36m<module>\u001b[0;34m\u001b[0m\n\u001b[0;32m----> 1\u001b[0;31m \u001b[0mx\u001b[0m\u001b[0;34m.\u001b[0m\u001b[0mreshape\u001b[0m\u001b[0;34m(\u001b[0m\u001b[0;36m2\u001b[0m\u001b[0;34m,\u001b[0m\u001b[0;36m2\u001b[0m\u001b[0;34m)\u001b[0m\u001b[0;34m\u001b[0m\u001b[0;34m\u001b[0m\u001b[0m\n\u001b[0m",
            "\u001b[0;31mValueError\u001b[0m: cannot reshape array of size 6 into shape (2,2)"
          ]
        }
      ]
    },
    {
      "cell_type": "code",
      "source": [
        "# Cannot do this ? why?\n",
        "x.reshape(6,1) "
      ],
      "metadata": {
        "colab": {
          "base_uri": "https://localhost:8080/"
        },
        "id": "C1nWZYNWZJ-A",
        "outputId": "1e841273-cbea-461f-b5a1-fd5862a31625"
      },
      "execution_count": 16,
      "outputs": [
        {
          "output_type": "execute_result",
          "data": {
            "text/plain": [
              "array([[1],\n",
              "       [2],\n",
              "       [3],\n",
              "       [4],\n",
              "       [5],\n",
              "       [6]])"
            ]
          },
          "metadata": {},
          "execution_count": 16
        }
      ]
    },
    {
      "cell_type": "code",
      "source": [
        "x.reshape(1,6) "
      ],
      "metadata": {
        "colab": {
          "base_uri": "https://localhost:8080/"
        },
        "id": "GBI8sr_QZMNU",
        "outputId": "56eba54e-abef-4fc1-e88e-ba7bccdee303"
      },
      "execution_count": 17,
      "outputs": [
        {
          "output_type": "execute_result",
          "data": {
            "text/plain": [
              "array([[1, 2, 3, 4, 5, 6]])"
            ]
          },
          "metadata": {},
          "execution_count": 17
        }
      ]
    },
    {
      "cell_type": "markdown",
      "source": [
        "### Example-2: Matrix to vector\n",
        "\n",
        "We now start with a matrix:\n",
        "\n",
        "$$\n",
        "\\mathbf{M} = \\begin{bmatrix}\n",
        "1 & 2 & 3\\\\\n",
        "4 & 5 & 6\n",
        "\\end{bmatrix}\n",
        "$$\n",
        "\n",
        "We can now reshape it into a vector:\n",
        "\n",
        "$$\n",
        "\\mathbf{x} = \\begin{bmatrix}\n",
        "1 & 2 & 3 & 4 & 5 & 6\n",
        "\\end{bmatrix}\n",
        "$$\n",
        "\n",
        "In `NumPy`:"
      ],
      "metadata": {
        "id": "WFAV9GNmYlRw"
      }
    },
    {
      "cell_type": "code",
      "source": [
        "m = np.array([[1,2,3], [4,5,6]])\n",
        "m.shape"
      ],
      "metadata": {
        "id": "JbM7OAgfUtSw",
        "colab": {
          "base_uri": "https://localhost:8080/"
        },
        "outputId": "8294df0a-4278-401d-c74b-83e37bb1cd8c"
      },
      "execution_count": 18,
      "outputs": [
        {
          "output_type": "execute_result",
          "data": {
            "text/plain": [
              "(2, 3)"
            ]
          },
          "metadata": {},
          "execution_count": 18
        }
      ]
    },
    {
      "cell_type": "code",
      "source": [
        "m.reshape(6,)"
      ],
      "metadata": {
        "colab": {
          "base_uri": "https://localhost:8080/"
        },
        "id": "FJv9fyyQZVZU",
        "outputId": "a58e3eb8-df4c-4c13-e233-306674a24a50"
      },
      "execution_count": 22,
      "outputs": [
        {
          "output_type": "execute_result",
          "data": {
            "text/plain": [
              "array([1, 2, 3, 4, 5, 6])"
            ]
          },
          "metadata": {},
          "execution_count": 22
        }
      ]
    },
    {
      "cell_type": "markdown",
      "source": [
        "### Example-3: Matrix to matrix\n",
        "\n",
        "We can reshape a matrix into another matrix as well. Sometimes, we may not want to specify the dimensions completely. In such cases, we can let `NumPy` figure them out by letting one of the dimensions to be $-1$. For example:\n",
        "\n",
        "$$\n",
        "\\mathbf{M} = \\begin{bmatrix}\n",
        "1 & 2 & 3\\\\\n",
        "4 & 5 & 6\n",
        "\\end{bmatrix}\n",
        "$$\n",
        "\n",
        "Let us say we want to reshape it in such a way that there are three rows:\n",
        "\n",
        "$$\n",
        "\\mathbf{P} = \\begin{bmatrix}\n",
        "1 & 2\\\\\n",
        "3 & 4\\\\\n",
        "5 & 6\n",
        "\\end{bmatrix}\n",
        "$$\n",
        "\n",
        "In `NumPy`:"
      ],
      "metadata": {
        "id": "FHk15C4cXz9u"
      }
    },
    {
      "cell_type": "code",
      "source": [
        "m = np.array([[1,2,3], [4,5,6]])\n",
        "m.reshape(3, -1) # -1 is unknwon dimention"
      ],
      "metadata": {
        "id": "ax2gS0huYfKH",
        "colab": {
          "base_uri": "https://localhost:8080/"
        },
        "outputId": "1019191f-d6cf-4b3f-853e-d59b5a37d4e7"
      },
      "execution_count": 23,
      "outputs": [
        {
          "output_type": "execute_result",
          "data": {
            "text/plain": [
              "array([[1, 2],\n",
              "       [3, 4],\n",
              "       [5, 6]])"
            ]
          },
          "metadata": {},
          "execution_count": 23
        }
      ]
    },
    {
      "cell_type": "code",
      "source": [
        "m.reshape(3, -1, order='F') # -1 is unknwon dimention"
      ],
      "metadata": {
        "colab": {
          "base_uri": "https://localhost:8080/"
        },
        "id": "_edqSIWWc-rM",
        "outputId": "8280d17b-38f2-48e8-f3ee-04bfc6690321"
      },
      "execution_count": 24,
      "outputs": [
        {
          "output_type": "execute_result",
          "data": {
            "text/plain": [
              "array([[1, 5],\n",
              "       [4, 3],\n",
              "       [2, 6]])"
            ]
          },
          "metadata": {},
          "execution_count": 24
        }
      ]
    },
    {
      "cell_type": "markdown",
      "source": [
        "## Matrix-vector addition\n",
        "\n",
        "Sometimes we would have to add a vector to each row or column of a matrix. There are two cases to consider. If the vector to be added is a:\n",
        "\n",
        "- row vector\n",
        "- column vector\n"
      ],
      "metadata": {
        "id": "zy6NYtY8mPDn"
      }
    },
    {
      "cell_type": "markdown",
      "source": [
        "### Row-vector\n",
        "\n",
        "Consider the following matrix $\\mathbf{M}$ and vector $\\mathbf{b}$:\n",
        "\n",
        "$$\n",
        "\\mathbf{M} = \\begin{bmatrix}\n",
        "1 & 2 & 3\\\\\n",
        "4 & 5 & 6\n",
        "\\end{bmatrix}, \\mathbf{b} = \\begin{bmatrix}\n",
        "1 & 2 & 3\n",
        "\\end{bmatrix}\n",
        "$$\n",
        "\n",
        "There is a slight abuse of notation as we can't add a matrix and a vector together. However, the context often makes this clear:\n",
        "\n",
        "$$\n",
        "\\mathbf{M} + \\mathbf{b} = \\begin{bmatrix}\n",
        "2 & 4 & 6\\\\\n",
        "5 & 7 & 9\n",
        "\\end{bmatrix}\n",
        "$$\n",
        "\n",
        "In `NumPy`:"
      ],
      "metadata": {
        "id": "QmlMcTXXqGDy"
      }
    },
    {
      "cell_type": "code",
      "source": [
        "m = np.array([[1,2,3], [4,5,6]])\n",
        "b = np.array([1,2,3])\n",
        "m+b"
      ],
      "metadata": {
        "id": "60bRMgs0na0o",
        "colab": {
          "base_uri": "https://localhost:8080/"
        },
        "outputId": "46e38af3-651f-4293-9b07-db82f246a0db"
      },
      "execution_count": 25,
      "outputs": [
        {
          "output_type": "execute_result",
          "data": {
            "text/plain": [
              "array([[2, 4, 6],\n",
              "       [5, 7, 9]])"
            ]
          },
          "metadata": {},
          "execution_count": 25
        }
      ]
    },
    {
      "cell_type": "markdown",
      "source": [
        "### Column-vector\n",
        "\n",
        "Now, consider another pair:\n",
        "\n",
        "$$\n",
        "\\mathbf{M} = \\begin{bmatrix}\n",
        "1 & 2 & 3\\\\\n",
        "4 & 5 & 6\n",
        "\\end{bmatrix}, \\mathbf{b} = \\begin{bmatrix}\n",
        "1\\\\\n",
        "2\n",
        "\\end{bmatrix}\n",
        "$$\n",
        "\n",
        "In this case, we have:\n",
        "\n",
        "$$\n",
        "\\mathbf{M} + \\mathbf{b} = \\begin{bmatrix}\n",
        "2 & 3 & 4\\\\\n",
        "6 & 7 & 8\n",
        "\\end{bmatrix}\n",
        "$$\n",
        "\n",
        "In `NumPy`:"
      ],
      "metadata": {
        "id": "eqhrvxBnnqq4"
      }
    },
    {
      "cell_type": "code",
      "source": [
        "m = np.array([[1,2,3], [4,5,6]])\n",
        "b = np.array([1,2])\n",
        "print(b)\n",
        "print(b.shape)\n",
        "b = b.reshape(2,1)\n",
        "print(b)\n",
        "print(b.shape)\n",
        "m+b"
      ],
      "metadata": {
        "id": "5Nz887yvoUyr",
        "colab": {
          "base_uri": "https://localhost:8080/"
        },
        "outputId": "a0f1e34e-d516-4c1b-90f5-8fc82820a405"
      },
      "execution_count": 35,
      "outputs": [
        {
          "output_type": "stream",
          "name": "stdout",
          "text": [
            "[1 2]\n",
            "(2,)\n",
            "[[1]\n",
            " [2]]\n",
            "(2, 1)\n"
          ]
        },
        {
          "output_type": "execute_result",
          "data": {
            "text/plain": [
              "array([[2, 3, 4],\n",
              "       [6, 7, 8]])"
            ]
          },
          "metadata": {},
          "execution_count": 35
        }
      ]
    },
    {
      "cell_type": "markdown",
      "source": [
        "## Indexing and Slicing an array\n",
        "\n",
        "Just like lists in Python, `NumPy` arrays can be indexed and sliced. Slicing is useful if we want to work with a portion of an array. We will look at some examples."
      ],
      "metadata": {
        "id": "z_Gbs92eyXzM"
      }
    },
    {
      "cell_type": "markdown",
      "source": [
        "### Example-1: Row-slice\n",
        "\n",
        "We will extract the third row of the matrix $\\mathbf{M}$:\n",
        "\n",
        "$$\n",
        "\\mathbf{M} = \\begin{bmatrix}\n",
        "1 & 2\\\\\n",
        "3 & 4\\\\\n",
        "5 & 6\\\\\n",
        "7 & 8\\\\\n",
        "9 & 10\n",
        "\\end{bmatrix}\n",
        "$$\n",
        "\n",
        "\n",
        "\n",
        "In `NumPy`:"
      ],
      "metadata": {
        "id": "d2oQKpMtx0ma"
      }
    },
    {
      "cell_type": "code",
      "source": [
        "M = np.array([[1,2],[3,4], [5,6], [7,8], [9,10]])\n",
        "M[2]"
      ],
      "metadata": {
        "id": "6JNjoHuAyvyH",
        "colab": {
          "base_uri": "https://localhost:8080/"
        },
        "outputId": "af28e34f-3cd1-4cc4-df62-c6979bc75fb1"
      },
      "execution_count": 37,
      "outputs": [
        {
          "output_type": "execute_result",
          "data": {
            "text/plain": [
              "array([5, 6])"
            ]
          },
          "metadata": {},
          "execution_count": 37
        }
      ]
    },
    {
      "cell_type": "markdown",
      "source": [
        "### Example-2: Column slice\n",
        "\n",
        "Let us now extract the second column of the following matrix:\n",
        "\n",
        "$$\n",
        "\\mathbf{M} = \\begin{bmatrix}\n",
        "1 & 2 & 3\\\\\n",
        "4 & 5 & 6\\\\\n",
        "7 & 8 & 9\n",
        "\\end{bmatrix}\n",
        "$$\n",
        "\n",
        "In `NumPy`:"
      ],
      "metadata": {
        "id": "SDZ2YWhKy0sh"
      }
    },
    {
      "cell_type": "code",
      "source": [
        "M = np.array([[1,2, 3],[4, 5, 6], [7,8, 9]])\n",
        "M[:,1]\n"
      ],
      "metadata": {
        "id": "oPlbEYqwzEWO",
        "colab": {
          "base_uri": "https://localhost:8080/"
        },
        "outputId": "b32d8ba2-c72b-4a22-b272-73193d168d4d"
      },
      "execution_count": 44,
      "outputs": [
        {
          "output_type": "execute_result",
          "data": {
            "text/plain": [
              "array([2, 5, 8])"
            ]
          },
          "metadata": {},
          "execution_count": 44
        }
      ]
    },
    {
      "cell_type": "code",
      "source": [
        "M[1,:]\n"
      ],
      "metadata": {
        "colab": {
          "base_uri": "https://localhost:8080/"
        },
        "id": "PwZbiBFriC0X",
        "outputId": "107b9f50-f2a0-4946-f30d-e94bfcff4ad7"
      },
      "execution_count": 46,
      "outputs": [
        {
          "output_type": "execute_result",
          "data": {
            "text/plain": [
              "array([4, 5, 6])"
            ]
          },
          "metadata": {},
          "execution_count": 46
        }
      ]
    },
    {
      "cell_type": "markdown",
      "source": [
        "### Example-3: Submatrix slice\n",
        "\n",
        "Now, we want to extract the $2 \\times 2$ submatrix colored in blue from $M$:\n",
        "\n",
        "$$\n",
        "\\mathbf{M} = \\begin{bmatrix}\n",
        "1 & 2 & 3 & 4\\\\\n",
        "5 & 6 & \\color{blue}7 & \\color{blue}8\\\\\n",
        "9 & 10 & \\color{blue}{11} & \\color{blue}{12}\\\\\n",
        "13 & 14 & 15 & 16\n",
        "\\end{bmatrix}\n",
        "$$\n",
        "\n",
        "In `NumPy`:"
      ],
      "metadata": {
        "id": "GLPmdjIazkS9"
      }
    },
    {
      "cell_type": "code",
      "source": [
        "# M = np.array([[1,2,3,4], [5,6,7,8], [9,10,11,12], [13,14,15,16]])\n",
        "N = np.array(np.linspace(1,16, 16))\n",
        "M = N.reshape(4,-1)\n",
        "M[1:3, 2:4]"
      ],
      "metadata": {
        "id": "-_1PqxnR1hSJ",
        "colab": {
          "base_uri": "https://localhost:8080/"
        },
        "outputId": "035250ac-3e9a-4e92-cfbb-246d84dc6d58"
      },
      "execution_count": 51,
      "outputs": [
        {
          "output_type": "execute_result",
          "data": {
            "text/plain": [
              "array([[ 7.,  8.],\n",
              "       [11., 12.]])"
            ]
          },
          "metadata": {},
          "execution_count": 51
        }
      ]
    },
    {
      "cell_type": "markdown",
      "source": [
        "### Example-4: Indexing using arrays\n",
        "\n",
        "`NumPy` arrays themselves can be used as indices to retreive different parts of the array. For example:\n",
        "\n",
        "$$\n",
        "\\mathbf{x} = \\begin{bmatrix}\n",
        "0 & 1 & 2 & 3 & 4 & 5 & 6\n",
        "\\end{bmatrix}\n",
        "$$\n",
        "\n",
        "Let us say that we are interested in retreiving indices: `[1, 3, 6]`. \n",
        "\n",
        "In `NumPy`:"
      ],
      "metadata": {
        "id": "kYF_el9_7nhj"
      }
    },
    {
      "cell_type": "code",
      "source": [
        "x = np.array([0,1,2,3,4,5,6])\n",
        "x[[1,3,6]]"
      ],
      "metadata": {
        "id": "ppezuKD98NS3",
        "colab": {
          "base_uri": "https://localhost:8080/"
        },
        "outputId": "1a549191-a644-4a4b-b180-ef76752b25dd"
      },
      "execution_count": 56,
      "outputs": [
        {
          "output_type": "execute_result",
          "data": {
            "text/plain": [
              "array([1, 3, 6])"
            ]
          },
          "metadata": {},
          "execution_count": 56
        }
      ]
    },
    {
      "cell_type": "markdown",
      "source": [
        "### Example-5: Filtering particular values\n",
        "\n",
        "Sometimes we are interested in those elements of the array that possess a particular property:\n",
        "\n",
        "$$\n",
        "\\mathbf{x} = \\begin{bmatrix}\n",
        "3 & 1 & 0 & -4 & -2 & 1 & 5\n",
        "\\end{bmatrix}\n",
        "$$\n",
        "\n",
        "Let us try to extract all elements that are positive.\n",
        "\n",
        "In `NumPy`:"
      ],
      "metadata": {
        "id": "i0fW7CFg8d6z"
      }
    },
    {
      "cell_type": "code",
      "source": [
        "x = np.array([3,1,0,-4,-2,1,5])\n",
        "x[x > 0]"
      ],
      "metadata": {
        "id": "isTifYN58vy4",
        "colab": {
          "base_uri": "https://localhost:8080/"
        },
        "outputId": "af00a181-4a9e-45ef-85ee-197baf52ef4a"
      },
      "execution_count": 58,
      "outputs": [
        {
          "output_type": "execute_result",
          "data": {
            "text/plain": [
              "array([3, 1, 1, 5])"
            ]
          },
          "metadata": {},
          "execution_count": 58
        }
      ]
    },
    {
      "cell_type": "markdown",
      "source": [
        "## Operations along axes\n",
        "\n",
        "Sometimes we may wish to do some operations on all the row-vectors of a matrix or all the column-vectors of the matrix. The idea of `axis` is important to understand how these operations can be done."
      ],
      "metadata": {
        "id": "frvhBhaWN5HQ"
      }
    },
    {
      "cell_type": "markdown",
      "source": [
        "### Top-bottom\n",
        "\n",
        "Top-bottom operations are done on row-vectors. For example, consider the matrix:\n",
        "\n",
        "$$\n",
        "\\mathbf{A} = \\begin{bmatrix}\n",
        "1 & 2 & 3 & 4\\\\\n",
        "5 & 6 & 7 & 8\n",
        "\\end{bmatrix}\n",
        "$$\n",
        "\n",
        "The sum of the row-vectors of the matrix is a vector:\n",
        "\n",
        "$$\n",
        "\\text{rsum}(\\mathbf{A}) = \\begin{bmatrix}\n",
        "6 & 8 & 10 & 12\n",
        "\\end{bmatrix}\n",
        "$$\n",
        "\n",
        "In `NumPy`:"
      ],
      "metadata": {
        "id": "qUsvnCJ4krbZ"
      }
    },
    {
      "cell_type": "code",
      "source": [
        "x = np.linspace(1, 8, 8)\n",
        "x = x.reshape(2,-1)\n",
        "print(x)\n",
        "x.sum(axis=0)"
      ],
      "metadata": {
        "id": "O1YbVPhWJ0h-",
        "colab": {
          "base_uri": "https://localhost:8080/"
        },
        "outputId": "bfd83196-9ad1-4591-c1a4-300a7c86fa07"
      },
      "execution_count": 63,
      "outputs": [
        {
          "output_type": "stream",
          "name": "stdout",
          "text": [
            "[[1. 2. 3. 4.]\n",
            " [5. 6. 7. 8.]]\n"
          ]
        },
        {
          "output_type": "execute_result",
          "data": {
            "text/plain": [
              "array([ 6.,  8., 10., 12.])"
            ]
          },
          "metadata": {},
          "execution_count": 63
        }
      ]
    },
    {
      "cell_type": "code",
      "source": [
        "x.sum(axis=1)"
      ],
      "metadata": {
        "colab": {
          "base_uri": "https://localhost:8080/"
        },
        "id": "MjdHw2lTkjuo",
        "outputId": "54165b83-fedc-41c8-bdf2-ba4073210cfa"
      },
      "execution_count": 64,
      "outputs": [
        {
          "output_type": "execute_result",
          "data": {
            "text/plain": [
              "array([10., 26.])"
            ]
          },
          "metadata": {},
          "execution_count": 64
        }
      ]
    },
    {
      "cell_type": "markdown",
      "source": [
        "### Left-right\n",
        "\n",
        "Left-right operations are done on column-vectors.\n",
        "\n",
        "$$\n",
        "\\mathbf{A} = \\begin{bmatrix}\n",
        "1 & 2 & 3 & 4\\\\\n",
        "5 & 6 & 7 & 8\n",
        "\\end{bmatrix}\n",
        "$$\n",
        "\n",
        "The sum of the column-vectors of the matrix is a vector:\n",
        "\n",
        "$$\n",
        "\\text{csum}(\\mathbf{A}) = \\begin{bmatrix}\n",
        "10\\\\\n",
        "26\n",
        "\\end{bmatrix}\n",
        "$$\n",
        "\n",
        "In `NumPy`:"
      ],
      "metadata": {
        "id": "oj5mbwZfLJwL"
      }
    },
    {
      "cell_type": "code",
      "source": [
        "x.sum(axis=1)"
      ],
      "metadata": {
        "id": "EnRfM2y5LfwQ",
        "colab": {
          "base_uri": "https://localhost:8080/"
        },
        "outputId": "7eb084d7-8162-48a0-a4e2-a201ce180496"
      },
      "execution_count": 65,
      "outputs": [
        {
          "output_type": "execute_result",
          "data": {
            "text/plain": [
              "array([10., 26.])"
            ]
          },
          "metadata": {},
          "execution_count": 65
        }
      ]
    },
    {
      "cell_type": "markdown",
      "source": [
        "### Sum, Mean, Variance, Norm\n",
        "\n",
        "Some of the operations that can be done in this manner. Let us use the following matrix to demonstrate this:\n",
        "\n",
        "$$\n",
        "\\mathbf{M} = \\begin{bmatrix}\n",
        "1 & 2 & 3\\\\\n",
        "4 & 5 & 6\\\\\n",
        "7 & 8 & 9\n",
        "\\end{bmatrix}\n",
        "$$\n",
        "\n",
        "Let us find the following quantities:\n",
        "\n",
        "- sum of column-vectors\n",
        "- mean of row-vectors\n",
        "- variance of column-vectors"
      ],
      "metadata": {
        "id": "04AtzT0ampAi"
      }
    },
    {
      "cell_type": "code",
      "source": [
        "x = np.linspace(1, 9, 9)\n",
        "x = x.reshape(3,-1)\n",
        "x.sum(axis=0) # sum of col-vector"
      ],
      "metadata": {
        "id": "wC42Iat8m2NK",
        "colab": {
          "base_uri": "https://localhost:8080/"
        },
        "outputId": "4c1a2917-2ab9-44a7-bd56-12cc59aad7bf"
      },
      "execution_count": 71,
      "outputs": [
        {
          "output_type": "execute_result",
          "data": {
            "text/plain": [
              "array([12., 15., 18.])"
            ]
          },
          "metadata": {},
          "execution_count": 71
        }
      ]
    },
    {
      "cell_type": "code",
      "source": [
        "x.mean(axis=1) # mean of row-vector"
      ],
      "metadata": {
        "colab": {
          "base_uri": "https://localhost:8080/"
        },
        "id": "BFgS2rG2k1cO",
        "outputId": "608de0d9-2643-4743-bfd4-20cb9734f7ed"
      },
      "execution_count": 72,
      "outputs": [
        {
          "output_type": "execute_result",
          "data": {
            "text/plain": [
              "array([2., 5., 8.])"
            ]
          },
          "metadata": {},
          "execution_count": 72
        }
      ]
    },
    {
      "cell_type": "code",
      "source": [
        "x.var(axis=0) # var of col-vector"
      ],
      "metadata": {
        "colab": {
          "base_uri": "https://localhost:8080/"
        },
        "id": "LRW6wvFlk64L",
        "outputId": "142b3be0-4aa0-482d-f407-003af13a400c"
      },
      "execution_count": 73,
      "outputs": [
        {
          "output_type": "execute_result",
          "data": {
            "text/plain": [
              "array([6., 6., 6.])"
            ]
          },
          "metadata": {},
          "execution_count": 73
        }
      ]
    },
    {
      "cell_type": "markdown",
      "source": [
        "## Stacking arrays\n",
        "\n",
        "Sometimes, we would want to stack arrays. Consider the two matrices:\n",
        "\n",
        "$$\n",
        "\\mathbf{A} =\n",
        "\\begin{bmatrix}\n",
        "1 & 2\\\\\n",
        "3 & 4\n",
        "\\end{bmatrix},\n",
        "\\mathbf{B} =\n",
        "\\begin{bmatrix}\n",
        "5 & 6\\\\\n",
        "7 & 8\n",
        "\\end{bmatrix}\n",
        "$$\n",
        "\n",
        "There are two ways to stack these two matrices:\n",
        "\n",
        "- top-bottom\n",
        "- left-right"
      ],
      "metadata": {
        "id": "_4V0KLcs31ai"
      }
    },
    {
      "cell_type": "markdown",
      "source": [
        "### Top-bottom\n",
        "\n",
        "We could stack the two matrices along the rows, $\\mathbf{A}$ on top of $\\mathbf{B}$:\n",
        "\n",
        "$$\n",
        "\\mathbf{C} =\n",
        "\\begin{bmatrix}\n",
        "1 & 2\\\\\n",
        "3 & 4\\\\\n",
        "5 & 6\\\\\n",
        "7 & 8\n",
        "\\end{bmatrix}\n",
        "$$\n",
        "\n",
        "In `NumPy`:"
      ],
      "metadata": {
        "id": "5KRHau7b4R_v"
      }
    },
    {
      "cell_type": "code",
      "source": [
        "A = np.array([[1,2], [3,4]])\n",
        "B = np.array([[5,6], [7,8]])\n",
        "C = np.concatenate((A, B), axis=0)\n",
        "C"
      ],
      "metadata": {
        "id": "jfHRPcwH5TrC",
        "colab": {
          "base_uri": "https://localhost:8080/"
        },
        "outputId": "f83eda96-5d9f-441b-eb0d-f95c0aee522a"
      },
      "execution_count": 77,
      "outputs": [
        {
          "output_type": "execute_result",
          "data": {
            "text/plain": [
              "array([[1, 2],\n",
              "       [3, 4],\n",
              "       [5, 6],\n",
              "       [7, 8]])"
            ]
          },
          "metadata": {},
          "execution_count": 77
        }
      ]
    },
    {
      "cell_type": "code",
      "source": [
        "C = np.concatenate((A, B), axis=1)\n",
        "C"
      ],
      "metadata": {
        "colab": {
          "base_uri": "https://localhost:8080/"
        },
        "id": "aW0FPiT0lZCd",
        "outputId": "0980f1c9-b425-42b5-d7f2-b7ebb511b115"
      },
      "execution_count": 78,
      "outputs": [
        {
          "output_type": "execute_result",
          "data": {
            "text/plain": [
              "array([[1, 2, 5, 6],\n",
              "       [3, 4, 7, 8]])"
            ]
          },
          "metadata": {},
          "execution_count": 78
        }
      ]
    },
    {
      "cell_type": "markdown",
      "source": [
        "### Left-right\n",
        "\n",
        "We could stack the two matrices along the columns, $\\mathbf{A}$ to the left of $\\mathbf{B}$:\n",
        "\n",
        "$$\n",
        "\\mathbf{C} =\n",
        "\\begin{bmatrix}\n",
        "1 & 2 & 5 & 6\\\\\n",
        "3 & 4 & 7 & 8\\\\\n",
        "\\end{bmatrix}\n",
        "$$\n",
        "\n",
        "In `NumPy`:"
      ],
      "metadata": {
        "id": "Y3kW_un8NaQL"
      }
    },
    {
      "cell_type": "code",
      "source": [
        "C = np.concatenate((A, B), axis=1)\n",
        "C"
      ],
      "metadata": {
        "id": "MimZDA5CNk5C",
        "colab": {
          "base_uri": "https://localhost:8080/"
        },
        "outputId": "53a00cc6-6e59-436e-f64c-e03b8c976de2"
      },
      "execution_count": 79,
      "outputs": [
        {
          "output_type": "execute_result",
          "data": {
            "text/plain": [
              "array([[1, 2, 5, 6],\n",
              "       [3, 4, 7, 8]])"
            ]
          },
          "metadata": {},
          "execution_count": 79
        }
      ]
    }
  ]
}