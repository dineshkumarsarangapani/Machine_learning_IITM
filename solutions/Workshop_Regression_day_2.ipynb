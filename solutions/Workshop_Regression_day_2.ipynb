{
  "nbformat": 4,
  "nbformat_minor": 0,
  "metadata": {
    "colab": {
      "provenance": [],
      "include_colab_link": true
    },
    "kernelspec": {
      "name": "python3",
      "display_name": "Python 3"
    },
    "language_info": {
      "name": "python"
    }
  },
  "cells": [
    {
      "cell_type": "markdown",
      "metadata": {
        "id": "view-in-github",
        "colab_type": "text"
      },
      "source": [
        "<a href=\"https://colab.research.google.com/github/dineshkumarsarangapani/Machine_learning_IITM/blob/main/solutions/Workshop_Regression_day_2.ipynb\" target=\"_parent\"><img src=\"https://colab.research.google.com/assets/colab-badge.svg\" alt=\"Open In Colab\"/></a>"
      ]
    },
    {
      "cell_type": "code",
      "execution_count": 66,
      "metadata": {
        "id": "3RQLKkM58BiF"
      },
      "outputs": [],
      "source": [
        "import numpy as np\n",
        "import matplotlib.pyplot as plt"
      ]
    },
    {
      "cell_type": "markdown",
      "source": [
        "## Data \n",
        "\n",
        "$\\mathbf{X}$ is a feature matrix corresponding to $n$ training examples, each represented with $d$ features and has shape $d \\times n$.  \n",
        "\\begin{equation}\n",
        "  \\mathbf{X}_{d \\times n} = \\begin{bmatrix}\n",
        "       | & | &\\dots & |\\\\\n",
        "       \\mathbf{x}_{1}&  \n",
        "       \\mathbf{x}_{2} & \n",
        "      \\dots &\n",
        "       \\mathbf{x}_{n}  \\\\\n",
        "        | & | &\\dots & |\\\\\n",
        "    \\end{bmatrix}\n",
        "\\end{equation}\n",
        "\n",
        "* here each $\\mathbf{x}_i \\in \\mathbb{R}^d$\n",
        "\n",
        "*  $\\mathbf{y}$ is a label vector of shape $n \\times 1$.  \n",
        "\\begin{equation}\n",
        "    \\mathbf{y} = \\begin{bmatrix}\n",
        "        y_{1}  \\\\\n",
        "        y_{2} \\\\\n",
        "        \\vdots  \\\\\n",
        "        y_{n} \\\\\n",
        "      \\end{bmatrix}\n",
        "\\end{equation}\n",
        "\n",
        "*  The $i$-th entry in this vector, $\\mathbf{y}[i]$ gives label for $i$-th example, which is denoted by $y_{i} \\in \\mathbb{R}$."
      ],
      "metadata": {
        "id": "FAlr8M-Z8Zor"
      }
    },
    {
      "cell_type": "markdown",
      "source": [
        "### Training data"
      ],
      "metadata": {
        "id": "5xKGE4b6hTq5"
      }
    },
    {
      "cell_type": "code",
      "source": [
        "## Training Data \n",
        "rng = np.random.default_rng(seed = 101)\n",
        "X_train = (np.arange(-2, 2, 0.01).reshape(1, -1))\n",
        "y_train = (2*X_train**3+3*X_train**2 +4 + rng.normal(0, 1, X_train.shape[1]).reshape(1, -1)).T\n",
        "X_train.shape"
      ],
      "metadata": {
        "id": "GbDDcyLKiGsq",
        "colab": {
          "base_uri": "https://localhost:8080/"
        },
        "outputId": "0d2508ca-ab10-43ed-d23a-844bdd8d9704"
      },
      "execution_count": 67,
      "outputs": [
        {
          "output_type": "execute_result",
          "data": {
            "text/plain": [
              "(1, 400)"
            ]
          },
          "metadata": {},
          "execution_count": 67
        }
      ]
    },
    {
      "cell_type": "code",
      "source": [
        "plt.scatter(X_train, y_train)"
      ],
      "metadata": {
        "colab": {
          "base_uri": "https://localhost:8080/",
          "height": 283
        },
        "id": "CxsFe7PLK-el",
        "outputId": "f77a012e-eee5-46e8-8194-4f4ff241c40b"
      },
      "execution_count": 68,
      "outputs": [
        {
          "output_type": "execute_result",
          "data": {
            "text/plain": [
              "<matplotlib.collections.PathCollection at 0x7fdc26588af0>"
            ]
          },
          "metadata": {},
          "execution_count": 68
        },
        {
          "output_type": "display_data",
          "data": {
            "text/plain": [
              "<Figure size 432x288 with 1 Axes>"
            ],
            "image/png": "[encoded data removed]"
          },
          "metadata": {
            "needs_background": "light"
          }
        }
      ]
    },
    {
      "cell_type": "markdown",
      "source": [
        "### Test data"
      ],
      "metadata": {
        "id": "ffSQPM_4BQya"
      }
    },
    {
      "cell_type": "code",
      "source": [
        "### Test data\n",
        "rng = np.random.default_rng(seed = 102)\n",
        "X_test = np.arange(-2, 2, 0.02).reshape(1, -1)\n",
        "y_test = (2*X_test**3+3*X_test**2 +4 + rng.normal(0, 2, X_test.shape[1]).reshape(1, -1)).T"
      ],
      "metadata": {
        "id": "kACpsUAh8Xpx"
      },
      "execution_count": 69,
      "outputs": []
    },
    {
      "cell_type": "code",
      "source": [
        "plt.scatter(X_test, y_test)"
      ],
      "metadata": {
        "colab": {
          "base_uri": "https://localhost:8080/",
          "height": 283
        },
        "id": "Xe9CygeALC4V",
        "outputId": "68f1a320-4273-40cb-b7bb-617bb6739e28"
      },
      "execution_count": 70,
      "outputs": [
        {
          "output_type": "execute_result",
          "data": {
            "text/plain": [
              "<matplotlib.collections.PathCollection at 0x7fdc264fde50>"
            ]
          },
          "metadata": {},
          "execution_count": 70
        },
        {
          "output_type": "display_data",
          "data": {
            "text/plain": [
              "<Figure size 432x288 with 1 Axes>"
            ],
            "image/png": "[encoded data removed]"
          },
          "metadata": {
            "needs_background": "light"
          }
        }
      ]
    },
    {
      "cell_type": "markdown",
      "source": [
        "## Model\n",
        "\n",
        "Linear regression model for the dataset ${\\mathbb{x}, y}$ is given as\n",
        "$$h_w(\\mathbb{x}) = w_1x^{1}+w_2x^{2}+...+w_dx^{d} =  \\mathbf{x}^Tw\n",
        "$$\n",
        "\n",
        "where $x^{i}$ is the $i^{th}$ feature of the data point $\\mathbf{x}$ and $w = [w_1, w_2, ...w_d]^T$ is the weight vector.\n",
        "\n",
        "\n",
        "Notice that above model always pass through the origin but for a given dataset, best fit model need not pass through the origin. To tackle this issue, we add an intercept $w_0$ in the model and set the corresponding featrue $x^{0}$ to $1$. That is \n",
        "\n",
        "$$h_w(\\mathbb{x}) =w_0x^{0}+ w_1x^{1}+w_2x^{2}+...+w_dx^{n} =  \\mathbf{x}^Tw\n",
        "$$\n",
        "\n",
        "We call $x^{0}$ the dummy feature and set its value to 1 for each examples. Now $w$ is of shape $(d+1, 1)$ and $\\mathbf{X}$ is of shape $(d+1, n)$ where the first row of $\\mathbf{X}$ has entries as 1.\n"
      ],
      "metadata": {
        "id": "EmK77bhCkKI-"
      }
    },
    {
      "cell_type": "markdown",
      "source": [
        "### Add dummy feature"
      ],
      "metadata": {
        "id": "A156drNBk37x"
      }
    },
    {
      "cell_type": "code",
      "source": [
        "dummy_feature = np.ones(X_train.shape[1])\n",
        "X = np.row_stack([dummy_feature,X_train])\n",
        "X_t = np.row_stack([np.ones(X_test.shape[1]), X_test])\n",
        "plt.scatter(X_train, y_train)\n",
        "plt.scatter(X_test, y_test)"
      ],
      "metadata": {
        "colab": {
          "base_uri": "https://localhost:8080/",
          "height": 283
        },
        "id": "NsqUQunWLTeZ",
        "outputId": "73aa2c56-7796-4e1d-f203-373add4b3c79"
      },
      "execution_count": 71,
      "outputs": [
        {
          "output_type": "execute_result",
          "data": {
            "text/plain": [
              "<matplotlib.collections.PathCollection at 0x7fdc264d5f70>"
            ]
          },
          "metadata": {},
          "execution_count": 71
        },
        {
          "output_type": "display_data",
          "data": {
            "text/plain": [
              "<Figure size 432x288 with 1 Axes>"
            ],
            "image/png": "[encoded data removed]"
          },
          "metadata": {
            "needs_background": "light"
          }
        }
      ]
    },
    {
      "cell_type": "markdown",
      "source": [
        "## Loss function\n",
        "\n",
        "The total loss is the sum of square of errors between actual and predicted labels for each training point.  \n",
        "\n",
        "The error for $i$-th training point is calculated as follows:\n",
        "\\begin{eqnarray}\n",
        "e^{(i)} &=& (\\mathrm{{actual\\ label} - {predicted\\ label}})^2 \\\\\n",
        "        &=& \\left ({y_{i}} -\n",
        "        {h_{\\mathbf{w}}(\\mathbf{x}_{i})} \\right)^2 \\\\\n",
        "        &=& \\left ({y_{i}} -\n",
        "        {\\mathbf{w}^T \\mathbf{x}_{i}} \\right)^2\n",
        "\\end{eqnarray}\n",
        "\n",
        " \n",
        "\n",
        "The total loss $L(\\mathbf{w})$ is sum of errors at each training point:\n",
        "\\begin{equation}\n",
        "L(\\mathbf{w}) = \\sum_{i=1}^{n} e^{(i)} \n",
        "\\end{equation}\n",
        "\n",
        "We divide this by $\\frac{1}{2}$ for mathematical convenience in later use:\n",
        "\n",
        "\n",
        "\\begin{eqnarray}\n",
        "  L(\\mathbf{w}) &=& \\frac{1}{2} \\sum_{i=1}^{n} e^{(i)} \\\\ &=&  \\frac{1}{2} \\left({{\\mathbf{X}^T \\mathbf{w}}} - \\mathbf{y} \\right)^T \\left({{\\mathbf{X}^T \\mathbf{w}}} - \\mathbf{y} \\right)) \n",
        "\\end{eqnarray}\n"
      ],
      "metadata": {
        "id": "Wp1v00V9lBMd"
      }
    },
    {
      "cell_type": "markdown",
      "source": [
        "## Optimization\n",
        "\n"
      ],
      "metadata": {
        "id": "MQtN8F2j9r42"
      }
    },
    {
      "cell_type": "markdown",
      "source": [
        "#### 1. Normal equation\n",
        "\n",
        "Let's set $\\dfrac{\\partial L(\\mathbf{w})}{\\partial \\mathbf{w}}$ to 0 and solve for $\\mathbf{w}$:\n",
        "\\begin{eqnarray}\n",
        "\\frac{\\partial L(\\mathbf{w})}{\\partial \\mathbf{w}} &=& \\mathbf{X} \\mathbf{X}^T \\mathbf{w} - \\mathbf{X} \\mathbf{y} = 0 \\\\\n",
        "\\mathbf{X}^T \\mathbf{X} \\mathbf{w} &=& \\mathbf{X}^T \\mathbf{Y} \\\\\n",
        "\\mathbf{w} &=& \\left( \\mathbf{X} \\mathbf{X}^T \\right)^{-1} \\mathbf{X} \\mathbf{y}\n",
        "\\end{eqnarray}\n",
        "\n"
      ],
      "metadata": {
        "id": "GvxZvoJO-OIn"
      }
    },
    {
      "cell_type": "markdown",
      "source": [
        "#### Find weight vector and prediction for training and test dataset"
      ],
      "metadata": {
        "id": "gwcJYj2Ml71z"
      }
    },
    {
      "cell_type": "code",
      "source": [
        "### weight \n",
        "def weights(X,y):\n",
        "  return np.linalg.pinv((X@X.T))@X@y\n",
        "\n",
        "w = weights(X, y_train)\n",
        "w"
      ],
      "metadata": {
        "id": "UiO64nmAeSkz",
        "colab": {
          "base_uri": "https://localhost:8080/"
        },
        "outputId": "312cca38-80d5-4b2f-bdb1-0e1e6fe48b61"
      },
      "execution_count": 72,
      "outputs": [
        {
          "output_type": "execute_result",
          "data": {
            "text/plain": [
              "array([[7.93982825],\n",
              "       [4.79910241]])"
            ]
          },
          "metadata": {},
          "execution_count": 72
        }
      ]
    },
    {
      "cell_type": "code",
      "source": [
        "### Prediction\n",
        "def predict(X, w):\n",
        "  return X.T@w\n",
        "\n",
        "prediction = predict(X_t, w)\n",
        "plt.scatter(X_test, y_test, label=\"actual\")\n",
        "plt.scatter(X_test, prediction, label=\"prediction\")\n",
        "plt.legend();"
      ],
      "metadata": {
        "id": "b_KErNi9eXTm",
        "colab": {
          "base_uri": "https://localhost:8080/",
          "height": 265
        },
        "outputId": "c3515a8a-df1b-4091-e7ab-3f323b7a41cc"
      },
      "execution_count": 73,
      "outputs": [
        {
          "output_type": "display_data",
          "data": {
            "text/plain": [
              "<Figure size 432x288 with 1 Axes>"
            ],
            "image/png": "[encoded data removed]"
          },
          "metadata": {
            "needs_background": "light"
          }
        }
      ]
    },
    {
      "cell_type": "code",
      "source": [],
      "metadata": {
        "id": "cBDfkJI_Oy6v"
      },
      "execution_count": 73,
      "outputs": []
    },
    {
      "cell_type": "markdown",
      "source": [
        "### Plot weight vector"
      ],
      "metadata": {
        "id": "ohC5eG-GETPq"
      }
    },
    {
      "cell_type": "code",
      "source": [
        "### Plot weight vector\n",
        "plt.scatter(X_test, y_test, label=\"actual\")\n",
        "ax = plt.gca();\n",
        "xvals =  np.array(ax.get_xlim())\n",
        "yvals = w[0] + w[1]*xvals\n",
        "plt.plot(xvals, yvals, 'red');"
      ],
      "metadata": {
        "id": "PEUE5Fhvea3Q",
        "colab": {
          "base_uri": "https://localhost:8080/",
          "height": 265
        },
        "outputId": "c7eb6265-9acc-40ea-9cad-794f09e5b9aa"
      },
      "execution_count": 74,
      "outputs": [
        {
          "output_type": "display_data",
          "data": {
            "text/plain": [
              "<Figure size 432x288 with 1 Axes>"
            ],
            "image/png": "[encoded data removed]"
          },
          "metadata": {
            "needs_background": "light"
          }
        }
      ]
    },
    {
      "cell_type": "markdown",
      "source": [
        "## Evaluation \n",
        "\n",
        "##### RMSE $$ \\sqrt{\\dfrac{1}{n}\\sum\\limits_{i=1}^{n} (y_i- \\hat{y}_i)^2}\n",
        "$$\n",
        "\n"
      ],
      "metadata": {
        "id": "Sk1KvxpCn1Xr"
      }
    },
    {
      "cell_type": "code",
      "source": [
        "### Training error and test error\n",
        "def loss(y_test, prediction):\n",
        "  return np.sqrt(np.mean((y_test - prediction)**2))\n",
        "\n",
        "error = loss(y_test, prediction)\n",
        "error"
      ],
      "metadata": {
        "id": "zVMo6BF_ediw",
        "colab": {
          "base_uri": "https://localhost:8080/"
        },
        "outputId": "d3e486da-aa3c-4660-e91c-41ff41124ff9"
      },
      "execution_count": 75,
      "outputs": [
        {
          "output_type": "execute_result",
          "data": {
            "text/plain": [
              "4.718639896481515"
            ]
          },
          "metadata": {},
          "execution_count": 75
        }
      ]
    },
    {
      "cell_type": "markdown",
      "source": [
        "#### 2. Gradient Descent"
      ],
      "metadata": {
        "id": "r8MYjq1qHnM1"
      }
    },
    {
      "cell_type": "markdown",
      "source": [
        "\n",
        "Gradient of a function $f$ at a point $x$ gives the direction of maximum change in $f$ at the point $x$.\n",
        "\n",
        "---\n",
        "\n",
        "We start at a random point $\\mathbf{w}$ at the loss function $L(\\mathbf{w})$.\n",
        "\n",
        "\n",
        "We basically need an update rule in gradient descent, which is as follows:\n",
        "\n",
        "\\begin{eqnarray}\n",
        "\\mathbf{w}_{k+1} &:=& \\mathbf{w}_k - \\alpha{\\frac{\\partial L(\\mathbf{w})}{\\partial \\mathbf{w}}} \\\\\n",
        "   &:=& \\mathbf{w}_k - \\alpha{\\left(\\mathbf{X} \\mathbf{X}^T \\mathbf{w}_{k} - \\mathbf{X} \\mathbf{y}\\right)} \\\\\n",
        "\\end{eqnarray}\n",
        "\n",
        "Note that this is the vectorized implementation.  It will make sure that all the parameters are updated in one go through this.\n"
      ],
      "metadata": {
        "id": "SxdpExPLHw5L"
      }
    },
    {
      "cell_type": "code",
      "source": [
        "X.shape"
      ],
      "metadata": {
        "colab": {
          "base_uri": "https://localhost:8080/"
        },
        "id": "w38Su4SfqxxJ",
        "outputId": "ccfd2984-d199-4e37-828e-7202111b1c12"
      },
      "execution_count": 76,
      "outputs": [
        {
          "output_type": "execute_result",
          "data": {
            "text/plain": [
              "(2, 400)"
            ]
          },
          "metadata": {},
          "execution_count": 76
        }
      ]
    },
    {
      "cell_type": "code",
      "source": [
        "### Gradient descent\n",
        "def gradient(X, y, w):\n",
        "  return (X@X.T)@w-(X@y)\n",
        "\n",
        "def gradient_decent(x,y,learning_rate = 1, iteration = 20):\n",
        "  w = np.zeros(x.shape[0]).reshape(-1,1)\n",
        "  for i in range(iteration):\n",
        "    w = w-learning_rate*(gradient(x,y,w))\n",
        "  return w\n",
        "\n",
        "w_g = gradient_decent(X, y_train, 0.001, 20)\n",
        "print(w)\n",
        "\n",
        "y_hat = predict(X, w_g)\n",
        "error = loss(y_train, y_hat)\n",
        "print(\"error\", error)"
      ],
      "metadata": {
        "id": "aJ08wiSLeiMx",
        "colab": {
          "base_uri": "https://localhost:8080/"
        },
        "outputId": "28b38111-482d-4dde-ff3c-f5919cb00bb1"
      },
      "execution_count": 98,
      "outputs": [
        {
          "output_type": "stream",
          "name": "stdout",
          "text": [
            "[[7.93982825]\n",
            " [4.79910241]]\n",
            "error 4.4770020114031635\n"
          ]
        }
      ]
    },
    {
      "cell_type": "markdown",
      "source": [
        "### Number of iterations vs loss (for fixed alpha)"
      ],
      "metadata": {
        "id": "kQmmqovFoKkx"
      }
    },
    {
      "cell_type": "code",
      "source": [
        "### Plot nunber of iterations vs loss\n",
        "iterations = np.arange(1, 20, 5)\n",
        "error = np.array([])\n",
        "for i in iterations:\n",
        "  w_gg = gradient_decent(X, y_train, 0.001, i)\n",
        "  y_hat = predict(X_t, w_gg)\n",
        "  error_loss = loss(y_test, y_hat)\n",
        "  # print(i,w_gg, error_loss)\n",
        "  error = np.append(error, error_loss)\n",
        "\n",
        "# print(error)\n",
        "plt.plot(iterations, error);\n",
        "plt.title(\"Gradient decent loss\")"
      ],
      "metadata": {
        "id": "5rGjFal8ekdg",
        "colab": {
          "base_uri": "https://localhost:8080/",
          "height": 299
        },
        "outputId": "dc8b1fdc-1420-43c5-e25d-457855bdbd5e"
      },
      "execution_count": 104,
      "outputs": [
        {
          "output_type": "execute_result",
          "data": {
            "text/plain": [
              "Text(0.5, 1.0, 'Gradient decent loss')"
            ]
          },
          "metadata": {},
          "execution_count": 104
        },
        {
          "output_type": "display_data",
          "data": {
            "text/plain": [
              "<Figure size 432x288 with 1 Axes>"
            ],
            "image/png": "[encoded data removed]"
          },
          "metadata": {
            "needs_background": "light"
          }
        }
      ]
    },
    {
      "cell_type": "markdown",
      "source": [
        "###9 SGD:\n",
        "\n"
      ],
      "metadata": {
        "id": "PDmCReoUofgs"
      }
    },
    {
      "cell_type": "code",
      "source": [
        "### SGD\n",
        "X.shape"
      ],
      "metadata": {
        "id": "BTz4yLWuwwb7",
        "colab": {
          "base_uri": "https://localhost:8080/"
        },
        "outputId": "d1793d24-f2bc-4f33-eb69-a8aebac6f573"
      },
      "execution_count": 91,
      "outputs": [
        {
          "output_type": "execute_result",
          "data": {
            "text/plain": [
              "(2, 400)"
            ]
          },
          "metadata": {},
          "execution_count": 91
        }
      ]
    },
    {
      "cell_type": "code",
      "source": [
        "def sgd(X, y, learning_rate, iterations, size_r=5):\n",
        "  w0 = np.zeros(X.shape[0]).reshape(-1, 1)\n",
        "  for i in range(iterations):\n",
        "    rng = np.random.default_rng(seed = i)\n",
        "    indices = rng.integers(X.shape[1], size=X.shape[1]//size_r)\n",
        "    X1, y1 = X[:, indices], y[indices]\n",
        "    # print(X1.shape, y1.shape, w0.shape)\n",
        "    w0 = w0-learning_rate*(gradient(X1, y1, w0)) \n",
        "  return w0\n",
        "\n",
        "\n",
        "w_sgd = sgd(X, y_train, 0.001, 20)\n",
        "w_sgd"
      ],
      "metadata": {
        "id": "NxONb5vnwvp6",
        "colab": {
          "base_uri": "https://localhost:8080/"
        },
        "outputId": "22a17aad-7230-4541-98b8-03f14ecb3b92"
      },
      "execution_count": 101,
      "outputs": [
        {
          "output_type": "execute_result",
          "data": {
            "text/plain": [
              "array([[6.57485809],\n",
              "       [4.57749801]])"
            ]
          },
          "metadata": {},
          "execution_count": 101
        }
      ]
    },
    {
      "cell_type": "code",
      "source": [
        "### Plot nunber of iterations vs loss\n",
        "iterations = np.arange(1, 100, 10)\n",
        "error = np.array([])\n",
        "for i in iterations:\n",
        "  w_gg = sgd(X, y_train, 0.001, i)\n",
        "  y_hat = predict(X_t, w_gg)\n",
        "  error_loss = loss(y_test, y_hat)\n",
        "  # print(i,w_gg, error_loss)\n",
        "  error = np.append(error, error_loss)\n",
        "\n",
        "# print(error)\n",
        "plt.plot(iterations, error);\n",
        "plt.title(\"SDG loss\")"
      ],
      "metadata": {
        "colab": {
          "base_uri": "https://localhost:8080/",
          "height": 299
        },
        "id": "1nkS3IZt2f9d",
        "outputId": "e9598e59-b007-4c3f-e36e-03102c748eb5"
      },
      "execution_count": 106,
      "outputs": [
        {
          "output_type": "execute_result",
          "data": {
            "text/plain": [
              "Text(0.5, 1.0, 'SDG loss')"
            ]
          },
          "metadata": {},
          "execution_count": 106
        },
        {
          "output_type": "display_data",
          "data": {
            "text/plain": [
              "<Figure size 432x288 with 1 Axes>"
            ],
            "image/png": "[encoded data removed]"
          },
          "metadata": {
            "needs_background": "light"
          }
        }
      ]
    },
    {
      "cell_type": "markdown",
      "source": [
        "## Kernel Regression\n",
        "\n"
      ],
      "metadata": {
        "id": "Nco8j8s1VOFa"
      }
    },
    {
      "cell_type": "markdown",
      "source": [
        "* The optimal weight vector can be written as linear combination of data points.\n",
        "\n",
        "---\n",
        "\n",
        "Let $\\phi$ be the trainsformation mapping that trasforms the $d$-dimensional data points to $D$-dimension.\n",
        "\n",
        "$$\\phi: \\mathbb{R}^d \\rightarrow \\mathbb{R}^D$$\n",
        "\n",
        "Then\n",
        "\n",
        "$$\\mathbf{w} = \\phi(\\mathbf{X})\\alpha$$\n",
        "\n",
        "where,\n",
        "\n",
        "* $\\mathbf{X}$ = Feature matrix of shape $(d, n)$\n",
        "* $\\alpha = [\\alpha_1, \\alpha_2, ..., \\alpha_n]^T \\in \\mathbb{R}^n$\n",
        "\n"
      ],
      "metadata": {
        "id": "-lEj5azOBtAd"
      }
    },
    {
      "cell_type": "markdown",
      "source": [
        "Here \n",
        "\n",
        "$$\\alpha = K^{-1}y$$\n",
        "\n",
        "where,\n",
        "\\begin{equation}\n",
        " K_{n \\times n} = \\begin{bmatrix}\n",
        "       k(\\mathbf{x}_1,\\mathbf{x}_1) & k(\\mathbf{x}_1,\\mathbf{x}_2) &\\dots & k(\\mathbf{x}_1,\\mathbf{x}_n)\\\\\n",
        "        k(\\mathbf{x}_2,\\mathbf{x}_1) & k(\\mathbf{x}_2,\\mathbf{x}_2) &\\dots & k(\\mathbf{x}_2,\\mathbf{x}_n)\\\\\n",
        "        \\vdots & \\vdots & \\dots & \\vdots\\\\\n",
        "       k(\\mathbf{x}_n,\\mathbf{x}_1) & k(\\mathbf{x}_n,\\mathbf{x}_2) &\\dots & k(\\mathbf{x}_n,\\mathbf{x}_n)\\\\\n",
        "    \\end{bmatrix}\n",
        "\\end{equation}\n",
        "\n",
        "Here, $k$ is the kernel function\n",
        "\n",
        "$$k: \\mathbb{R}^d \\times \\mathbb{R}^d \\rightarrow \\mathbb{R}\\\\ k(x_1, x_2) = \\phi(x_1)^T\\phi(x_2)\n",
        "$$"
      ],
      "metadata": {
        "id": "kp20Xt_GDT3B"
      }
    },
    {
      "cell_type": "code",
      "source": [
        "### K matrix and coefficient\n",
        "\n",
        "def polynomialKernal(X, p):\n",
        "  return (X.T@X+1)**p\n",
        "\n",
        "def coefficient(X, y, p):\n",
        "  K = polynomialKernal(X, p)\n",
        "  return np.linalg.pinv(K)@y\n",
        "\n"
      ],
      "metadata": {
        "id": "nMWfCoejerpm"
      },
      "execution_count": 108,
      "outputs": []
    },
    {
      "cell_type": "markdown",
      "source": [
        "## Prediction"
      ],
      "metadata": {
        "id": "__g386ueGBoH"
      }
    },
    {
      "cell_type": "markdown",
      "source": [
        "For a test point $\\mathbf{x}_t$, prediction is given by\n",
        "\n",
        "$$\\sum\\limits_{i=1}^{n}k(\\mathbf{x}_i, \\mathbf{x}_t)\\alpha_i$$\n",
        "\n"
      ],
      "metadata": {
        "id": "WEkJCpdVGFQ3"
      }
    },
    {
      "cell_type": "markdown",
      "source": [
        "#### Polynomial kernel of degree $p$:\n",
        "\n",
        "\n",
        "$k(\\mathbf{x}_1, \\mathbf{x}_2) = (\\mathbf{x}_1^T\\mathbf{x}_2+1)^p$"
      ],
      "metadata": {
        "id": "AGPoE7q3Hx-d"
      }
    },
    {
      "cell_type": "code",
      "source": [
        "### Polynomial Kernel\n",
        "\n"
      ],
      "metadata": {
        "id": "EhpPUAOuLNkp"
      },
      "execution_count": null,
      "outputs": []
    },
    {
      "cell_type": "markdown",
      "source": [
        "#### For prediction\n",
        "\n",
        "Let the training data matrix with $n$ examples is given by\n",
        " \\begin{equation}\n",
        "  \\mathbf{X}_{train} = \\begin{bmatrix}\n",
        "       | & | &\\dots & |\\\\\n",
        "       \\mathbf{x}_{1}&  \n",
        "       \\mathbf{x}_{2} & \n",
        "      \\dots &\n",
        "       \\mathbf{x}_{n}  \\\\\n",
        "        | & | &\\dots & |\\\\\n",
        "    \\end{bmatrix}\n",
        "\\end{equation}\n",
        "\n",
        "and the test data matrix with $m$ examples is given by\n",
        " \\begin{equation}\n",
        "  \\mathbf{X}_{test} = \\begin{bmatrix}\n",
        "       | & | &\\dots & |\\\\\n",
        "       \\mathbf{x}_{t1}&  \n",
        "       \\mathbf{x}_{t2} & \n",
        "      \\dots &\n",
        "       \\mathbf{x}_{tm}  \\\\\n",
        "        | & | &\\dots & |\\\\\n",
        "    \\end{bmatrix}\n",
        "\\end{equation}\n",
        "\n",
        "----\n",
        "\n",
        "Then \n",
        "\n",
        "\\begin{equation}\n",
        "  \\mathbf{X}_{train}^T \\mathbf{X}_{test}  = \\begin{bmatrix}\n",
        "       \\mathbf{x}_1^T\\mathbf{x}_{t1} &  \\mathbf{x}_1^T\\mathbf{x}_{t2}  &\\dots &  \\mathbf{x}_1^T\\mathbf{x}_{tm} \\\\\n",
        "      \\mathbf{x}_2^T\\mathbf{x}_{t1} &  \\mathbf{x}_2^T\\mathbf{x}_{t2}  &\\dots &  \\mathbf{x}_2^T\\mathbf{x}_{tm} \\\\\n",
        "        \\vdots & \\vdots &\\dots & \\vdots\\\\\n",
        "         \\mathbf{x}_n^T\\mathbf{x}_{t1} &  \\mathbf{x}_n^T\\mathbf{x}_{t2}  &\\dots &  \\mathbf{x}_n^T\\mathbf{x}_{tm} \\\\\n",
        "    \\end{bmatrix}\n",
        "\\end{equation}\n"
      ],
      "metadata": {
        "id": "TkjwkpKpOXxH"
      }
    },
    {
      "cell_type": "code",
      "source": [
        "### Prediction\n",
        "\n",
        "def poly_predict(X_train, y, X_test, p):\n",
        "  alpha = coefficient(X_train, y, p)\n",
        "  K_matrix = (X_train.T@X_test + 1)**p\n",
        "  return K_matrix.T@alpha\n",
        "\n",
        "y_poly_hat = poly_predict(X, y_train, X_t, 3)\n",
        "error_poly = loss(y_test, y_poly_hat)\n",
        "print(error_poly)"
      ],
      "metadata": {
        "id": "72M-Xoiwe8Ew",
        "colab": {
          "base_uri": "https://localhost:8080/"
        },
        "outputId": "1dc02bb7-c019-4698-b90b-9e23ec73f970"
      },
      "execution_count": 115,
      "outputs": [
        {
          "output_type": "stream",
          "name": "stdout",
          "text": [
            "2.110392110592152\n"
          ]
        }
      ]
    },
    {
      "cell_type": "markdown",
      "source": [
        "### degree vs loss"
      ],
      "metadata": {
        "id": "5OnaPAgPU29n"
      }
    },
    {
      "cell_type": "code",
      "source": [
        "### Plot degree vs loss\n",
        "degree = [1,2,3,4,5,6, 10]\n",
        "errors_plys = []\n",
        "for i in degree:\n",
        "  y_poly_hat = poly_predict(X, y_train, X_t, i)\n",
        "  error_poly = loss(y_test, y_poly_hat)\n",
        "  errors_plys.append(error_poly)\n",
        "\n",
        "plt.plot(degree, errors_plys)"
      ],
      "metadata": {
        "id": "70cn-98Se9lH",
        "colab": {
          "base_uri": "https://localhost:8080/",
          "height": 283
        },
        "outputId": "2577a506-650f-44c1-a600-4bb57c18d5dc"
      },
      "execution_count": 116,
      "outputs": [
        {
          "output_type": "execute_result",
          "data": {
            "text/plain": [
              "[<matplotlib.lines.Line2D at 0x7fdc23890be0>]"
            ]
          },
          "metadata": {},
          "execution_count": 116
        },
        {
          "output_type": "display_data",
          "data": {
            "text/plain": [
              "<Figure size 432x288 with 1 Axes>"
            ],
            "image/png": "[encoded data removed]"
          },
          "metadata": {
            "needs_background": "light"
          }
        }
      ]
    }
  ]
}