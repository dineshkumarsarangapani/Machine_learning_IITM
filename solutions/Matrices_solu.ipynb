{
  "nbformat": 4,
  "nbformat_minor": 0,
  "metadata": {
    "colab": {
      "provenance": [],
      "include_colab_link": true
    },
    "kernelspec": {
      "name": "python3",
      "display_name": "Python 3"
    },
    "language_info": {
      "name": "python"
    }
  },
  "cells": [
    {
      "cell_type": "markdown",
      "metadata": {
        "id": "view-in-github",
        "colab_type": "text"
      },
      "source": [
        "<a href=\"https://colab.research.google.com/github/dineshkumarsarangapani/Machine_learning_IITM/blob/main/solutions/Matrices_solu.ipynb\" target=\"_parent\"><img src=\"https://colab.research.google.com/assets/colab-badge.svg\" alt=\"Open In Colab\"/></a>"
      ]
    },
    {
      "cell_type": "markdown",
      "source": [
        "# Matrices\n"
      ],
      "metadata": {
        "id": "H729Vxqsdh5_"
      }
    },
    {
      "cell_type": "markdown",
      "source": [
        "## Import"
      ],
      "metadata": {
        "id": "iQLGiDT32DHY"
      }
    },
    {
      "cell_type": "code",
      "source": [
        "import numpy as np"
      ],
      "metadata": {
        "id": "NTY1DDOO6aQS"
      },
      "execution_count": 1,
      "outputs": []
    },
    {
      "cell_type": "markdown",
      "source": [
        "## Matrix as a `NumPy` array\n",
        "\n",
        "Everything in `NumPy` is an array. A matrix is also an array. Let us create a simple matrix:\n",
        "\n",
        "$$\n",
        "\\textbf{M} = \\begin{bmatrix}\n",
        "1 & 2 & 3\\\\\n",
        "4 & 5 & 6\\\\\n",
        "7 & 8 & 9\n",
        "\\end{bmatrix}\n",
        "$$\n",
        "\n",
        "In `NumPy`:"
      ],
      "metadata": {
        "id": "QchFdrAp6c0E"
      }
    },
    {
      "cell_type": "code",
      "source": [
        "x = np.array([[1,2,3], [4,5,6], [7,8,9]])\n",
        "x"
      ],
      "metadata": {
        "id": "DURrZ-wb6426",
        "colab": {
          "base_uri": "https://localhost:8080/"
        },
        "outputId": "e2bde7a4-0333-4540-f2c4-1277cd852407"
      },
      "execution_count": 3,
      "outputs": [
        {
          "output_type": "execute_result",
          "data": {
            "text/plain": [
              "array([[1, 2, 3],\n",
              "       [4, 5, 6],\n",
              "       [7, 8, 9]])"
            ]
          },
          "metadata": {},
          "execution_count": 3
        }
      ]
    },
    {
      "cell_type": "markdown",
      "source": [
        "## Adding two matrices\n",
        "\n",
        "Let us now add the following matrices:\n",
        "\n",
        "$$\n",
        "\\textbf{A} = \\begin{bmatrix}\n",
        "1 & 2\\\\\n",
        "3 & 4\n",
        "\\end{bmatrix}, \\textbf{B} = \\begin{bmatrix}\n",
        "5 & 6\\\\\n",
        "7 & 8\n",
        "\\end{bmatrix}\n",
        "$$\n",
        "\n",
        "then,\n",
        "\n",
        "$$\n",
        "\\textbf{C} = \\textbf{A} + \\textbf{B}  = \\begin{bmatrix}\n",
        "6 & 8\\\\\n",
        "10 & 12\n",
        "\\end{bmatrix}\n",
        "$$\n",
        "\n",
        "In `NumPy`:"
      ],
      "metadata": {
        "id": "L7h4kYjw7XKe"
      }
    },
    {
      "cell_type": "code",
      "source": [
        "a = np.array([[1,2],[3,4]])\n",
        "b = np.array([[5,6],[7,8]])\n",
        "c = a + b\n",
        "c"
      ],
      "metadata": {
        "id": "rOV92c-Y7SJT",
        "colab": {
          "base_uri": "https://localhost:8080/"
        },
        "outputId": "23d3b4fc-4af1-4f31-a724-ff2f9f078aec"
      },
      "execution_count": 4,
      "outputs": [
        {
          "output_type": "execute_result",
          "data": {
            "text/plain": [
              "array([[ 6,  8],\n",
              "       [10, 12]])"
            ]
          },
          "metadata": {},
          "execution_count": 4
        }
      ]
    },
    {
      "cell_type": "markdown",
      "source": [
        "## Scaling a matrix\n",
        "\n",
        "Scaling a matrix is nothing but element-wise multiplication:\n",
        "\n",
        "$$\n",
        "\\textbf{M} = \\begin{bmatrix}\n",
        "1 & 2 & 3\\\\\n",
        "4 & 5 & 6\\\\\n",
        "7 & 8 & 9\n",
        "\\end{bmatrix}\n",
        "$$\n",
        "\n",
        "then, \n",
        "\n",
        "$$\n",
        "3 \\textbf{M} = \\begin{bmatrix}\n",
        "3 & 6 & 9\\\\\n",
        "12 & 15 & 18\\\\\n",
        "21 & 24 & 27\n",
        "\\end{bmatrix}\n",
        "$$\n",
        "\n",
        "In `NumPy`:"
      ],
      "metadata": {
        "id": "m_pCQww198OD"
      }
    },
    {
      "cell_type": "code",
      "source": [
        "m = np.array([[1,2,3], [4,5,6], [7,8,9]])\n",
        "3*m"
      ],
      "metadata": {
        "id": "jM_o92DpBoYe",
        "colab": {
          "base_uri": "https://localhost:8080/"
        },
        "outputId": "ba133cc9-1a20-4694-d9a6-35f929dbbaff"
      },
      "execution_count": 5,
      "outputs": [
        {
          "output_type": "execute_result",
          "data": {
            "text/plain": [
              "array([[ 3,  6,  9],\n",
              "       [12, 15, 18],\n",
              "       [21, 24, 27]])"
            ]
          },
          "metadata": {},
          "execution_count": 5
        }
      ]
    },
    {
      "cell_type": "markdown",
      "source": [
        "## Element-wise multiplication of matrices\n",
        "\n",
        "Consider two matrices:\n",
        "\n",
        "$$\n",
        "\\textbf{A} = \\begin{bmatrix}\n",
        "1 & 2\\\\\n",
        "3 & 4\n",
        "\\end{bmatrix}, \\textbf{B} = \\begin{bmatrix}\n",
        "5 & 6\\\\\n",
        "7 & 8\n",
        "\\end{bmatrix}\n",
        "$$\n",
        "\n",
        "The element-wise product is given by $\\textbf{A} \\odot \\textbf{B}$:\n",
        "\n",
        "$$\n",
        "\\textbf{C} = \\textbf{A} \\odot \\textbf{B} = \\begin{bmatrix}\n",
        "5 & 12\\\\\n",
        "21 & 32\n",
        "\\end{bmatrix}\n",
        "$$\n",
        "\n",
        "In `NumPy`:"
      ],
      "metadata": {
        "id": "hmE4xEve7y0n"
      }
    },
    {
      "cell_type": "code",
      "source": [
        "a = np.array([[1,2],[3,4]])\n",
        "b = np.array([[5,6],[7,8]])\n",
        "c = a * b\n",
        "c"
      ],
      "metadata": {
        "id": "USCv3DX18gbD",
        "colab": {
          "base_uri": "https://localhost:8080/"
        },
        "outputId": "dea437dc-e689-4938-bce7-de320356aabc"
      },
      "execution_count": 6,
      "outputs": [
        {
          "output_type": "execute_result",
          "data": {
            "text/plain": [
              "array([[ 5, 12],\n",
              "       [21, 32]])"
            ]
          },
          "metadata": {},
          "execution_count": 6
        }
      ]
    },
    {
      "cell_type": "markdown",
      "source": [
        "## Element-wise functions of matrices\n",
        "\n",
        "Given a matrix, we sometimes would want to apply a function to every element of the matrix. We will consider two examples."
      ],
      "metadata": {
        "id": "V3iWGy8-8xho"
      }
    },
    {
      "cell_type": "markdown",
      "source": [
        "### Example-1\n",
        "\n",
        "For example, we may want to take the absolute value of all the elements. Let us say $f(x) = |x|$, then:\n",
        "\n",
        "$$\n",
        "\\mathbf{A} = \\begin{bmatrix}\n",
        "-1 & 2\\\\\n",
        "-3 & -4\n",
        "\\end{bmatrix}\n",
        "$$\n",
        "\n",
        "then:\n",
        "\n",
        "$$\n",
        "\\begin{bmatrix}\n",
        "f(-1) & f(2)\\\\\n",
        "f(-3) & f(-4)\n",
        "\\end{bmatrix} = \n",
        "\\begin{bmatrix}\n",
        "1 & 2\\\\\n",
        "3 & 4\n",
        "\\end{bmatrix}\n",
        "$$\n",
        "\n",
        "In `NumPy`, this becomes:"
      ],
      "metadata": {
        "id": "gVkkmUzNvppN"
      }
    },
    {
      "cell_type": "code",
      "source": [
        "A = np.array([[-1,2], [-3,-4]])\n",
        "np.abs(A)"
      ],
      "metadata": {
        "id": "8svqjjFy-QG9",
        "colab": {
          "base_uri": "https://localhost:8080/"
        },
        "outputId": "3a55d748-2c1a-4150-f254-9262b35e44c0"
      },
      "execution_count": 7,
      "outputs": [
        {
          "output_type": "execute_result",
          "data": {
            "text/plain": [
              "array([[1, 2],\n",
              "       [3, 4]])"
            ]
          },
          "metadata": {},
          "execution_count": 7
        }
      ]
    },
    {
      "cell_type": "markdown",
      "source": [
        "### Example-2\n",
        "\n",
        "We might want to square each element of the matrix. If $\\textbf{A}$ is a matrix, then $\\textbf{B}$ could be defined element-wise as follows:\n",
        "\n",
        "$$\n",
        "B_{ij} = A_{ij}^2\n",
        "$$\n",
        "\n",
        "Let us compute $\\mathbf{B}$ for the following matrix:\n",
        "\n",
        "$$\n",
        "\\mathbf{A} = \\begin{bmatrix}\n",
        "1 & \\sqrt{2}\\\\\n",
        "\\sqrt{3} & 2\n",
        "\\end{bmatrix}\n",
        "$$\n",
        "\n",
        "In `NumPy`:"
      ],
      "metadata": {
        "id": "FYiMrhwx-hXT"
      }
    },
    {
      "cell_type": "code",
      "source": [
        "A = np.array([[1,np.sqrt(2)], [np.sqrt(3),2]])\n",
        "B = A**2\n",
        "B"
      ],
      "metadata": {
        "id": "uqym9th4-ywH",
        "colab": {
          "base_uri": "https://localhost:8080/"
        },
        "outputId": "42ab68e5-4509-4955-d200-9e3e37f6ab16"
      },
      "execution_count": 8,
      "outputs": [
        {
          "output_type": "execute_result",
          "data": {
            "text/plain": [
              "array([[1., 2.],\n",
              "       [3., 4.]])"
            ]
          },
          "metadata": {},
          "execution_count": 8
        }
      ]
    },
    {
      "cell_type": "markdown",
      "source": [
        "## Transpose of a matrix\n",
        "\n",
        "Given a matrix $\\textbf{M}$:\n",
        "\n",
        "$$\n",
        "\\textbf{M} = \\begin{bmatrix}\n",
        "1 & 2 & 3\\\\\n",
        "4 & 5 & 6\n",
        "\\end{bmatrix}\n",
        "$$\n",
        "\n",
        "then, its transpose $\\textbf{M}^{T}$ is:\n",
        "\n",
        "$$\n",
        "\\textbf{M}^{T} = \\begin{bmatrix}\n",
        "1 & 4\\\\\n",
        "2 & 5\\\\\n",
        "3 & 6\n",
        "\\end{bmatrix}\n",
        "$$\n",
        "\n",
        "In `NumPy`:"
      ],
      "metadata": {
        "id": "-Pfh-LgH_AHi"
      }
    },
    {
      "cell_type": "code",
      "source": [
        "MT = np.array([[1,2,3], [4,5,6]])\n",
        "MT.T"
      ],
      "metadata": {
        "id": "9uBXpMH3_5pw",
        "colab": {
          "base_uri": "https://localhost:8080/"
        },
        "outputId": "4ab49a8e-c33b-43ef-f863-6922427accf2"
      },
      "execution_count": 9,
      "outputs": [
        {
          "output_type": "execute_result",
          "data": {
            "text/plain": [
              "array([[1, 4],\n",
              "       [2, 5],\n",
              "       [3, 6]])"
            ]
          },
          "metadata": {},
          "execution_count": 9
        }
      ]
    },
    {
      "cell_type": "markdown",
      "source": [
        "## Product of two matrices\n",
        "\n",
        "Given two matrices:\n",
        "\n",
        "$$\n",
        "\\textbf{A} = \\begin{bmatrix}\n",
        "1 & 2 & 3\\\\\n",
        "4 & 5 & 6\n",
        "\\end{bmatrix}, \\textbf{B} = \\begin{bmatrix}\n",
        "6 & 7\\\\\n",
        "8 & 9\\\\\n",
        "10 & 11\n",
        "\\end{bmatrix}\n",
        "$$\n",
        "\n",
        "then,\n",
        "\n",
        "$$\n",
        "\\textbf{C} = \\textbf{A} \\times \\textbf{B} = \\begin{bmatrix}\n",
        "52 & 58\\\\\n",
        "124 & 139\n",
        "\\end{bmatrix}\n",
        "$$\n",
        "\n",
        "In `NumPy`:"
      ],
      "metadata": {
        "id": "ugLU7PhgA548"
      }
    },
    {
      "cell_type": "code",
      "source": [
        "A = np.array([[1,2,3],[4,5,6]])\n",
        "B = np.array([[6,7],[8,9],[10,11]])\n",
        "C = A@B\n",
        "C"
      ],
      "metadata": {
        "id": "sbiOJrIzBkFg",
        "colab": {
          "base_uri": "https://localhost:8080/"
        },
        "outputId": "353bf4d2-f36e-43b6-ba28-deaaa751f5e7"
      },
      "execution_count": 12,
      "outputs": [
        {
          "output_type": "execute_result",
          "data": {
            "text/plain": [
              "array([[ 52,  58],\n",
              "       [124, 139]])"
            ]
          },
          "metadata": {},
          "execution_count": 12
        }
      ]
    },
    {
      "cell_type": "markdown",
      "source": [
        "## Product of a matrix and a vector\n",
        "\n",
        "Given the matrix $\\mathbf{A}$ and the vector $\\mathbf{x}$:\n",
        "\n",
        "$$\n",
        "\\mathbf{A} = \\begin{bmatrix}\n",
        "1 & 2 & 3\\\\\n",
        "4 & 5 & 6\\\\\n",
        "7 & 8 & 9\n",
        "\\end{bmatrix}, \\mathbf{x} = \\begin{bmatrix}\n",
        "6\\\\\n",
        "7\\\\\n",
        "8\n",
        "\\end{bmatrix}\n",
        "$$\n",
        "\n",
        "The product $\\mathbf{Ax}$ is given by:\n",
        "\n",
        "$$\n",
        "\\mathbf{C} = \\mathbf{A x} = \\begin{bmatrix}\n",
        "44\\\\\n",
        "107\\\\\n",
        "170\n",
        "\\end{bmatrix}\n",
        "$$\n",
        "\n",
        "In `NumPy`:"
      ],
      "metadata": {
        "id": "zdFPst7KCtgl"
      }
    },
    {
      "cell_type": "code",
      "source": [
        "A = np.array([[1,2,3],[4,5,6],[7,8,9]])\n",
        "B = np.array([[6,7,8]])\n",
        "C = A@B.T\n",
        "C"
      ],
      "metadata": {
        "id": "F9tQwGumDfgv",
        "colab": {
          "base_uri": "https://localhost:8080/"
        },
        "outputId": "b1ac6302-a5c2-4697-9fbb-4c36f141f4bf"
      },
      "execution_count": 18,
      "outputs": [
        {
          "output_type": "execute_result",
          "data": {
            "text/plain": [
              "array([[ 44],\n",
              "       [107],\n",
              "       [170]])"
            ]
          },
          "metadata": {},
          "execution_count": 18
        }
      ]
    },
    {
      "cell_type": "markdown",
      "source": [
        "## Matrix of zeros\n",
        "\n",
        "In many algorithms, we might have to initialize a matrix with zeros. For example, consider a $2 \\times 4$ matrix:\n",
        "\n",
        "$$\n",
        "\\mathbf{M} = \\begin{bmatrix}\n",
        "0 & 0 & 0 & 0\\\\\n",
        "0 & 0 & 0 & 0\n",
        "\\end{bmatrix}\n",
        "$$\n",
        "\n",
        "In `NumPy`:"
      ],
      "metadata": {
        "id": "KShBdBZcQpTN"
      }
    },
    {
      "cell_type": "code",
      "source": [
        "np.zeros([2,4])"
      ],
      "metadata": {
        "id": "x38VjAKRRAFk",
        "colab": {
          "base_uri": "https://localhost:8080/"
        },
        "outputId": "c429ab3c-f4b0-4463-e510-bbd28594a53c"
      },
      "execution_count": 21,
      "outputs": [
        {
          "output_type": "execute_result",
          "data": {
            "text/plain": [
              "array([[0., 0., 0., 0.],\n",
              "       [0., 0., 0., 0.]])"
            ]
          },
          "metadata": {},
          "execution_count": 21
        }
      ]
    },
    {
      "cell_type": "markdown",
      "source": [
        "## Matrix of ones\n",
        "\n",
        "Similar to a matrix of zeros, we can come up with a matrix of ones. \n",
        "\n",
        "$$\n",
        "\\mathbf{M} = \\begin{bmatrix}\n",
        "1 & 1\\\\\n",
        "1 & 1\\\\\n",
        "1 & 1\n",
        "\\end{bmatrix}\n",
        "$$\n",
        "\n",
        "In `NumPy`:"
      ],
      "metadata": {
        "id": "hEg3EbveRWyc"
      }
    },
    {
      "cell_type": "code",
      "source": [
        "np.ones([3,2])"
      ],
      "metadata": {
        "id": "kdApYPy7RlUd",
        "colab": {
          "base_uri": "https://localhost:8080/"
        },
        "outputId": "51c1c67e-8a58-4b25-803f-833737c996de"
      },
      "execution_count": 22,
      "outputs": [
        {
          "output_type": "execute_result",
          "data": {
            "text/plain": [
              "array([[1., 1.],\n",
              "       [1., 1.],\n",
              "       [1., 1.]])"
            ]
          },
          "metadata": {},
          "execution_count": 22
        }
      ]
    },
    {
      "cell_type": "markdown",
      "source": [
        "## Identity matrix\n",
        "\n",
        "Often, we might have to deal with identity matrices. A $3 \\times 3$ identity matrix is as follows:\n",
        "\n",
        "$$\n",
        "\\mathbf{I} = \\begin{bmatrix}\n",
        "1 & 0 & 0\\\\\n",
        "0 & 1 & 0\\\\\n",
        "0 & 0 & 1\n",
        "\\end{bmatrix}\n",
        "$$\n",
        "\n",
        "In `NumPy`:"
      ],
      "metadata": {
        "id": "hhHfmOEiSknK"
      }
    },
    {
      "cell_type": "code",
      "source": [
        "np.eye(3)"
      ],
      "metadata": {
        "id": "sTLClyKSS8s-",
        "colab": {
          "base_uri": "https://localhost:8080/"
        },
        "outputId": "ee08e873-5e90-45dc-fd2c-aaf2f865f258"
      },
      "execution_count": 25,
      "outputs": [
        {
          "output_type": "execute_result",
          "data": {
            "text/plain": [
              "array([[1., 0., 0.],\n",
              "       [0., 1., 0.],\n",
              "       [0., 0., 1.]])"
            ]
          },
          "metadata": {},
          "execution_count": 25
        }
      ]
    },
    {
      "cell_type": "markdown",
      "source": [
        "## Diagonal matrices\n",
        "\n",
        "Another special kind of matrix. Let us create the following matrix:\n",
        "\n",
        "$$\n",
        "\\mathbf{D} = \\begin{bmatrix}\n",
        "1 & 0 & 0 & 0\\\\\n",
        "0 & 2 & 0 & 0\\\\\n",
        "0 & 0 & 3 & 0\\\\\n",
        "0 & 0 & 0 & 4\n",
        "\\end{bmatrix}\n",
        "$$\n",
        "\n",
        "In `NumPy`:"
      ],
      "metadata": {
        "id": "gsSwBuSExQX1"
      }
    },
    {
      "cell_type": "code",
      "source": [
        "np.diag([1,2,3,4])"
      ],
      "metadata": {
        "id": "fLZ8y1ODxgq6",
        "colab": {
          "base_uri": "https://localhost:8080/"
        },
        "outputId": "bad4d152-a38d-4ba0-b442-ba43169ea72d"
      },
      "execution_count": 26,
      "outputs": [
        {
          "output_type": "execute_result",
          "data": {
            "text/plain": [
              "array([[1, 0, 0, 0],\n",
              "       [0, 2, 0, 0],\n",
              "       [0, 0, 3, 0],\n",
              "       [0, 0, 0, 4]])"
            ]
          },
          "metadata": {},
          "execution_count": 26
        }
      ]
    },
    {
      "cell_type": "markdown",
      "source": [
        "## Shape and dimension of a matrix\n",
        "\n",
        "Matrices are \"two dimensional\" arrays. So all matrices in `NumPy` have array-dimension equal to two. The shape of the `NumPy` array gives what we usually call the dimension of the matrix in the linear algebra sense.\n",
        "\n",
        "Explore these two ideas for:\n",
        "\n",
        "$$\n",
        "\\mathbf{M} = \\begin{bmatrix}\n",
        "1 & 2 & 3\\\\\n",
        "4 & 5 & 6\\\\\n",
        "\\end{bmatrix}\n",
        "$$\n",
        "\n",
        "In `NumPy`:"
      ],
      "metadata": {
        "id": "wDsjZjevz1eg"
      }
    },
    {
      "cell_type": "code",
      "source": [
        "a.shape"
      ],
      "metadata": {
        "id": "ryMwAoZOz8Dc",
        "colab": {
          "base_uri": "https://localhost:8080/"
        },
        "outputId": "b22bdacd-d17f-4e4e-b91c-ece2f71e8c0e"
      },
      "execution_count": 27,
      "outputs": [
        {
          "output_type": "execute_result",
          "data": {
            "text/plain": [
              "(2, 2)"
            ]
          },
          "metadata": {},
          "execution_count": 27
        }
      ]
    }
  ]
}