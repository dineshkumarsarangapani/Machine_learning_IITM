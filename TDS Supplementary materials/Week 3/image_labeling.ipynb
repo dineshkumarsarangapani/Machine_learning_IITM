{
  "nbformat": 4,
  "nbformat_minor": 0,
  "metadata": {
    "colab": {
      "name": "image_labeling.ipynb",
      "provenance": []
    },
    "kernelspec": {
      "name": "python3",
      "display_name": "Python 3"
    },
    "language_info": {
      "name": "python"
    }
  },
  "cells": [
    {
      "cell_type": "code",
      "metadata": {
        "id": "bB2RkEo4N7Aa"
      },
      "source": [
        "import requests, lxml, re, urllib.parse, base64\n",
        "from bs4 import BeautifulSoup\n",
        "from PIL import Image\n",
        "from io import BytesIO"
      ],
      "execution_count": null,
      "outputs": []
    },
    {
      "cell_type": "code",
      "metadata": {
        "id": "oiIXDcZmNUlQ"
      },
      "source": [
        "headers = {\n",
        "    \"User-Agent\":\n",
        "    \"Mozilla/5.0 (Windows NT 10.0; Win64; x64) AppleWebKit/537.36 (KHTML, like Gecko) Chrome/70.0.3538.102 Safari/537.36 Edge/18.19582\"\n",
        "}\n",
        "\n",
        "params = {\n",
        "    \"q\": \"chess pawn\",\n",
        "    \"sourceid\": \"chrome\",\n",
        "}\n",
        "query_term = params['q']\n",
        "html = requests.get(\"https://www.google.com/search\", params=params, headers=headers)\n",
        "soup = BeautifulSoup(html.text, 'lxml')\n",
        "\n",
        "for result in soup.select('div[jsname=dTDiAc]'):\n",
        "    link = f\"https://www.google.com{result.a['href']}\"\n",
        "    being_used_on = result['data-lpage']\n",
        "    print(f'Link: {link}\\nBeing used on: {being_used_on}\\n')\n",
        "\n",
        "# finding all script (<script>) tags\n",
        "script_img_tags = soup.find_all('script')\n",
        "\n",
        "# https://regex101.com/r/L3IZXe/4\n",
        "img_matches = re.findall(r\"s='data:image/jpeg;base64,(.*?)';\", str(script_img_tags))\n",
        "\n",
        "for index, image in enumerate(img_matches):\n",
        "    try:\n",
        "        # https://stackoverflow.com/a/6966225/15164646\n",
        "        final_image = Image.open(BytesIO(base64.b64decode(str(image))))\n",
        "\n",
        "        # https://www.educative.io/edpresso/absolute-vs-relative-path\n",
        "        # https://stackoverflow.com/a/31434485/15164646\n",
        "        final_image.save(f'{query_term}_{index}.jpg', 'JPEG')\n",
        "    except:\n",
        "        pass"
      ],
      "execution_count": null,
      "outputs": []
    },
    {
      "cell_type": "code",
      "metadata": {
        "id": "-IyQSuvbN3A9"
      },
      "source": [
        ""
      ],
      "execution_count": null,
      "outputs": []
    }
  ]
}